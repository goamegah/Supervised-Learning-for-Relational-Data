{
 "cells": [
  {
   "cell_type": "markdown",
   "id": "a4cc7dd4-dce9-4a47-b940-31e29893e20c",
   "metadata": {},
   "source": [
    "# Comparative of supevised learning methods for relational data"
   ]
  },
  {
   "cell_type": "markdown",
   "id": "95b8f10f-7448-4020-95c6-56c3f0aac834",
   "metadata": {},
   "source": [
    "## Import and setting "
   ]
  },
  {
   "cell_type": "code",
   "execution_count": 1,
   "id": "e10f46a5-8db4-446f-a3fe-3e853d07105e",
   "metadata": {},
   "outputs": [],
   "source": [
    "# Classification Project: Sonar rocks or mines\n",
    "\n",
    "# Load libraries\n",
    "from matplotlib import pyplot\n",
    "from pandas import read_csv\n",
    "from pandas import set_option\n",
    "from pandas.plotting import scatter_matrix\n",
    "from sklearn.preprocessing import StandardScaler\n",
    "from sklearn.model_selection import train_test_split\n",
    "from sklearn.model_selection import KFold\n",
    "from sklearn.model_selection import cross_val_score\n",
    "from sklearn.model_selection import GridSearchCV\n",
    "from sklearn.metrics import classification_report\n",
    "from sklearn.metrics import confusion_matrix\n",
    "from sklearn.metrics import accuracy_score\n",
    "from sklearn.pipeline import Pipeline\n",
    "from sklearn.linear_model import LogisticRegression\n",
    "from sklearn.tree import DecisionTreeClassifier\n",
    "from sklearn.neighbors import KNeighborsClassifier\n",
    "from sklearn.discriminant_analysis import LinearDiscriminantAnalysis\n",
    "from sklearn.naive_bayes import GaussianNB\n",
    "from sklearn.svm import SVC\n",
    "from sklearn.ensemble import AdaBoostClassifier\n",
    "from sklearn.ensemble import GradientBoostingClassifier\n",
    "from sklearn.ensemble import RandomForestClassifier\n",
    "from sklearn.ensemble import ExtraTreesClassifier"
   ]
  },
  {
   "cell_type": "markdown",
   "id": "4e26f9a3-af05-484b-bff0-12ebae24f4e7",
   "metadata": {},
   "source": [
    "# Relational dataset"
   ]
  },
  {
   "cell_type": "code",
   "execution_count": 13,
   "id": "142915b6-230d-445f-8c70-c975d7e8815f",
   "metadata": {},
   "outputs": [
    {
     "data": {
      "text/plain": [
       "dict_keys(['__header__', '__version__', '__globals__', 'W', 'fea', 'gnd'])"
      ]
     },
     "execution_count": 13,
     "metadata": {},
     "output_type": "execute_result"
    }
   ],
   "source": [
    "import scipy.io\n",
    "import numpy as np\n",
    "mat = scipy.io.loadmat('./Donnees_relationnelles/cora.mat')\n",
    "mat.keys()"
   ]
  },
  {
   "cell_type": "code",
   "execution_count": 7,
   "id": "5e1432e3-fb5d-4354-a75d-d3636470a45a",
   "metadata": {},
   "outputs": [],
   "source": [
    "# get data \n",
    "X = np.array(mat.get('fea'))\n",
    "W = np.array(mat.get('W'))\n",
    "y = np.array(mat.get('gnd'))"
   ]
  },
  {
   "cell_type": "code",
   "execution_count": 9,
   "id": "c8b34415-61b3-40ec-b5a4-20201f1b4774",
   "metadata": {},
   "outputs": [
    {
     "data": {
      "text/plain": [
       "((2708, 1433), (2708, 2708), (2708, 1))"
      ]
     },
     "execution_count": 9,
     "metadata": {},
     "output_type": "execute_result"
    }
   ],
   "source": [
    "X.shape, W.shape, y.shape"
   ]
  },
  {
   "cell_type": "markdown",
   "id": "57ac411d-65d5-4fa9-9ba7-3ece18d5bd06",
   "metadata": {},
   "source": [
    "# Exploration et visualisation des données "
   ]
  },
  {
   "cell_type": "code",
   "execution_count": 16,
   "id": "e7b6db56-fed9-41da-b9a0-7bd3565ac98f",
   "metadata": {},
   "outputs": [
    {
     "data": {
      "text/plain": [
       "{1, 2, 3, 4, 5, 6, 7}"
      ]
     },
     "execution_count": 16,
     "metadata": {},
     "output_type": "execute_result"
    }
   ],
   "source": [
    "# nombre de classes \n",
    "set(np.unique(y))"
   ]
  },
  {
   "cell_type": "code",
   "execution_count": 20,
   "id": "4f55ba3a-424a-4b06-9d0e-fda2d2470389",
   "metadata": {},
   "outputs": [
    {
     "name": "stdout",
     "output_type": "stream",
     "text": [
      "Nombre d'éléments non nuls :  49216\n",
      "Nombre d'éléments :  3880564.0\n",
      "Sparsité :  0.9873173074841698\n"
     ]
    }
   ],
   "source": [
    "# le taux de sparsicité \n",
    "from numpy import count_nonzero\n",
    "\n",
    "nb_nonZero = count_nonzero(X)\n",
    "my_size = float(X.size)\n",
    "print(\"Nombre d'éléments non nuls : \", nb_nonZero)\n",
    "print(\"Nombre d'éléments : \", my_size)\n",
    "print(\"Sparsité : \", 1-(nb_nonZero/my_size))"
   ]
  },
  {
   "cell_type": "code",
   "execution_count": null,
   "id": "507ae978-03e0-4cb6-b326-17f16ecb102f",
   "metadata": {},
   "outputs": [],
   "source": []
  },
  {
   "cell_type": "markdown",
   "id": "a5f9d5fe-3a32-4d6f-874c-85b3a73c679c",
   "metadata": {},
   "source": [
    "# Application de méthodes de classification sur les données de l'espace initial"
   ]
  },
  {
   "cell_type": "code",
   "execution_count": null,
   "id": "0ba438ae-b50c-4b9e-8be2-17b11a518936",
   "metadata": {},
   "outputs": [],
   "source": []
  }
 ],
 "metadata": {
  "kernelspec": {
   "display_name": "Python 3 (ipykernel)",
   "language": "python",
   "name": "python3"
  },
  "language_info": {
   "codemirror_mode": {
    "name": "ipython",
    "version": 3
   },
   "file_extension": ".py",
   "mimetype": "text/x-python",
   "name": "python",
   "nbconvert_exporter": "python",
   "pygments_lexer": "ipython3",
   "version": "3.9.17"
  }
 },
 "nbformat": 4,
 "nbformat_minor": 5
}
