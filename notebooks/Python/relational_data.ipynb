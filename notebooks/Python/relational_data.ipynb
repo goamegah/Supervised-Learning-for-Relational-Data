{
 "cells": [
  {
   "cell_type": "markdown",
   "metadata": {
    "id": "a4cc7dd4-dce9-4a47-b940-31e29893e20c"
   },
   "source": [
    "# Comparative of supevised learning methods for relational data"
   ],
   "id": "a4cc7dd4-dce9-4a47-b940-31e29893e20c"
  },
  {
   "cell_type": "markdown",
   "metadata": {
    "id": "95b8f10f-7448-4020-95c6-56c3f0aac834"
   },
   "source": [
    "## Import and setting"
   ],
   "id": "95b8f10f-7448-4020-95c6-56c3f0aac834"
  },
  {
   "cell_type": "code",
   "execution_count": 1,
   "metadata": {
    "colab": {
     "base_uri": "https://localhost:8080/"
    },
    "id": "uxhgK8UbYCvI",
    "outputId": "3e9cc4aa-8b71-4ee1-b728-03d31b878165"
   },
   "outputs": [
    {
     "output_type": "stream",
     "name": "stdout",
     "text": [
      "Requirement already satisfied: umap-learn in /usr/local/lib/python3.10/dist-packages (0.5.5)\n",
      "Requirement already satisfied: numpy>=1.17 in /usr/local/lib/python3.10/dist-packages (from umap-learn) (1.23.5)\n",
      "Requirement already satisfied: scipy>=1.3.1 in /usr/local/lib/python3.10/dist-packages (from umap-learn) (1.11.4)\n",
      "Requirement already satisfied: scikit-learn>=0.22 in /usr/local/lib/python3.10/dist-packages (from umap-learn) (1.2.2)\n",
      "Requirement already satisfied: numba>=0.51.2 in /usr/local/lib/python3.10/dist-packages (from umap-learn) (0.58.1)\n",
      "Requirement already satisfied: pynndescent>=0.5 in /usr/local/lib/python3.10/dist-packages (from umap-learn) (0.5.11)\n",
      "Requirement already satisfied: tqdm in /usr/local/lib/python3.10/dist-packages (from umap-learn) (4.66.1)\n",
      "Requirement already satisfied: llvmlite<0.42,>=0.41.0dev0 in /usr/local/lib/python3.10/dist-packages (from numba>=0.51.2->umap-learn) (0.41.1)\n",
      "Requirement already satisfied: joblib>=0.11 in /usr/local/lib/python3.10/dist-packages (from pynndescent>=0.5->umap-learn) (1.3.2)\n",
      "Requirement already satisfied: threadpoolctl>=2.0.0 in /usr/local/lib/python3.10/dist-packages (from scikit-learn>=0.22->umap-learn) (3.2.0)\n"
     ]
    }
   ],
   "source": [
    "! pip install umap-learn"
   ],
   "id": "uxhgK8UbYCvI"
  },
  {
   "cell_type": "code",
   "execution_count": 2,
   "metadata": {
    "colab": {
     "base_uri": "https://localhost:8080/"
    },
    "id": "KYa0GQQ7ZJlS",
    "outputId": "2775c38e-a21f-4a24-9966-13e4e0db0480"
   },
   "outputs": [
    {
     "output_type": "stream",
     "name": "stdout",
     "text": [
      "Requirement already satisfied: datashader in /usr/local/lib/python3.10/dist-packages (0.16.0)\n",
      "Requirement already satisfied: bokeh in /usr/local/lib/python3.10/dist-packages (3.3.1)\n",
      "Requirement already satisfied: holoviews in /usr/local/lib/python3.10/dist-packages (1.17.1)\n",
      "Requirement already satisfied: scikit-image in /usr/local/lib/python3.10/dist-packages (0.19.3)\n",
      "Requirement already satisfied: colorcet in /usr/local/lib/python3.10/dist-packages (3.0.1)\n",
      "Requirement already satisfied: dask in /usr/local/lib/python3.10/dist-packages (from datashader) (2023.8.1)\n",
      "Requirement already satisfied: multipledispatch in /usr/local/lib/python3.10/dist-packages (from datashader) (1.0.0)\n",
      "Requirement already satisfied: numba in /usr/local/lib/python3.10/dist-packages (from datashader) (0.58.1)\n",
      "Requirement already satisfied: numpy in /usr/local/lib/python3.10/dist-packages (from datashader) (1.23.5)\n",
      "Requirement already satisfied: pandas in /usr/local/lib/python3.10/dist-packages (from datashader) (1.5.3)\n",
      "Requirement already satisfied: param in /usr/local/lib/python3.10/dist-packages (from datashader) (2.0.1)\n",
      "Requirement already satisfied: pillow in /usr/local/lib/python3.10/dist-packages (from datashader) (9.4.0)\n",
      "Requirement already satisfied: pyct in /usr/local/lib/python3.10/dist-packages (from datashader) (0.5.0)\n",
      "Requirement already satisfied: requests in /usr/local/lib/python3.10/dist-packages (from datashader) (2.31.0)\n",
      "Requirement already satisfied: scipy in /usr/local/lib/python3.10/dist-packages (from datashader) (1.11.4)\n",
      "Requirement already satisfied: toolz in /usr/local/lib/python3.10/dist-packages (from datashader) (0.12.0)\n",
      "Requirement already satisfied: xarray in /usr/local/lib/python3.10/dist-packages (from datashader) (2023.7.0)\n",
      "Requirement already satisfied: Jinja2>=2.9 in /usr/local/lib/python3.10/dist-packages (from bokeh) (3.1.2)\n",
      "Requirement already satisfied: contourpy>=1 in /usr/local/lib/python3.10/dist-packages (from bokeh) (1.2.0)\n",
      "Requirement already satisfied: packaging>=16.8 in /usr/local/lib/python3.10/dist-packages (from bokeh) (23.2)\n",
      "Requirement already satisfied: PyYAML>=3.10 in /usr/local/lib/python3.10/dist-packages (from bokeh) (6.0.1)\n",
      "Requirement already satisfied: tornado>=5.1 in /usr/local/lib/python3.10/dist-packages (from bokeh) (6.3.2)\n",
      "Requirement already satisfied: xyzservices>=2021.09.1 in /usr/local/lib/python3.10/dist-packages (from bokeh) (2023.10.1)\n",
      "Requirement already satisfied: pyviz-comms>=0.7.4 in /usr/local/lib/python3.10/dist-packages (from holoviews) (3.0.0)\n",
      "Requirement already satisfied: panel>=0.13.1 in /usr/local/lib/python3.10/dist-packages (from holoviews) (1.3.4)\n",
      "Requirement already satisfied: networkx>=2.2 in /usr/local/lib/python3.10/dist-packages (from scikit-image) (3.2.1)\n",
      "Requirement already satisfied: imageio>=2.4.1 in /usr/local/lib/python3.10/dist-packages (from scikit-image) (2.31.6)\n",
      "Requirement already satisfied: tifffile>=2019.7.26 in /usr/local/lib/python3.10/dist-packages (from scikit-image) (2023.9.26)\n",
      "Requirement already satisfied: PyWavelets>=1.1.1 in /usr/local/lib/python3.10/dist-packages (from scikit-image) (1.5.0)\n",
      "Requirement already satisfied: MarkupSafe>=2.0 in /usr/local/lib/python3.10/dist-packages (from Jinja2>=2.9->bokeh) (2.1.3)\n",
      "Requirement already satisfied: python-dateutil>=2.8.1 in /usr/local/lib/python3.10/dist-packages (from pandas->datashader) (2.8.2)\n",
      "Requirement already satisfied: pytz>=2020.1 in /usr/local/lib/python3.10/dist-packages (from pandas->datashader) (2023.3.post1)\n",
      "Requirement already satisfied: markdown in /usr/local/lib/python3.10/dist-packages (from panel>=0.13.1->holoviews) (3.5.1)\n",
      "Requirement already satisfied: markdown-it-py in /usr/local/lib/python3.10/dist-packages (from panel>=0.13.1->holoviews) (3.0.0)\n",
      "Requirement already satisfied: linkify-it-py in /usr/local/lib/python3.10/dist-packages (from panel>=0.13.1->holoviews) (2.0.2)\n",
      "Requirement already satisfied: mdit-py-plugins in /usr/local/lib/python3.10/dist-packages (from panel>=0.13.1->holoviews) (0.4.0)\n",
      "Requirement already satisfied: tqdm>=4.48.0 in /usr/local/lib/python3.10/dist-packages (from panel>=0.13.1->holoviews) (4.66.1)\n",
      "Requirement already satisfied: bleach in /usr/local/lib/python3.10/dist-packages (from panel>=0.13.1->holoviews) (6.1.0)\n",
      "Requirement already satisfied: typing-extensions in /usr/local/lib/python3.10/dist-packages (from panel>=0.13.1->holoviews) (4.5.0)\n",
      "Requirement already satisfied: click>=8.0 in /usr/local/lib/python3.10/dist-packages (from dask->datashader) (8.1.7)\n",
      "Requirement already satisfied: cloudpickle>=1.5.0 in /usr/local/lib/python3.10/dist-packages (from dask->datashader) (2.2.1)\n",
      "Requirement already satisfied: fsspec>=2021.09.0 in /usr/local/lib/python3.10/dist-packages (from dask->datashader) (2023.6.0)\n",
      "Requirement already satisfied: partd>=1.2.0 in /usr/local/lib/python3.10/dist-packages (from dask->datashader) (1.4.1)\n",
      "Requirement already satisfied: importlib-metadata>=4.13.0 in /usr/local/lib/python3.10/dist-packages (from dask->datashader) (6.8.0)\n",
      "Requirement already satisfied: llvmlite<0.42,>=0.41.0dev0 in /usr/local/lib/python3.10/dist-packages (from numba->datashader) (0.41.1)\n",
      "Requirement already satisfied: charset-normalizer<4,>=2 in /usr/local/lib/python3.10/dist-packages (from requests->datashader) (3.3.2)\n",
      "Requirement already satisfied: idna<4,>=2.5 in /usr/local/lib/python3.10/dist-packages (from requests->datashader) (3.6)\n",
      "Requirement already satisfied: urllib3<3,>=1.21.1 in /usr/local/lib/python3.10/dist-packages (from requests->datashader) (2.0.7)\n",
      "Requirement already satisfied: certifi>=2017.4.17 in /usr/local/lib/python3.10/dist-packages (from requests->datashader) (2023.11.17)\n",
      "Requirement already satisfied: zipp>=0.5 in /usr/local/lib/python3.10/dist-packages (from importlib-metadata>=4.13.0->dask->datashader) (3.17.0)\n",
      "Requirement already satisfied: locket in /usr/local/lib/python3.10/dist-packages (from partd>=1.2.0->dask->datashader) (1.0.0)\n",
      "Requirement already satisfied: six>=1.5 in /usr/local/lib/python3.10/dist-packages (from python-dateutil>=2.8.1->pandas->datashader) (1.16.0)\n",
      "Requirement already satisfied: webencodings in /usr/local/lib/python3.10/dist-packages (from bleach->panel>=0.13.1->holoviews) (0.5.1)\n",
      "Requirement already satisfied: uc-micro-py in /usr/local/lib/python3.10/dist-packages (from linkify-it-py->panel>=0.13.1->holoviews) (1.0.2)\n",
      "Requirement already satisfied: mdurl~=0.1 in /usr/local/lib/python3.10/dist-packages (from markdown-it-py->panel>=0.13.1->holoviews) (0.1.2)\n"
     ]
    }
   ],
   "source": [
    "! pip install datashader bokeh holoviews scikit-image colorcet"
   ],
   "id": "KYa0GQQ7ZJlS"
  },
  {
   "cell_type": "code",
   "execution_count": 3,
   "metadata": {
    "id": "e10f46a5-8db4-446f-a3fe-3e853d07105e",
    "colab": {
     "base_uri": "https://localhost:8080/"
    },
    "outputId": "caa9a73e-9231-42c0-e069-3ed477e76ad2"
   },
   "outputs": [
    {
     "output_type": "stream",
     "name": "stderr",
     "text": [
      "/usr/local/lib/python3.10/dist-packages/umap/plot.py:203: NumbaDeprecationWarning: The keyword argument 'nopython=False' was supplied. From Numba 0.59.0 the default is being changed to True and use of 'nopython=False' will raise a warning as the argument will have no effect. See https://numba.readthedocs.io/en/stable/reference/deprecation.html#deprecation-of-object-mode-fall-back-behaviour-when-using-jit for details.\n",
      "  @numba.jit(nopython=False)\n"
     ]
    }
   ],
   "source": [
    "# Classification Project: Sonar rocks or mines\n",
    "\n",
    "# Load libraries\n",
    "import matplotlib.pyplot as plt\n",
    "from pandas import read_csv\n",
    "from pandas import set_option\n",
    "from pandas.plotting import scatter_matrix\n",
    "from sklearn.preprocessing import StandardScaler\n",
    "\n",
    "from sklearn.model_selection import train_test_split\n",
    "from sklearn.model_selection import KFold\n",
    "from sklearn.model_selection import cross_val_score\n",
    "from sklearn.model_selection import GridSearchCV\n",
    "from sklearn.model_selection import RepeatedStratifiedKFold, StratifiedKFold\n",
    "\n",
    "from sklearn.metrics import classification_report\n",
    "from sklearn.metrics import confusion_matrix\n",
    "from sklearn.metrics import accuracy_score\n",
    "from sklearn.metrics import roc_curve, roc_auc_score\n",
    "from sklearn.metrics import precision_recall_fscore_support\n",
    "\n",
    "from sklearn.pipeline import Pipeline\n",
    "\n",
    "from sklearn.linear_model import LogisticRegression\n",
    "from sklearn.linear_model import RidgeClassifier\n",
    "\n",
    "from sklearn.tree import DecisionTreeClassifier\n",
    "from sklearn.neighbors import KNeighborsClassifier\n",
    "from sklearn.discriminant_analysis import LinearDiscriminantAnalysis\n",
    "from sklearn.naive_bayes import GaussianNB\n",
    "from sklearn.svm import SVC\n",
    "\n",
    "from sklearn.ensemble import AdaBoostClassifier\n",
    "from sklearn.ensemble import GradientBoostingClassifier\n",
    "from sklearn.ensemble import RandomForestClassifier\n",
    "from sklearn.ensemble import ExtraTreesClassifier\n",
    "from sklearn.ensemble import BaggingClassifier\n",
    "\n",
    "# dimension reduction\n",
    "from sklearn.decomposition import TruncatedSVD\n",
    "from sklearn.decomposition import PCA # ne supporte pas la sparcité\n",
    "from sklearn.decomposition import IncrementalPCA\n",
    "\n",
    "import umap\n",
    "import umap.plot\n",
    "from sklearn.manifold import TSNE # manifold learning\n",
    "\n",
    "from imblearn.over_sampling import SMOTE\n",
    "from imblearn.under_sampling import RandomUnderSampler\n",
    "from imblearn.pipeline import Pipeline as ImbPipeline\n",
    "\n",
    "from xgboost import XGBClassifier # XGBoost\n",
    "\n",
    "import numpy as np"
   ],
   "id": "e10f46a5-8db4-446f-a3fe-3e853d07105e"
  },
  {
   "cell_type": "markdown",
   "metadata": {
    "id": "4e26f9a3-af05-484b-bff0-12ebae24f4e7"
   },
   "source": [
    "# Relational dataset"
   ],
   "id": "4e26f9a3-af05-484b-bff0-12ebae24f4e7"
  },
  {
   "cell_type": "code",
   "execution_count": 7,
   "metadata": {
    "colab": {
     "base_uri": "https://localhost:8080/"
    },
    "id": "142915b6-230d-445f-8c70-c975d7e8815f",
    "outputId": "15a8c7e7-810b-4154-c63b-08dafede2fe8",
    "ExecuteTime": {
     "end_time": "2023-12-07T23:28:26.930380215Z",
     "start_time": "2023-12-07T23:28:26.758054422Z"
    }
   },
   "outputs": [
    {
     "data": {
      "text/plain": "dict_keys(['__header__', '__version__', '__globals__', 'W', 'fea', 'gnd'])"
     },
     "execution_count": 7,
     "metadata": {},
     "output_type": "execute_result"
    }
   ],
   "source": [
    "from pathlib import Path\n",
    "import scipy.io\n",
    "import numpy as np\n",
    "mat = scipy.io.loadmat(Path.cwd().parent.parent/'Donnees_relationnelles'/'cora.mat')\n",
    "mat.keys()"
   ],
   "id": "142915b6-230d-445f-8c70-c975d7e8815f"
  },
  {
   "cell_type": "code",
   "execution_count": 8,
   "metadata": {
    "id": "5e1432e3-fb5d-4354-a75d-d3636470a45a",
    "ExecuteTime": {
     "end_time": "2023-12-07T23:28:28.453984840Z",
     "start_time": "2023-12-07T23:28:28.360526108Z"
    }
   },
   "outputs": [],
   "source": [
    "# get data\n",
    "X = np.array(mat.get('fea'))\n",
    "W = np.array(mat.get('W'))\n",
    "y = np.array(mat.get('gnd'))"
   ],
   "id": "5e1432e3-fb5d-4354-a75d-d3636470a45a"
  },
  {
   "cell_type": "code",
   "execution_count": 9,
   "metadata": {
    "colab": {
     "base_uri": "https://localhost:8080/"
    },
    "id": "c8b34415-61b3-40ec-b5a4-20201f1b4774",
    "outputId": "4bcc2c25-f6b8-442a-dc55-d09799efa6dd",
    "ExecuteTime": {
     "end_time": "2023-12-07T23:28:29.509159327Z",
     "start_time": "2023-12-07T23:28:29.410470393Z"
    }
   },
   "outputs": [
    {
     "data": {
      "text/plain": "((2708, 1433), (2708, 2708), (2708, 1))"
     },
     "execution_count": 9,
     "metadata": {},
     "output_type": "execute_result"
    }
   ],
   "source": [
    "X.shape, W.shape, y.shape"
   ],
   "id": "c8b34415-61b3-40ec-b5a4-20201f1b4774"
  },
  {
   "cell_type": "code",
   "execution_count": 8,
   "metadata": {
    "colab": {
     "base_uri": "https://localhost:8080/",
     "height": 236
    },
    "id": "4d54bf60-e078-484b-a285-9bafaf60c695",
    "outputId": "796e301f-3ee7-4841-81d9-fc155f072454"
   },
   "outputs": [
    {
     "output_type": "execute_result",
     "data": {
      "text/plain": [
       "   0  1  2  3  4  5  6  7  8  9  ...  1424  1425  1426  1427  1428  1429  \\\n",
       "0  0  0  0  0  0  0  0  0  0  0  ...     0     0     0     0     0     0   \n",
       "1  0  0  0  0  0  0  0  0  0  0  ...     0     0     0     0     0     0   \n",
       "2  0  0  0  0  0  0  0  0  0  0  ...     0     0     0     0     0     0   \n",
       "3  0  0  0  0  0  0  0  0  0  0  ...     0     0     0     0     0     0   \n",
       "4  0  0  0  1  0  0  0  0  0  0  ...     0     0     0     0     0     0   \n",
       "\n",
       "   1430  1431  1432  label  \n",
       "0     0     0     0      4  \n",
       "1     0     0     0      5  \n",
       "2     0     0     0      5  \n",
       "3     0     0     0      1  \n",
       "4     0     0     0      4  \n",
       "\n",
       "[5 rows x 1434 columns]"
      ],
      "text/html": [
       "\n",
       "  <div id=\"df-974d50d7-d00d-4dd7-a5e8-ab5f52b852bd\" class=\"colab-df-container\">\n",
       "    <div>\n",
       "<style scoped>\n",
       "    .dataframe tbody tr th:only-of-type {\n",
       "        vertical-align: middle;\n",
       "    }\n",
       "\n",
       "    .dataframe tbody tr th {\n",
       "        vertical-align: top;\n",
       "    }\n",
       "\n",
       "    .dataframe thead th {\n",
       "        text-align: right;\n",
       "    }\n",
       "</style>\n",
       "<table border=\"1\" class=\"dataframe\">\n",
       "  <thead>\n",
       "    <tr style=\"text-align: right;\">\n",
       "      <th></th>\n",
       "      <th>0</th>\n",
       "      <th>1</th>\n",
       "      <th>2</th>\n",
       "      <th>3</th>\n",
       "      <th>4</th>\n",
       "      <th>5</th>\n",
       "      <th>6</th>\n",
       "      <th>7</th>\n",
       "      <th>8</th>\n",
       "      <th>9</th>\n",
       "      <th>...</th>\n",
       "      <th>1424</th>\n",
       "      <th>1425</th>\n",
       "      <th>1426</th>\n",
       "      <th>1427</th>\n",
       "      <th>1428</th>\n",
       "      <th>1429</th>\n",
       "      <th>1430</th>\n",
       "      <th>1431</th>\n",
       "      <th>1432</th>\n",
       "      <th>label</th>\n",
       "    </tr>\n",
       "  </thead>\n",
       "  <tbody>\n",
       "    <tr>\n",
       "      <th>0</th>\n",
       "      <td>0</td>\n",
       "      <td>0</td>\n",
       "      <td>0</td>\n",
       "      <td>0</td>\n",
       "      <td>0</td>\n",
       "      <td>0</td>\n",
       "      <td>0</td>\n",
       "      <td>0</td>\n",
       "      <td>0</td>\n",
       "      <td>0</td>\n",
       "      <td>...</td>\n",
       "      <td>0</td>\n",
       "      <td>0</td>\n",
       "      <td>0</td>\n",
       "      <td>0</td>\n",
       "      <td>0</td>\n",
       "      <td>0</td>\n",
       "      <td>0</td>\n",
       "      <td>0</td>\n",
       "      <td>0</td>\n",
       "      <td>4</td>\n",
       "    </tr>\n",
       "    <tr>\n",
       "      <th>1</th>\n",
       "      <td>0</td>\n",
       "      <td>0</td>\n",
       "      <td>0</td>\n",
       "      <td>0</td>\n",
       "      <td>0</td>\n",
       "      <td>0</td>\n",
       "      <td>0</td>\n",
       "      <td>0</td>\n",
       "      <td>0</td>\n",
       "      <td>0</td>\n",
       "      <td>...</td>\n",
       "      <td>0</td>\n",
       "      <td>0</td>\n",
       "      <td>0</td>\n",
       "      <td>0</td>\n",
       "      <td>0</td>\n",
       "      <td>0</td>\n",
       "      <td>0</td>\n",
       "      <td>0</td>\n",
       "      <td>0</td>\n",
       "      <td>5</td>\n",
       "    </tr>\n",
       "    <tr>\n",
       "      <th>2</th>\n",
       "      <td>0</td>\n",
       "      <td>0</td>\n",
       "      <td>0</td>\n",
       "      <td>0</td>\n",
       "      <td>0</td>\n",
       "      <td>0</td>\n",
       "      <td>0</td>\n",
       "      <td>0</td>\n",
       "      <td>0</td>\n",
       "      <td>0</td>\n",
       "      <td>...</td>\n",
       "      <td>0</td>\n",
       "      <td>0</td>\n",
       "      <td>0</td>\n",
       "      <td>0</td>\n",
       "      <td>0</td>\n",
       "      <td>0</td>\n",
       "      <td>0</td>\n",
       "      <td>0</td>\n",
       "      <td>0</td>\n",
       "      <td>5</td>\n",
       "    </tr>\n",
       "    <tr>\n",
       "      <th>3</th>\n",
       "      <td>0</td>\n",
       "      <td>0</td>\n",
       "      <td>0</td>\n",
       "      <td>0</td>\n",
       "      <td>0</td>\n",
       "      <td>0</td>\n",
       "      <td>0</td>\n",
       "      <td>0</td>\n",
       "      <td>0</td>\n",
       "      <td>0</td>\n",
       "      <td>...</td>\n",
       "      <td>0</td>\n",
       "      <td>0</td>\n",
       "      <td>0</td>\n",
       "      <td>0</td>\n",
       "      <td>0</td>\n",
       "      <td>0</td>\n",
       "      <td>0</td>\n",
       "      <td>0</td>\n",
       "      <td>0</td>\n",
       "      <td>1</td>\n",
       "    </tr>\n",
       "    <tr>\n",
       "      <th>4</th>\n",
       "      <td>0</td>\n",
       "      <td>0</td>\n",
       "      <td>0</td>\n",
       "      <td>1</td>\n",
       "      <td>0</td>\n",
       "      <td>0</td>\n",
       "      <td>0</td>\n",
       "      <td>0</td>\n",
       "      <td>0</td>\n",
       "      <td>0</td>\n",
       "      <td>...</td>\n",
       "      <td>0</td>\n",
       "      <td>0</td>\n",
       "      <td>0</td>\n",
       "      <td>0</td>\n",
       "      <td>0</td>\n",
       "      <td>0</td>\n",
       "      <td>0</td>\n",
       "      <td>0</td>\n",
       "      <td>0</td>\n",
       "      <td>4</td>\n",
       "    </tr>\n",
       "  </tbody>\n",
       "</table>\n",
       "<p>5 rows × 1434 columns</p>\n",
       "</div>\n",
       "    <div class=\"colab-df-buttons\">\n",
       "\n",
       "  <div class=\"colab-df-container\">\n",
       "    <button class=\"colab-df-convert\" onclick=\"convertToInteractive('df-974d50d7-d00d-4dd7-a5e8-ab5f52b852bd')\"\n",
       "            title=\"Convert this dataframe to an interactive table.\"\n",
       "            style=\"display:none;\">\n",
       "\n",
       "  <svg xmlns=\"http://www.w3.org/2000/svg\" height=\"24px\" viewBox=\"0 -960 960 960\">\n",
       "    <path d=\"M120-120v-720h720v720H120Zm60-500h600v-160H180v160Zm220 220h160v-160H400v160Zm0 220h160v-160H400v160ZM180-400h160v-160H180v160Zm440 0h160v-160H620v160ZM180-180h160v-160H180v160Zm440 0h160v-160H620v160Z\"/>\n",
       "  </svg>\n",
       "    </button>\n",
       "\n",
       "  <style>\n",
       "    .colab-df-container {\n",
       "      display:flex;\n",
       "      gap: 12px;\n",
       "    }\n",
       "\n",
       "    .colab-df-convert {\n",
       "      background-color: #E8F0FE;\n",
       "      border: none;\n",
       "      border-radius: 50%;\n",
       "      cursor: pointer;\n",
       "      display: none;\n",
       "      fill: #1967D2;\n",
       "      height: 32px;\n",
       "      padding: 0 0 0 0;\n",
       "      width: 32px;\n",
       "    }\n",
       "\n",
       "    .colab-df-convert:hover {\n",
       "      background-color: #E2EBFA;\n",
       "      box-shadow: 0px 1px 2px rgba(60, 64, 67, 0.3), 0px 1px 3px 1px rgba(60, 64, 67, 0.15);\n",
       "      fill: #174EA6;\n",
       "    }\n",
       "\n",
       "    .colab-df-buttons div {\n",
       "      margin-bottom: 4px;\n",
       "    }\n",
       "\n",
       "    [theme=dark] .colab-df-convert {\n",
       "      background-color: #3B4455;\n",
       "      fill: #D2E3FC;\n",
       "    }\n",
       "\n",
       "    [theme=dark] .colab-df-convert:hover {\n",
       "      background-color: #434B5C;\n",
       "      box-shadow: 0px 1px 3px 1px rgba(0, 0, 0, 0.15);\n",
       "      filter: drop-shadow(0px 1px 2px rgba(0, 0, 0, 0.3));\n",
       "      fill: #FFFFFF;\n",
       "    }\n",
       "  </style>\n",
       "\n",
       "    <script>\n",
       "      const buttonEl =\n",
       "        document.querySelector('#df-974d50d7-d00d-4dd7-a5e8-ab5f52b852bd button.colab-df-convert');\n",
       "      buttonEl.style.display =\n",
       "        google.colab.kernel.accessAllowed ? 'block' : 'none';\n",
       "\n",
       "      async function convertToInteractive(key) {\n",
       "        const element = document.querySelector('#df-974d50d7-d00d-4dd7-a5e8-ab5f52b852bd');\n",
       "        const dataTable =\n",
       "          await google.colab.kernel.invokeFunction('convertToInteractive',\n",
       "                                                    [key], {});\n",
       "        if (!dataTable) return;\n",
       "\n",
       "        const docLinkHtml = 'Like what you see? Visit the ' +\n",
       "          '<a target=\"_blank\" href=https://colab.research.google.com/notebooks/data_table.ipynb>data table notebook</a>'\n",
       "          + ' to learn more about interactive tables.';\n",
       "        element.innerHTML = '';\n",
       "        dataTable['output_type'] = 'display_data';\n",
       "        await google.colab.output.renderOutput(dataTable, element);\n",
       "        const docLink = document.createElement('div');\n",
       "        docLink.innerHTML = docLinkHtml;\n",
       "        element.appendChild(docLink);\n",
       "      }\n",
       "    </script>\n",
       "  </div>\n",
       "\n",
       "\n",
       "<div id=\"df-a1c916a5-a46b-40f3-baa9-8b96400d3858\">\n",
       "  <button class=\"colab-df-quickchart\" onclick=\"quickchart('df-a1c916a5-a46b-40f3-baa9-8b96400d3858')\"\n",
       "            title=\"Suggest charts\"\n",
       "            style=\"display:none;\">\n",
       "\n",
       "<svg xmlns=\"http://www.w3.org/2000/svg\" height=\"24px\"viewBox=\"0 0 24 24\"\n",
       "     width=\"24px\">\n",
       "    <g>\n",
       "        <path d=\"M19 3H5c-1.1 0-2 .9-2 2v14c0 1.1.9 2 2 2h14c1.1 0 2-.9 2-2V5c0-1.1-.9-2-2-2zM9 17H7v-7h2v7zm4 0h-2V7h2v10zm4 0h-2v-4h2v4z\"/>\n",
       "    </g>\n",
       "</svg>\n",
       "  </button>\n",
       "\n",
       "<style>\n",
       "  .colab-df-quickchart {\n",
       "      --bg-color: #E8F0FE;\n",
       "      --fill-color: #1967D2;\n",
       "      --hover-bg-color: #E2EBFA;\n",
       "      --hover-fill-color: #174EA6;\n",
       "      --disabled-fill-color: #AAA;\n",
       "      --disabled-bg-color: #DDD;\n",
       "  }\n",
       "\n",
       "  [theme=dark] .colab-df-quickchart {\n",
       "      --bg-color: #3B4455;\n",
       "      --fill-color: #D2E3FC;\n",
       "      --hover-bg-color: #434B5C;\n",
       "      --hover-fill-color: #FFFFFF;\n",
       "      --disabled-bg-color: #3B4455;\n",
       "      --disabled-fill-color: #666;\n",
       "  }\n",
       "\n",
       "  .colab-df-quickchart {\n",
       "    background-color: var(--bg-color);\n",
       "    border: none;\n",
       "    border-radius: 50%;\n",
       "    cursor: pointer;\n",
       "    display: none;\n",
       "    fill: var(--fill-color);\n",
       "    height: 32px;\n",
       "    padding: 0;\n",
       "    width: 32px;\n",
       "  }\n",
       "\n",
       "  .colab-df-quickchart:hover {\n",
       "    background-color: var(--hover-bg-color);\n",
       "    box-shadow: 0 1px 2px rgba(60, 64, 67, 0.3), 0 1px 3px 1px rgba(60, 64, 67, 0.15);\n",
       "    fill: var(--button-hover-fill-color);\n",
       "  }\n",
       "\n",
       "  .colab-df-quickchart-complete:disabled,\n",
       "  .colab-df-quickchart-complete:disabled:hover {\n",
       "    background-color: var(--disabled-bg-color);\n",
       "    fill: var(--disabled-fill-color);\n",
       "    box-shadow: none;\n",
       "  }\n",
       "\n",
       "  .colab-df-spinner {\n",
       "    border: 2px solid var(--fill-color);\n",
       "    border-color: transparent;\n",
       "    border-bottom-color: var(--fill-color);\n",
       "    animation:\n",
       "      spin 1s steps(1) infinite;\n",
       "  }\n",
       "\n",
       "  @keyframes spin {\n",
       "    0% {\n",
       "      border-color: transparent;\n",
       "      border-bottom-color: var(--fill-color);\n",
       "      border-left-color: var(--fill-color);\n",
       "    }\n",
       "    20% {\n",
       "      border-color: transparent;\n",
       "      border-left-color: var(--fill-color);\n",
       "      border-top-color: var(--fill-color);\n",
       "    }\n",
       "    30% {\n",
       "      border-color: transparent;\n",
       "      border-left-color: var(--fill-color);\n",
       "      border-top-color: var(--fill-color);\n",
       "      border-right-color: var(--fill-color);\n",
       "    }\n",
       "    40% {\n",
       "      border-color: transparent;\n",
       "      border-right-color: var(--fill-color);\n",
       "      border-top-color: var(--fill-color);\n",
       "    }\n",
       "    60% {\n",
       "      border-color: transparent;\n",
       "      border-right-color: var(--fill-color);\n",
       "    }\n",
       "    80% {\n",
       "      border-color: transparent;\n",
       "      border-right-color: var(--fill-color);\n",
       "      border-bottom-color: var(--fill-color);\n",
       "    }\n",
       "    90% {\n",
       "      border-color: transparent;\n",
       "      border-bottom-color: var(--fill-color);\n",
       "    }\n",
       "  }\n",
       "</style>\n",
       "\n",
       "  <script>\n",
       "    async function quickchart(key) {\n",
       "      const quickchartButtonEl =\n",
       "        document.querySelector('#' + key + ' button');\n",
       "      quickchartButtonEl.disabled = true;  // To prevent multiple clicks.\n",
       "      quickchartButtonEl.classList.add('colab-df-spinner');\n",
       "      try {\n",
       "        const charts = await google.colab.kernel.invokeFunction(\n",
       "            'suggestCharts', [key], {});\n",
       "      } catch (error) {\n",
       "        console.error('Error during call to suggestCharts:', error);\n",
       "      }\n",
       "      quickchartButtonEl.classList.remove('colab-df-spinner');\n",
       "      quickchartButtonEl.classList.add('colab-df-quickchart-complete');\n",
       "    }\n",
       "    (() => {\n",
       "      let quickchartButtonEl =\n",
       "        document.querySelector('#df-a1c916a5-a46b-40f3-baa9-8b96400d3858 button');\n",
       "      quickchartButtonEl.style.display =\n",
       "        google.colab.kernel.accessAllowed ? 'block' : 'none';\n",
       "    })();\n",
       "  </script>\n",
       "</div>\n",
       "    </div>\n",
       "  </div>\n"
      ]
     },
     "metadata": {},
     "execution_count": 8
    }
   ],
   "source": [
    "import pandas as pd\n",
    "X_df = pd.DataFrame(X)\n",
    "y_df = pd.DataFrame(y, columns=['label'])  # Assuming 'label' is the name of the column\n",
    "\n",
    "# Concatenate X and y along the columns (axis=1)\n",
    "df = pd.concat([X_df, y_df], axis=1)\n",
    "df.head()\n"
   ],
   "id": "4d54bf60-e078-484b-a285-9bafaf60c695"
  },
  {
   "cell_type": "markdown",
   "metadata": {
    "id": "57ac411d-65d5-4fa9-9ba7-3ece18d5bd06"
   },
   "source": [
    "# Exploration et visualisation des données"
   ],
   "id": "57ac411d-65d5-4fa9-9ba7-3ece18d5bd06"
  },
  {
   "cell_type": "code",
   "execution_count": 9,
   "metadata": {
    "colab": {
     "base_uri": "https://localhost:8080/"
    },
    "id": "d7acb130-7ccb-4c53-adbd-7890ab6138ab",
    "outputId": "2e39cf8c-891d-41a6-a323-47a22124cc2c"
   },
   "outputs": [
    {
     "output_type": "execute_result",
     "data": {
      "text/plain": [
       "Counter({4: 818, 5: 426, 1: 351, 3: 418, 2: 217, 6: 298, 7: 180})"
      ]
     },
     "metadata": {},
     "execution_count": 9
    }
   ],
   "source": [
    "# nombre\n",
    "from collections import Counter\n",
    "\n",
    "def target2counts(df_doc: pd.DataFrame) -> {str: int}:\n",
    "    \"\"\"\n",
    "    Count number of document per label\n",
    "    :param df_doc:\n",
    "    :return:\n",
    "    \"\"\"\n",
    "    targets = list(df_doc.label)\n",
    "    target_counter = Counter(targets)  # -> dico\n",
    "    return target_counter\n",
    "\n",
    "target2counts(df)"
   ],
   "id": "d7acb130-7ccb-4c53-adbd-7890ab6138ab"
  },
  {
   "cell_type": "code",
   "execution_count": 10,
   "metadata": {
    "colab": {
     "base_uri": "https://localhost:8080/"
    },
    "id": "e7b6db56-fed9-41da-b9a0-7bd3565ac98f",
    "outputId": "d821f27f-6de1-4794-f165-0d7b25772520"
   },
   "outputs": [
    {
     "output_type": "execute_result",
     "data": {
      "text/plain": [
       "{1, 2, 3, 4, 5, 6, 7}"
      ]
     },
     "metadata": {},
     "execution_count": 10
    }
   ],
   "source": [
    "# nombre de classes\n",
    "set(np.unique(y))"
   ],
   "id": "e7b6db56-fed9-41da-b9a0-7bd3565ac98f"
  },
  {
   "cell_type": "code",
   "execution_count": 11,
   "metadata": {
    "colab": {
     "base_uri": "https://localhost:8080/"
    },
    "id": "4f55ba3a-424a-4b06-9d0e-fda2d2470389",
    "outputId": "155544d3-3d34-42ba-8a9d-fcd2bf57e5c2"
   },
   "outputs": [
    {
     "output_type": "stream",
     "name": "stdout",
     "text": [
      "Nombre d'éléments non nuls :  49216\n",
      "Nombre d'éléments :  3880564.0\n",
      "Sparsité :  0.9873173074841698\n"
     ]
    }
   ],
   "source": [
    "# le taux de sparsicité\n",
    "from numpy import count_nonzero\n",
    "\n",
    "nb_nonZero = count_nonzero(X)\n",
    "my_size = float(X.size)\n",
    "print(\"Nombre d'éléments non nuls : \", nb_nonZero)\n",
    "print(\"Nombre d'éléments : \", my_size)\n",
    "print(\"Sparsité : \", 1-(nb_nonZero/my_size))"
   ],
   "id": "4f55ba3a-424a-4b06-9d0e-fda2d2470389"
  },
  {
   "cell_type": "markdown",
   "metadata": {
    "id": "252db7a3-3452-4086-a52a-c88031ac76fb"
   },
   "source": [
    "### LSA (aka TruncatedSVD)"
   ],
   "id": "252db7a3-3452-4086-a52a-c88031ac76fb"
  },
  {
   "cell_type": "code",
   "execution_count": 12,
   "metadata": {
    "colab": {
     "base_uri": "https://localhost:8080/"
    },
    "id": "a4db5168-96bf-4c24-828c-323cd9cc9272",
    "outputId": "e2e5014f-c80e-45e7-aba4-d2fdb69b534c"
   },
   "outputs": [
    {
     "output_type": "execute_result",
     "data": {
      "text/plain": [
       "1"
      ]
     },
     "metadata": {},
     "execution_count": 12
    }
   ],
   "source": [
    "# la dimension fitté par le modèle\n",
    "lsa = TruncatedSVD()\n",
    "lsa.fit(X)\n",
    "cumsum = np.cumsum(lsa.explained_variance_ratio_)\n",
    "d = np.argmax(cumsum >= 0.95) + 1  # d equals XXX\n",
    "d"
   ],
   "id": "a4db5168-96bf-4c24-828c-323cd9cc9272"
  },
  {
   "cell_type": "markdown",
   "metadata": {
    "id": "5ff08727-f482-4660-b4b8-0bc8da11a030"
   },
   "source": [
    "la matrice étant très sparce, il ne faut qu'1 seul dimension, on va essayer de confirmer ce résulat via le graphique en coude"
   ],
   "id": "5ff08727-f482-4660-b4b8-0bc8da11a030"
  },
  {
   "cell_type": "code",
   "execution_count": 13,
   "metadata": {
    "colab": {
     "base_uri": "https://localhost:8080/",
     "height": 407
    },
    "id": "e7f44332-aa76-4e71-b723-f0e0e2a60864",
    "outputId": "3cb28720-f6fb-46a0-d221-61fe16dc95f8"
   },
   "outputs": [
    {
     "output_type": "display_data",
     "data": {
      "text/plain": [
       "<Figure size 600x400 with 1 Axes>"
      ],
      "image/png": "[encoded data removed]"
     },
     "metadata": {}
    }
   ],
   "source": [
    "plt.figure(figsize=(6, 4))\n",
    "plt.plot(cumsum, linewidth=3)\n",
    "plt.axis([0, 5, 0, 1])\n",
    "plt.xlabel(\"Dimensions\")\n",
    "plt.ylabel(\"Explained Variance\")\n",
    "plt.plot([d, d], [0, 0.95], \"k:\")\n",
    "plt.plot([0, d], [0.95, 0.95], \"k:\")\n",
    "plt.plot(d, 0.95, \"ko\")\n",
    "plt.annotate(\"Elbow\", xy=(10, 0.1), xytext=(70, 0.7),\n",
    "             arrowprops=dict(arrowstyle=\"->\"))\n",
    "plt.grid(True)\n",
    "save_fig(f\"{DOCUMENT_NAME}_LSA_explained_variance_plot\")\n",
    "plt.show()"
   ],
   "id": "e7f44332-aa76-4e71-b723-f0e0e2a60864"
  },
  {
   "cell_type": "markdown",
   "metadata": {
    "id": "5110eaaa-158c-4747-be57-978f7d5d075d"
   },
   "source": [
    " -> vers une approche ICPA\n",
    "\n",
    "Etant donné que l'on a une matrice très sparse, nous allons explorer une autre approche de PCA qui nous permettra de faire en même temps du PCA, de l'imputation. En d'autre terme, nous ferons une imputation à l'aide du PCA\n"
   ],
   "id": "5110eaaa-158c-4747-be57-978f7d5d075d"
  },
  {
   "cell_type": "markdown",
   "metadata": {
    "id": "ac0a9595-7657-44d7-b1d1-070f6e0200ce"
   },
   "source": [
    "### Incremental PCA"
   ],
   "id": "ac0a9595-7657-44d7-b1d1-070f6e0200ce"
  },
  {
   "cell_type": "code",
   "execution_count": 14,
   "metadata": {
    "colab": {
     "base_uri": "https://localhost:8080/"
    },
    "id": "c586a88e-2c35-423f-9137-3e50c64ef187",
    "outputId": "2fa898fc-c74b-4abb-8ed6-833f9b6e4205"
   },
   "outputs": [
    {
     "output_type": "execute_result",
     "data": {
      "text/plain": [
       "802"
      ]
     },
     "metadata": {},
     "execution_count": 14
    }
   ],
   "source": [
    "# checker combien d'axe factoriel faut-il pour préserver 95% d'inertie de nos jeux de données\n",
    "inc_pca = IncrementalPCA()\n",
    "inc_pca.fit(X)\n",
    "inc_pca_ckcumsum = np.cumsum(inc_pca.explained_variance_ratio_)\n",
    "inc_pca_ck_d = np.argmax(inc_pca_ckcumsum >= 0.95) + 1\n",
    "inc_pca_ck_d"
   ],
   "id": "c586a88e-2c35-423f-9137-3e50c64ef187"
  },
  {
   "cell_type": "markdown",
   "metadata": {
    "id": "233bc8e7-7377-4b9d-b467-a95aac6bf62f"
   },
   "source": [
    "Confirmons notre intuition à partir d'un graphique\n"
   ],
   "id": "233bc8e7-7377-4b9d-b467-a95aac6bf62f"
  },
  {
   "cell_type": "code",
   "execution_count": 15,
   "metadata": {
    "colab": {
     "base_uri": "https://localhost:8080/",
     "height": 393
    },
    "id": "4e2f401d-8d84-4163-8a83-28e01abac6bf",
    "outputId": "2e432699-269e-45f2-e00c-2d4043171a50"
   },
   "outputs": [
    {
     "output_type": "display_data",
     "data": {
      "text/plain": [
       "<Figure size 600x400 with 1 Axes>"
      ],
      "image/png": "[encoded data removed]"
     },
     "metadata": {}
    }
   ],
   "source": [
    "plt.figure(figsize=(6, 4))\n",
    "plt.plot(inc_pca_ckcumsum, linewidth=3)\n",
    "plt.axis([0, 2300, 0, 1])\n",
    "plt.xlabel(\"Dimensions\")\n",
    "plt.ylabel(\"Explained Variance\")\n",
    "plt.plot([inc_pca_ck_d, inc_pca_ck_d], [0, 0.95], \"k:\")\n",
    "plt.plot([0, inc_pca_ck_d], [0.95, 0.95], \"k:\")\n",
    "plt.plot(inc_pca_ck_d, 0.95, \"ko\")\n",
    "plt.annotate(\"Elbow\", xy=(750, 0.95), xytext=(70, 0.8),\n",
    "             arrowprops=dict(arrowstyle=\"->\"))\n",
    "plt.grid(True)\n",
    "#save_fig(\"explained_variance_plot\")\n",
    "plt.show()"
   ],
   "id": "4e2f401d-8d84-4163-8a83-28e01abac6bf"
  },
  {
   "cell_type": "code",
   "execution_count": 16,
   "metadata": {
    "colab": {
     "base_uri": "https://localhost:8080/"
    },
    "id": "80e0b0b0-ed68-43e3-ad6b-2567726aa3cb",
    "outputId": "852a485f-77f9-4ff1-9591-f22dd652a6f2"
   },
   "outputs": [
    {
     "output_type": "stream",
     "name": "stdout",
     "text": [
      "X_docs_tfidf_red_inc_pca_new:  (2708, 802)\n"
     ]
    }
   ],
   "source": [
    "# refaisons la projection\n",
    "inc_pca_new = IncrementalPCA(\n",
    "    n_components=inc_pca_ck_d,\n",
    "    batch_size=1500\n",
    ")\n",
    "X_inc_pca = inc_pca_new.fit_transform(X)\n",
    "print('X_docs_tfidf_red_inc_pca_new: ', X_inc_pca.shape)"
   ],
   "id": "80e0b0b0-ed68-43e3-ad6b-2567726aa3cb"
  },
  {
   "cell_type": "code",
   "execution_count": 17,
   "metadata": {
    "colab": {
     "base_uri": "https://localhost:8080/",
     "height": 499
    },
    "id": "5bdb3582-0c9e-48ef-8b0f-c2acf57682f1",
    "outputId": "ba725912-7f5c-4f41-b4ce-1f950ca42736"
   },
   "outputs": [
    {
     "output_type": "display_data",
     "data": {
      "text/plain": [
       "<Figure size 700x600 with 1 Axes>"
      ],
      "image/png": "[encoded data removed]"
     },
     "metadata": {}
    }
   ],
   "source": [
    "fig, ax = plt.subplots(figsize=(7, 6))\n",
    "\n",
    "classes = [\"1\",\n",
    "          \"2\",\n",
    "          \"3\",\n",
    "          \"4\",\n",
    "          \"5\",\n",
    "          \"6\",\n",
    "          \"7\"]\n",
    "scatter = ax.scatter(\n",
    "    x=X_inc_pca[:, 0],\n",
    "    y=X_inc_pca[:, 1],\n",
    "    c=y,\n",
    "    cmap='Accent',\n",
    "    s=3,\n",
    "    alpha=1\n",
    ")\n",
    "handles, labels = scatter.legend_elements()\n",
    "labels = np.unique(y)\n",
    "ax.legend(handles, labels, loc=\"upper left\", title=\"Topic\")\n",
    "plt.setp(ax, xticks=[], yticks=[])\n",
    "#ax.set_title('2D projection (random nb components) of the X (Word2Vec) matrix using \\n Multidimensional scaling \\n', size=16)\n",
    "#save_fig(\"bbc_W2V_MultiSCALING_plot\")\n",
    "plt.show()"
   ],
   "id": "5bdb3582-0c9e-48ef-8b0f-c2acf57682f1"
  },
  {
   "cell_type": "markdown",
   "metadata": {
    "id": "f36ac53b-e522-458b-abd7-f974ffe24d64"
   },
   "source": [
    "### TSNE"
   ],
   "id": "f36ac53b-e522-458b-abd7-f974ffe24d64"
  },
  {
   "cell_type": "code",
   "execution_count": 18,
   "metadata": {
    "id": "b7703bb2-02bf-4e4a-87b4-ffcd9ff9e0f5"
   },
   "outputs": [],
   "source": [
    "t_sne = TSNE(\n",
    "    n_components=2,\n",
    "    perplexity=30,\n",
    "    init=\"pca\",\n",
    "    n_iter=300,\n",
    "    random_state=1,\n",
    ")\n",
    "X_tsne = t_sne.fit_transform(X)"
   ],
   "id": "b7703bb2-02bf-4e4a-87b4-ffcd9ff9e0f5"
  },
  {
   "cell_type": "code",
   "execution_count": 19,
   "metadata": {
    "colab": {
     "base_uri": "https://localhost:8080/",
     "height": 499
    },
    "id": "04324c34-8243-459f-9e5e-8b5a9e958170",
    "outputId": "0effa0af-1b8a-4bf0-bf14-af33b807ae8b"
   },
   "outputs": [
    {
     "output_type": "display_data",
     "data": {
      "text/plain": [
       "<Figure size 700x600 with 1 Axes>"
      ],
      "image/png": "[encoded data removed]"
     },
     "metadata": {}
    }
   ],
   "source": [
    "fig, ax = plt.subplots(figsize=(7, 6))\n",
    "\n",
    "classes = [\"1\",\n",
    "          \"2\",\n",
    "          \"3\",\n",
    "          \"4\",\n",
    "          \"5\",\n",
    "          \"6\",\n",
    "          \"7\"]\n",
    "scatter = ax.scatter(\n",
    "    x=X_tsne[:, 0],\n",
    "    y=X_tsne[:, 1],\n",
    "    c=y,\n",
    "    cmap='Accent',\n",
    "    s=6,\n",
    "    alpha=1\n",
    ")\n",
    "handles, labels = scatter.legend_elements()\n",
    "labels = np.unique(y)\n",
    "ax.legend(handles, labels, loc=\"upper left\", title=\"Topic\")\n",
    "plt.setp(ax, xticks=[], yticks=[])\n",
    "#ax.set_title('2D projection (random nb components) of the X (Word2Vec) matrix using \\n Multidimensional scaling \\n', size=16)\n",
    "#save_fig(\"bbc_W2V_MultiSCALING_plot\")\n",
    "plt.show()"
   ],
   "id": "04324c34-8243-459f-9e5e-8b5a9e958170"
  },
  {
   "cell_type": "markdown",
   "source": [
    "TSNE ne semble pas donner une bonne representation de nos documents.\n",
    "nous allons utiliser la methode UMAP"
   ],
   "metadata": {
    "id": "bzaQ-FRswIAi"
   },
   "id": "bzaQ-FRswIAi"
  },
  {
   "cell_type": "markdown",
   "metadata": {
    "collapsed": false,
    "id": "e8474593c818ccc3"
   },
   "source": [
    "## UMAP"
   ],
   "id": "e8474593c818ccc3"
  },
  {
   "cell_type": "code",
   "execution_count": 20,
   "metadata": {
    "id": "94b2439f113690ff"
   },
   "outputs": [],
   "source": [
    "mapper = umap.UMAP(metric='hellinger').fit(X)"
   ],
   "id": "94b2439f113690ff"
  },
  {
   "cell_type": "code",
   "execution_count": 21,
   "metadata": {
    "colab": {
     "base_uri": "https://localhost:8080/",
     "height": 670
    },
    "id": "623331b3e4311b02",
    "outputId": "c3b2f7be-ff84-49e3-e918-30db94427c37"
   },
   "outputs": [
    {
     "output_type": "execute_result",
     "data": {
      "text/plain": [
       "<Axes: >"
      ]
     },
     "metadata": {},
     "execution_count": 21
    },
    {
     "output_type": "display_data",
     "data": {
      "text/plain": [
       "<Figure size 800x800 with 1 Axes>"
      ],
      "image/png": "[encoded data removed]"
     },
     "metadata": {}
    }
   ],
   "source": [
    "umap.plot.points(mapper, labels=y.ravel())"
   ],
   "id": "623331b3e4311b02"
  },
  {
   "cell_type": "markdown",
   "metadata": {
    "id": "a5f9d5fe-3a32-4d6f-874c-85b3a73c679c"
   },
   "source": [
    "# Application de méthodes de classification sur les données de l'espace initial"
   ],
   "id": "a5f9d5fe-3a32-4d6f-874c-85b3a73c679c"
  },
  {
   "cell_type": "markdown",
   "metadata": {
    "id": "3f10d50a-a501-4561-9f8f-ec8f52d29d1e"
   },
   "source": [
    "### Echantillionnage des données en train et test"
   ],
   "id": "3f10d50a-a501-4561-9f8f-ec8f52d29d1e"
  },
  {
   "cell_type": "code",
   "execution_count": 22,
   "metadata": {
    "colab": {
     "base_uri": "https://localhost:8080/"
    },
    "id": "b871e5c1-4ad2-47f2-a260-72264146d0e8",
    "outputId": "b78297cd-acba-43d7-8b73-293719d25782"
   },
   "outputs": [
    {
     "output_type": "stream",
     "name": "stdout",
     "text": [
      "X_train shape: (2166, 1433)\n",
      "\n",
      "X_test shape: (542, 1433)\n",
      "\n",
      "y_train shape: (2166, 1)\n",
      "\n",
      "y_test shape: (542, 1)\n"
     ]
    },
    {
     "output_type": "execute_result",
     "data": {
      "text/plain": [
       "(array([[0, 0, 0, ..., 0, 0, 0],\n",
       "        [0, 0, 0, ..., 0, 0, 0],\n",
       "        [0, 0, 0, ..., 0, 0, 0],\n",
       "        ...,\n",
       "        [0, 0, 0, ..., 0, 0, 0],\n",
       "        [0, 0, 0, ..., 0, 0, 0],\n",
       "        [0, 0, 0, ..., 0, 0, 0]], dtype=uint8),\n",
       " array([[3],\n",
       "        [4],\n",
       "        [5],\n",
       "        ...,\n",
       "        [7],\n",
       "        [6],\n",
       "        [6]], dtype=uint8))"
      ]
     },
     "metadata": {},
     "execution_count": 22
    }
   ],
   "source": [
    "from sklearn.model_selection import train_test_split\n",
    "\n",
    "# Stratifier la division en tenant compte des classes déséquilibrées\n",
    "X_train, X_test, y_train, y_test = train_test_split(X, y,\n",
    "                                                    test_size=0.2,\n",
    "                                                    random_state=42,\n",
    "                                                    stratify=y)\n",
    "\n",
    "print(f\"X_train shape: {X_train.shape}\\n\")\n",
    "print(f\"X_test shape: {X_test.shape}\\n\")\n",
    "print(f\"y_train shape: {y_train.shape}\\n\")\n",
    "print(f\"y_test shape: {y_test.shape}\\n\")\n",
    "X_train, y_train"
   ],
   "id": "b871e5c1-4ad2-47f2-a260-72264146d0e8"
  },
  {
   "cell_type": "code",
   "execution_count": 23,
   "metadata": {
    "colab": {
     "base_uri": "https://localhost:8080/"
    },
    "id": "cac250ba-cea1-4645-bdbe-e5c6703fb668",
    "outputId": "c8326353-3156-43b8-8c41-58a2ce8d9e7e"
   },
   "outputs": [
    {
     "output_type": "execute_result",
     "data": {
      "text/plain": [
       "Counter({3: 334, 4: 654, 5: 341, 6: 238, 1: 281, 7: 144, 2: 174})"
      ]
     },
     "metadata": {},
     "execution_count": 23
    }
   ],
   "source": [
    "from collections import Counter\n",
    "\n",
    "counter = Counter(y_train.ravel())\n",
    "counter"
   ],
   "id": "cac250ba-cea1-4645-bdbe-e5c6703fb668"
  },
  {
   "cell_type": "markdown",
   "source": [
    "### Application des algorithme supervisés"
   ],
   "metadata": {
    "id": "zRanJvJ5wpnU"
   },
   "id": "zRanJvJ5wpnU"
  },
  {
   "cell_type": "code",
   "execution_count": 24,
   "metadata": {
    "id": "a5e7ba69-c415-4992-b1ee-63324c0e7aec"
   },
   "outputs": [],
   "source": [
    "# Spot Check Algorithms\n",
    "models = []"
   ],
   "id": "a5e7ba69-c415-4992-b1ee-63324c0e7aec"
  },
  {
   "cell_type": "markdown",
   "metadata": {
    "id": "12f4669b-06b9-489d-ad13-ddeb66633e55"
   },
   "source": [
    "### Logistic regression\n",
    "---"
   ],
   "id": "12f4669b-06b9-489d-ad13-ddeb66633e55"
  },
  {
   "cell_type": "code",
   "execution_count": 25,
   "metadata": {
    "id": "66a396a7-a763-4a1d-9173-bc7681645fca"
   },
   "outputs": [],
   "source": [
    "from sklearn.preprocessing import StandardScaler\n",
    "scaler = StandardScaler()\n",
    "X_train_scaled = scaler.fit_transform(X_train)\n",
    "X_test_scaled = scaler.transform(X_test)"
   ],
   "id": "66a396a7-a763-4a1d-9173-bc7681645fca"
  },
  {
   "cell_type": "code",
   "execution_count": 26,
   "metadata": {
    "colab": {
     "base_uri": "https://localhost:8080/"
    },
    "id": "eb06f58f-d2ed-4c25-885b-d1a9c406f954",
    "outputId": "d5cbfd88-5e7d-4668-b17b-12d40c7ce7fc"
   },
   "outputs": [
    {
     "output_type": "execute_result",
     "data": {
      "text/plain": [
       "array([[-0.08065715, -0.10805918, -0.16439899, ..., -0.04301324,\n",
       "        -0.15837557, -0.06088626],\n",
       "       [-0.08065715, -0.10805918, -0.16439899, ..., -0.04301324,\n",
       "        -0.15837557, -0.06088626],\n",
       "       [-0.08065715, -0.10805918, -0.16439899, ..., -0.04301324,\n",
       "        -0.15837557, -0.06088626],\n",
       "       ...,\n",
       "       [-0.08065715, -0.10805918, -0.16439899, ..., -0.04301324,\n",
       "        -0.15837557, -0.06088626],\n",
       "       [-0.08065715, -0.10805918, -0.16439899, ..., -0.04301324,\n",
       "        -0.15837557, -0.06088626],\n",
       "       [-0.08065715, -0.10805918, -0.16439899, ..., -0.04301324,\n",
       "        -0.15837557, -0.06088626]])"
      ]
     },
     "metadata": {},
     "execution_count": 26
    }
   ],
   "source": [
    "X_train_scaled"
   ],
   "id": "eb06f58f-d2ed-4c25-885b-d1a9c406f954"
  },
  {
   "cell_type": "code",
   "execution_count": 27,
   "metadata": {
    "colab": {
     "base_uri": "https://localhost:8080/"
    },
    "id": "1379b807-f43c-43fd-832c-a32ad764cd4d",
    "outputId": "920153c0-b458-4fa1-f254-172436fb01cb"
   },
   "outputs": [
    {
     "output_type": "stream",
     "name": "stdout",
     "text": [
      "Best: 0.744687 using {'C': 0.01, 'penalty': 'l2', 'solver': 'newton-cg'}\n",
      "0.703140 (0.009962) with: {'C': 10, 'penalty': 'l2', 'solver': 'newton-cg'}\n",
      "0.703140 (0.009962) with: {'C': 10, 'penalty': 'l2', 'solver': 'lbfgs'}\n",
      "0.710525 (0.013148) with: {'C': 1.0, 'penalty': 'l2', 'solver': 'newton-cg'}\n",
      "0.710525 (0.013148) with: {'C': 1.0, 'penalty': 'l2', 'solver': 'lbfgs'}\n",
      "0.744687 (0.017979) with: {'C': 0.01, 'penalty': 'l2', 'solver': 'newton-cg'}\n",
      "0.744687 (0.017979) with: {'C': 0.01, 'penalty': 'l2', 'solver': 'lbfgs'}\n"
     ]
    },
    {
     "output_type": "execute_result",
     "data": {
      "text/plain": [
       "[('LRG',\n",
       "  LogisticRegression(C=0.01, multi_class='multinomial', solver='newton-cg'))]"
      ]
     },
     "metadata": {},
     "execution_count": 27
    }
   ],
   "source": [
    "model = LogisticRegression(multi_class='multinomial')\n",
    "solvers = ['newton-cg', 'lbfgs']  # Excluding 'liblinear'\n",
    "penalty = ['l2']\n",
    "c_values = [10, 1.0, 0.01]\n",
    "# define grid search\n",
    "grid = dict(solver=solvers, penalty=penalty, C=c_values)\n",
    "cv = StratifiedKFold(n_splits=5)\n",
    "grid_search = GridSearchCV(estimator=model, param_grid=grid, n_jobs=-1, cv=cv, scoring='accuracy', error_score=0)\n",
    "grid_result = grid_search.fit(X_train_scaled, y_train.ravel())\n",
    "# summarize results\n",
    "print(\"Best: %f using %s\" % (grid_result.best_score_, grid_result.best_params_))\n",
    "means = grid_result.cv_results_['mean_test_score']\n",
    "stds = grid_result.cv_results_['std_test_score']\n",
    "params = grid_result.cv_results_['params']\n",
    "for mean, stdev, param in zip(means, stds, params):\n",
    "    print(\"%f (%f) with: %r\" % (mean, stdev, param))\n",
    "\n",
    "# store best mmodels\n",
    "models.append(('LRG', LogisticRegression(multi_class='multinomial', **grid_result.best_params_)))\n",
    "models"
   ],
   "id": "1379b807-f43c-43fd-832c-a32ad764cd4d"
  },
  {
   "cell_type": "code",
   "execution_count": 27,
   "metadata": {
    "id": "5800f1c1-06aa-49fa-ba4b-8a7eacf69384"
   },
   "outputs": [],
   "source": [],
   "id": "5800f1c1-06aa-49fa-ba4b-8a7eacf69384"
  },
  {
   "cell_type": "markdown",
   "metadata": {
    "id": "ca8b0e32-3c19-46df-973c-d2cbd152d68f"
   },
   "source": [
    "### Ridge classifier"
   ],
   "id": "ca8b0e32-3c19-46df-973c-d2cbd152d68f"
  },
  {
   "cell_type": "code",
   "execution_count": 28,
   "metadata": {
    "colab": {
     "base_uri": "https://localhost:8080/"
    },
    "id": "10eed65d-494c-40ed-923f-7aefb88d5e44",
    "outputId": "f86a607f-0737-4423-c93b-9c74d50c49af",
    "scrolled": true
   },
   "outputs": [
    {
     "output_type": "stream",
     "name": "stdout",
     "text": [
      "Best: 0.468591 using {'alpha': 1, 'solver': 'sparse_cg'}\n",
      "0.464435 (0.021022) with: {'alpha': 0.001, 'solver': 'sparse_cg'}\n",
      "0.464435 (0.021022) with: {'alpha': 0.01, 'solver': 'sparse_cg'}\n",
      "0.465821 (0.020314) with: {'alpha': 0.1, 'solver': 'sparse_cg'}\n",
      "0.468591 (0.021768) with: {'alpha': 1, 'solver': 'sparse_cg'}\n"
     ]
    },
    {
     "output_type": "execute_result",
     "data": {
      "text/plain": [
       "[('LRG',\n",
       "  LogisticRegression(C=0.01, multi_class='multinomial', solver='newton-cg')),\n",
       " ('RGC', RidgeClassifier(alpha=1, solver='sparse_cg'))]"
      ]
     },
     "metadata": {},
     "execution_count": 28
    }
   ],
   "source": [
    "# define models and parameters\n",
    "model = RidgeClassifier()\n",
    "alpha = [1e-3, 1e-2, 1e-1, 1]\n",
    "solver=[\"sparse_cg\"]\n",
    "# define grid search\n",
    "grid = dict(alpha=alpha, solver=solver)\n",
    "cv = StratifiedKFold(n_splits=5)\n",
    "grid_search = GridSearchCV(estimator=model, param_grid=grid, n_jobs=-1, cv=cv, scoring='accuracy',error_score='raise')\n",
    "grid_result = grid_search.fit(X_train_scaled, y_train.ravel())\n",
    "# summarize results\n",
    "print(\"Best: %f using %s\" % (grid_result.best_score_, grid_result.best_params_))\n",
    "means = grid_result.cv_results_['mean_test_score']\n",
    "stds = grid_result.cv_results_['std_test_score']\n",
    "params = grid_result.cv_results_['params']\n",
    "for mean, stdev, param in zip(means, stds, params):\n",
    "    print(\"%f (%f) with: %r\" % (mean, stdev, param))\n",
    "\n",
    "models.append(('RGC', RidgeClassifier(**grid_result.best_params_)))\n",
    "models"
   ],
   "id": "10eed65d-494c-40ed-923f-7aefb88d5e44"
  },
  {
   "cell_type": "code",
   "execution_count": 28,
   "metadata": {
    "id": "f5eac763-f42e-4eae-a044-9a669d9c6fb9"
   },
   "outputs": [],
   "source": [],
   "id": "f5eac763-f42e-4eae-a044-9a669d9c6fb9"
  },
  {
   "cell_type": "markdown",
   "metadata": {
    "id": "b3fc1d95-0a44-4e6a-bd8e-78b47ba0e00e"
   },
   "source": [
    "### KNN"
   ],
   "id": "b3fc1d95-0a44-4e6a-bd8e-78b47ba0e00e"
  },
  {
   "cell_type": "code",
   "execution_count": 29,
   "metadata": {
    "colab": {
     "base_uri": "https://localhost:8080/"
    },
    "id": "7a049572-f471-4b9d-b9b3-eceb0657a36b",
    "outputId": "6ffb5793-86b0-4b04-f160-6a20c695dffa"
   },
   "outputs": [
    {
     "output_type": "stream",
     "name": "stdout",
     "text": [
      "Best: 0.438603 using {'metric': 'manhattan', 'n_neighbors': 5, 'weights': 'distance'}\n",
      "0.415517 (0.030065) with: {'metric': 'euclidean', 'n_neighbors': 1, 'weights': 'uniform'}\n",
      "0.415517 (0.030065) with: {'metric': 'euclidean', 'n_neighbors': 1, 'weights': 'distance'}\n",
      "0.339802 (0.021107) with: {'metric': 'euclidean', 'n_neighbors': 3, 'weights': 'uniform'}\n",
      "0.423365 (0.025470) with: {'metric': 'euclidean', 'n_neighbors': 3, 'weights': 'distance'}\n",
      "0.359188 (0.040580) with: {'metric': 'euclidean', 'n_neighbors': 5, 'weights': 'uniform'}\n",
      "0.405360 (0.044474) with: {'metric': 'euclidean', 'n_neighbors': 5, 'weights': 'distance'}\n",
      "0.349931 (0.048270) with: {'metric': 'euclidean', 'n_neighbors': 7, 'weights': 'uniform'}\n",
      "0.405807 (0.050198) with: {'metric': 'euclidean', 'n_neighbors': 7, 'weights': 'distance'}\n",
      "0.347167 (0.059666) with: {'metric': 'euclidean', 'n_neighbors': 9, 'weights': 'uniform'}\n",
      "0.385033 (0.058117) with: {'metric': 'euclidean', 'n_neighbors': 9, 'weights': 'distance'}\n",
      "0.312548 (0.053656) with: {'metric': 'euclidean', 'n_neighbors': 11, 'weights': 'uniform'}\n",
      "0.366567 (0.068396) with: {'metric': 'euclidean', 'n_neighbors': 11, 'weights': 'distance'}\n",
      "0.280680 (0.050428) with: {'metric': 'euclidean', 'n_neighbors': 13, 'weights': 'uniform'}\n",
      "0.348551 (0.075056) with: {'metric': 'euclidean', 'n_neighbors': 13, 'weights': 'distance'}\n",
      "0.276519 (0.052066) with: {'metric': 'euclidean', 'n_neighbors': 15, 'weights': 'uniform'}\n",
      "0.340701 (0.074873) with: {'metric': 'euclidean', 'n_neighbors': 15, 'weights': 'distance'}\n",
      "0.287141 (0.062637) with: {'metric': 'euclidean', 'n_neighbors': 17, 'weights': 'uniform'}\n",
      "0.335154 (0.076202) with: {'metric': 'euclidean', 'n_neighbors': 17, 'weights': 'distance'}\n",
      "0.284369 (0.061711) with: {'metric': 'euclidean', 'n_neighbors': 19, 'weights': 'uniform'}\n",
      "0.331000 (0.060110) with: {'metric': 'euclidean', 'n_neighbors': 19, 'weights': 'distance'}\n",
      "0.286220 (0.043600) with: {'metric': 'euclidean', 'n_neighbors': 21, 'weights': 'uniform'}\n",
      "0.336081 (0.056804) with: {'metric': 'euclidean', 'n_neighbors': 21, 'weights': 'distance'}\n",
      "0.286681 (0.037012) with: {'metric': 'euclidean', 'n_neighbors': 23, 'weights': 'uniform'}\n",
      "0.334698 (0.045041) with: {'metric': 'euclidean', 'n_neighbors': 23, 'weights': 'distance'}\n",
      "0.285749 (0.046949) with: {'metric': 'euclidean', 'n_neighbors': 25, 'weights': 'uniform'}\n",
      "0.336077 (0.051240) with: {'metric': 'euclidean', 'n_neighbors': 25, 'weights': 'distance'}\n",
      "0.293603 (0.061879) with: {'metric': 'euclidean', 'n_neighbors': 27, 'weights': 'uniform'}\n",
      "0.338850 (0.061811) with: {'metric': 'euclidean', 'n_neighbors': 27, 'weights': 'distance'}\n",
      "0.300065 (0.061688) with: {'metric': 'euclidean', 'n_neighbors': 29, 'weights': 'uniform'}\n",
      "0.339772 (0.063619) with: {'metric': 'euclidean', 'n_neighbors': 29, 'weights': 'distance'}\n",
      "0.309752 (0.070752) with: {'metric': 'euclidean', 'n_neighbors': 31, 'weights': 'uniform'}\n",
      "0.345771 (0.068211) with: {'metric': 'euclidean', 'n_neighbors': 31, 'weights': 'distance'}\n",
      "0.410922 (0.036765) with: {'metric': 'manhattan', 'n_neighbors': 1, 'weights': 'uniform'}\n",
      "0.410922 (0.036765) with: {'metric': 'manhattan', 'n_neighbors': 1, 'weights': 'distance'}\n",
      "0.345346 (0.016162) with: {'metric': 'manhattan', 'n_neighbors': 3, 'weights': 'uniform'}\n",
      "0.428928 (0.036212) with: {'metric': 'manhattan', 'n_neighbors': 3, 'weights': 'distance'}\n",
      "0.400276 (0.028772) with: {'metric': 'manhattan', 'n_neighbors': 5, 'weights': 'uniform'}\n",
      "0.438603 (0.039723) with: {'metric': 'manhattan', 'n_neighbors': 5, 'weights': 'distance'}\n",
      "0.372575 (0.038812) with: {'metric': 'manhattan', 'n_neighbors': 7, 'weights': 'uniform'}\n",
      "0.436292 (0.035188) with: {'metric': 'manhattan', 'n_neighbors': 7, 'weights': 'distance'}\n",
      "0.379037 (0.052530) with: {'metric': 'manhattan', 'n_neighbors': 9, 'weights': 'uniform'}\n",
      "0.425673 (0.053130) with: {'metric': 'manhattan', 'n_neighbors': 9, 'weights': 'distance'}\n",
      "0.363789 (0.063566) with: {'metric': 'manhattan', 'n_neighbors': 11, 'weights': 'uniform'}\n",
      "0.412736 (0.067551) with: {'metric': 'manhattan', 'n_neighbors': 11, 'weights': 'distance'}\n",
      "0.361931 (0.067172) with: {'metric': 'manhattan', 'n_neighbors': 13, 'weights': 'uniform'}\n",
      "0.412736 (0.071613) with: {'metric': 'manhattan', 'n_neighbors': 13, 'weights': 'distance'}\n",
      "0.361473 (0.074891) with: {'metric': 'manhattan', 'n_neighbors': 15, 'weights': 'uniform'}\n",
      "0.410419 (0.078945) with: {'metric': 'manhattan', 'n_neighbors': 15, 'weights': 'distance'}\n",
      "0.354548 (0.069928) with: {'metric': 'manhattan', 'n_neighbors': 17, 'weights': 'uniform'}\n",
      "0.398877 (0.076336) with: {'metric': 'manhattan', 'n_neighbors': 17, 'weights': 'distance'}\n",
      "0.353164 (0.074430) with: {'metric': 'manhattan', 'n_neighbors': 19, 'weights': 'uniform'}\n",
      "0.404881 (0.073949) with: {'metric': 'manhattan', 'n_neighbors': 19, 'weights': 'distance'}\n",
      "0.344855 (0.067237) with: {'metric': 'manhattan', 'n_neighbors': 21, 'weights': 'uniform'}\n",
      "0.386873 (0.065005) with: {'metric': 'manhattan', 'n_neighbors': 21, 'weights': 'distance'}\n",
      "0.340700 (0.073761) with: {'metric': 'manhattan', 'n_neighbors': 23, 'weights': 'uniform'}\n",
      "0.382256 (0.070303) with: {'metric': 'manhattan', 'n_neighbors': 23, 'weights': 'distance'}\n",
      "0.339780 (0.068456) with: {'metric': 'manhattan', 'n_neighbors': 25, 'weights': 'uniform'}\n",
      "0.386412 (0.069453) with: {'metric': 'manhattan', 'n_neighbors': 25, 'weights': 'distance'}\n",
      "0.341163 (0.072202) with: {'metric': 'manhattan', 'n_neighbors': 27, 'weights': 'uniform'}\n",
      "0.381796 (0.066983) with: {'metric': 'manhattan', 'n_neighbors': 27, 'weights': 'distance'}\n",
      "0.327310 (0.070579) with: {'metric': 'manhattan', 'n_neighbors': 29, 'weights': 'uniform'}\n",
      "0.380869 (0.065075) with: {'metric': 'manhattan', 'n_neighbors': 29, 'weights': 'distance'}\n",
      "0.331930 (0.067428) with: {'metric': 'manhattan', 'n_neighbors': 31, 'weights': 'uniform'}\n",
      "0.390566 (0.057174) with: {'metric': 'manhattan', 'n_neighbors': 31, 'weights': 'distance'}\n",
      "0.415517 (0.030065) with: {'metric': 'minkowski', 'n_neighbors': 1, 'weights': 'uniform'}\n",
      "0.415517 (0.030065) with: {'metric': 'minkowski', 'n_neighbors': 1, 'weights': 'distance'}\n",
      "0.339802 (0.021107) with: {'metric': 'minkowski', 'n_neighbors': 3, 'weights': 'uniform'}\n",
      "0.423365 (0.025470) with: {'metric': 'minkowski', 'n_neighbors': 3, 'weights': 'distance'}\n",
      "0.359188 (0.040580) with: {'metric': 'minkowski', 'n_neighbors': 5, 'weights': 'uniform'}\n",
      "0.405360 (0.044474) with: {'metric': 'minkowski', 'n_neighbors': 5, 'weights': 'distance'}\n",
      "0.349931 (0.048270) with: {'metric': 'minkowski', 'n_neighbors': 7, 'weights': 'uniform'}\n",
      "0.405807 (0.050198) with: {'metric': 'minkowski', 'n_neighbors': 7, 'weights': 'distance'}\n",
      "0.347167 (0.059666) with: {'metric': 'minkowski', 'n_neighbors': 9, 'weights': 'uniform'}\n",
      "0.385033 (0.058117) with: {'metric': 'minkowski', 'n_neighbors': 9, 'weights': 'distance'}\n",
      "0.312548 (0.053656) with: {'metric': 'minkowski', 'n_neighbors': 11, 'weights': 'uniform'}\n",
      "0.366567 (0.068396) with: {'metric': 'minkowski', 'n_neighbors': 11, 'weights': 'distance'}\n",
      "0.280680 (0.050428) with: {'metric': 'minkowski', 'n_neighbors': 13, 'weights': 'uniform'}\n",
      "0.348551 (0.075056) with: {'metric': 'minkowski', 'n_neighbors': 13, 'weights': 'distance'}\n",
      "0.276519 (0.052066) with: {'metric': 'minkowski', 'n_neighbors': 15, 'weights': 'uniform'}\n",
      "0.340701 (0.074873) with: {'metric': 'minkowski', 'n_neighbors': 15, 'weights': 'distance'}\n",
      "0.287141 (0.062637) with: {'metric': 'minkowski', 'n_neighbors': 17, 'weights': 'uniform'}\n",
      "0.335154 (0.076202) with: {'metric': 'minkowski', 'n_neighbors': 17, 'weights': 'distance'}\n",
      "0.284369 (0.061711) with: {'metric': 'minkowski', 'n_neighbors': 19, 'weights': 'uniform'}\n",
      "0.331000 (0.060110) with: {'metric': 'minkowski', 'n_neighbors': 19, 'weights': 'distance'}\n",
      "0.286220 (0.043600) with: {'metric': 'minkowski', 'n_neighbors': 21, 'weights': 'uniform'}\n",
      "0.336081 (0.056804) with: {'metric': 'minkowski', 'n_neighbors': 21, 'weights': 'distance'}\n",
      "0.286681 (0.037012) with: {'metric': 'minkowski', 'n_neighbors': 23, 'weights': 'uniform'}\n",
      "0.334698 (0.045041) with: {'metric': 'minkowski', 'n_neighbors': 23, 'weights': 'distance'}\n",
      "0.285749 (0.046949) with: {'metric': 'minkowski', 'n_neighbors': 25, 'weights': 'uniform'}\n",
      "0.336077 (0.051240) with: {'metric': 'minkowski', 'n_neighbors': 25, 'weights': 'distance'}\n",
      "0.293603 (0.061879) with: {'metric': 'minkowski', 'n_neighbors': 27, 'weights': 'uniform'}\n",
      "0.338850 (0.061811) with: {'metric': 'minkowski', 'n_neighbors': 27, 'weights': 'distance'}\n",
      "0.300065 (0.061688) with: {'metric': 'minkowski', 'n_neighbors': 29, 'weights': 'uniform'}\n",
      "0.339772 (0.063619) with: {'metric': 'minkowski', 'n_neighbors': 29, 'weights': 'distance'}\n",
      "0.309752 (0.070752) with: {'metric': 'minkowski', 'n_neighbors': 31, 'weights': 'uniform'}\n",
      "0.345771 (0.068211) with: {'metric': 'minkowski', 'n_neighbors': 31, 'weights': 'distance'}\n"
     ]
    },
    {
     "output_type": "execute_result",
     "data": {
      "text/plain": [
       "[('LRG',\n",
       "  LogisticRegression(C=0.01, multi_class='multinomial', solver='newton-cg')),\n",
       " ('RGC', RidgeClassifier(alpha=1, solver='sparse_cg')),\n",
       " ('KNN', KNeighborsClassifier(metric='manhattan', weights='distance'))]"
      ]
     },
     "metadata": {},
     "execution_count": 29
    }
   ],
   "source": [
    "# define models and parameters\n",
    "model = KNeighborsClassifier()\n",
    "n_neighbors = range(1, 32, 2)\n",
    "weights = ['uniform', 'distance']\n",
    "metric = ['euclidean', 'manhattan', 'minkowski']\n",
    "# define grid search\n",
    "grid = dict(n_neighbors=n_neighbors,weights=weights,metric=metric)\n",
    "cv = StratifiedKFold(n_splits=5)\n",
    "grid_search = GridSearchCV(estimator=model, param_grid=grid, n_jobs=-1, cv=cv, scoring='accuracy',error_score=0)\n",
    "grid_result = grid_search.fit(X_train_scaled, y_train.ravel())\n",
    "# summarize results\n",
    "print(\"Best: %f using %s\" % (grid_result.best_score_, grid_result.best_params_))\n",
    "means = grid_result.cv_results_['mean_test_score']\n",
    "stds = grid_result.cv_results_['std_test_score']\n",
    "params = grid_result.cv_results_['params']\n",
    "for mean, stdev, param in zip(means, stds, params):\n",
    "    print(\"%f (%f) with: %r\" % (mean, stdev, param))\n",
    "\n",
    "models.append(('KNN', KNeighborsClassifier(**grid_result.best_params_)))\n",
    "models"
   ],
   "id": "7a049572-f471-4b9d-b9b3-eceb0657a36b"
  },
  {
   "cell_type": "code",
   "execution_count": 29,
   "metadata": {
    "id": "3825c63f-a783-4d1f-b00c-ff7d4888a44a"
   },
   "outputs": [],
   "source": [],
   "id": "3825c63f-a783-4d1f-b00c-ff7d4888a44a"
  },
  {
   "cell_type": "markdown",
   "metadata": {
    "id": "257e55a7-9238-418f-8e48-b6c10196296b"
   },
   "source": [
    "### SVM"
   ],
   "id": "257e55a7-9238-418f-8e48-b6c10196296b"
  },
  {
   "cell_type": "code",
   "execution_count": 30,
   "metadata": {
    "colab": {
     "base_uri": "https://localhost:8080/"
    },
    "id": "f02f3da8-696d-4071-87f0-2b35026d0b6a",
    "outputId": "b4bb8bf5-55d4-4e26-bbbd-f82ddaca95a0"
   },
   "outputs": [
    {
     "output_type": "stream",
     "name": "stdout",
     "text": [
      "Best: 0.712837 using {'C': 1.0, 'gamma': 'scale', 'kernel': 'sigmoid'}\n",
      "0.301939 (0.000896) with: {'C': 0.1, 'gamma': 'scale', 'kernel': 'poly'}\n",
      "0.301939 (0.000896) with: {'C': 0.1, 'gamma': 'scale', 'kernel': 'rbf'}\n",
      "0.302401 (0.001487) with: {'C': 0.1, 'gamma': 'scale', 'kernel': 'sigmoid'}\n",
      "0.318560 (0.002936) with: {'C': 1.0, 'gamma': 'scale', 'kernel': 'poly'}\n",
      "0.626957 (0.017848) with: {'C': 1.0, 'gamma': 'scale', 'kernel': 'rbf'}\n",
      "0.712837 (0.017398) with: {'C': 1.0, 'gamma': 'scale', 'kernel': 'sigmoid'}\n"
     ]
    },
    {
     "output_type": "execute_result",
     "data": {
      "text/plain": [
       "[('LRG',\n",
       "  LogisticRegression(C=0.01, multi_class='multinomial', solver='newton-cg')),\n",
       " ('RGC', RidgeClassifier(alpha=1, solver='sparse_cg')),\n",
       " ('KNN', KNeighborsClassifier(metric='manhattan', weights='distance')),\n",
       " ('SVM', SVC(kernel='sigmoid'))]"
      ]
     },
     "metadata": {},
     "execution_count": 30
    }
   ],
   "source": [
    "# define model and parameters\n",
    "model = SVC()\n",
    "kernel = ['poly', 'rbf', 'sigmoid']\n",
    "C = [0.1, 1.0]\n",
    "gamma = ['scale']\n",
    "# define grid search\n",
    "grid = dict(kernel=kernel,C=C,gamma=gamma)\n",
    "cv = StratifiedKFold(n_splits=5)\n",
    "grid_search = GridSearchCV(estimator=model, param_grid=grid, n_jobs=-1, cv=cv, scoring='accuracy',error_score=0)\n",
    "grid_result = grid_search.fit(X_train_scaled, y_train.ravel())\n",
    "# summarize results\n",
    "print(\"Best: %f using %s\" % (grid_result.best_score_, grid_result.best_params_))\n",
    "means = grid_result.cv_results_['mean_test_score']\n",
    "stds = grid_result.cv_results_['std_test_score']\n",
    "params = grid_result.cv_results_['params']\n",
    "for mean, stdev, param in zip(means, stds, params):\n",
    "    print(\"%f (%f) with: %r\" % (mean, stdev, param))\n",
    "\n",
    "models.append(('SVM', SVC(**grid_result.best_params_)))\n",
    "models"
   ],
   "id": "f02f3da8-696d-4071-87f0-2b35026d0b6a"
  },
  {
   "cell_type": "code",
   "execution_count": 30,
   "metadata": {
    "id": "3ea54d59-e038-4578-a106-31e2e7cc6dd1"
   },
   "outputs": [],
   "source": [],
   "id": "3ea54d59-e038-4578-a106-31e2e7cc6dd1"
  },
  {
   "cell_type": "markdown",
   "metadata": {
    "id": "670dcc9b-c049-4192-a348-bb77397cc43a"
   },
   "source": [
    "### Bagging Classifier"
   ],
   "id": "670dcc9b-c049-4192-a348-bb77397cc43a"
  },
  {
   "cell_type": "code",
   "execution_count": 31,
   "metadata": {
    "colab": {
     "base_uri": "https://localhost:8080/"
    },
    "id": "f86b81bf-eff7-4158-bec1-475c1df841bc",
    "outputId": "317fe197-b797-492a-979b-607798baa894"
   },
   "outputs": [
    {
     "output_type": "stream",
     "name": "stdout",
     "text": [
      "Best: 0.706356 using {'n_estimators': 100}\n",
      "0.692041 (0.031836) with: {'n_estimators': 10}\n",
      "0.706356 (0.021273) with: {'n_estimators': 100}\n"
     ]
    },
    {
     "output_type": "execute_result",
     "data": {
      "text/plain": [
       "[('LRG',\n",
       "  LogisticRegression(C=0.01, multi_class='multinomial', solver='newton-cg')),\n",
       " ('RGC', RidgeClassifier(alpha=1, solver='sparse_cg')),\n",
       " ('KNN', KNeighborsClassifier(metric='manhattan', weights='distance')),\n",
       " ('SVM', SVC(kernel='sigmoid')),\n",
       " ('BGC', BaggingClassifier(n_estimators=100))]"
      ]
     },
     "metadata": {},
     "execution_count": 31
    }
   ],
   "source": [
    "# define models and parameters\n",
    "model = BaggingClassifier()\n",
    "n_estimators = [10, 100]\n",
    "# define grid search\n",
    "grid = dict(n_estimators=n_estimators)\n",
    "cv = StratifiedKFold(n_splits=5)\n",
    "grid_search = GridSearchCV(estimator=model, param_grid=grid, n_jobs=-1, cv=cv, scoring='accuracy', error_score='raise')\n",
    "grid_result = grid_search.fit(X_train , y_train.ravel())\n",
    "# summarize results\n",
    "print(\"Best: %f using %s\" % (grid_result.best_score_, grid_result.best_params_))\n",
    "means = grid_result.cv_results_['mean_test_score']\n",
    "stds = grid_result.cv_results_['std_test_score']\n",
    "params = grid_result.cv_results_['params']\n",
    "for mean, stdev, param in zip(means, stds, params):\n",
    "    print(\"%f (%f) with: %r\" % (mean, stdev, param))\n",
    "\n",
    "models.append(('BGC', BaggingClassifier(**grid_result.best_params_)))\n",
    "models"
   ],
   "id": "f86b81bf-eff7-4158-bec1-475c1df841bc"
  },
  {
   "cell_type": "code",
   "execution_count": 31,
   "metadata": {
    "id": "e11eef2c-fcee-4d59-85cd-017a45c48ee6"
   },
   "outputs": [],
   "source": [],
   "id": "e11eef2c-fcee-4d59-85cd-017a45c48ee6"
  },
  {
   "cell_type": "code",
   "execution_count": 31,
   "metadata": {
    "id": "0de28874-97e9-4827-a734-c910d4bd0cda"
   },
   "outputs": [],
   "source": [],
   "id": "0de28874-97e9-4827-a734-c910d4bd0cda"
  },
  {
   "cell_type": "markdown",
   "metadata": {
    "id": "dcf521ac-204c-4e75-9e14-78529ce85d55"
   },
   "source": [
    "### RandomForestClassifier"
   ],
   "id": "dcf521ac-204c-4e75-9e14-78529ce85d55"
  },
  {
   "cell_type": "code",
   "execution_count": 32,
   "metadata": {
    "colab": {
     "base_uri": "https://localhost:8080/"
    },
    "id": "43a1d3f3-cd97-46d0-b4ec-887e7049a08a",
    "outputId": "38cc9ae9-bbe9-4977-fecb-4f6d3b703455"
   },
   "outputs": [
    {
     "output_type": "stream",
     "name": "stdout",
     "text": [
      "Best: 0.747918 using {'max_features': 'sqrt', 'n_estimators': 50}\n",
      "0.702208 (0.024528) with: {'max_features': 'sqrt', 'n_estimators': 10}\n",
      "0.747918 (0.016096) with: {'max_features': 'sqrt', 'n_estimators': 50}\n",
      "0.636643 (0.023692) with: {'max_features': 'log2', 'n_estimators': 10}\n",
      "0.733151 (0.016065) with: {'max_features': 'log2', 'n_estimators': 50}\n"
     ]
    },
    {
     "output_type": "execute_result",
     "data": {
      "text/plain": [
       "[('LRG',\n",
       "  LogisticRegression(C=0.01, multi_class='multinomial', solver='newton-cg')),\n",
       " ('RGC', RidgeClassifier(alpha=1, solver='sparse_cg')),\n",
       " ('KNN', KNeighborsClassifier(metric='manhattan', weights='distance')),\n",
       " ('SVM', SVC(kernel='sigmoid')),\n",
       " ('BGC', BaggingClassifier(n_estimators=100)),\n",
       " ('RFC', RandomForestClassifier(n_estimators=50))]"
      ]
     },
     "metadata": {},
     "execution_count": 32
    }
   ],
   "source": [
    "# define models and parameters\n",
    "model = RandomForestClassifier()\n",
    "n_estimators = [10, 50]\n",
    "max_features = ['sqrt', 'log2']\n",
    "# define grid search\n",
    "grid = dict(n_estimators=n_estimators,max_features=max_features)\n",
    "cv = StratifiedKFold(n_splits=5)\n",
    "grid_search = GridSearchCV(estimator=model, param_grid=grid, n_jobs=-1, cv=cv, scoring='accuracy',error_score=0)\n",
    "grid_result = grid_search.fit(X_train_scaled, y_train.ravel())\n",
    "# summarize results\n",
    "print(\"Best: %f using %s\" % (grid_result.best_score_, grid_result.best_params_))\n",
    "means = grid_result.cv_results_['mean_test_score']\n",
    "stds = grid_result.cv_results_['std_test_score']\n",
    "params = grid_result.cv_results_['params']\n",
    "for mean, stdev, param in zip(means, stds, params):\n",
    "    print(\"%f (%f) with: %r\" % (mean, stdev, param))\n",
    "\n",
    "models.append(('RFC', RandomForestClassifier(**grid_result.best_params_)))\n",
    "models"
   ],
   "id": "43a1d3f3-cd97-46d0-b4ec-887e7049a08a"
  },
  {
   "cell_type": "code",
   "execution_count": 32,
   "metadata": {
    "id": "1009c844-842c-4215-8d86-a4e260f9ffed"
   },
   "outputs": [],
   "source": [],
   "id": "1009c844-842c-4215-8d86-a4e260f9ffed"
  },
  {
   "cell_type": "markdown",
   "metadata": {
    "id": "1316f6ba-44d3-46c5-8d7f-42b78112702f"
   },
   "source": [
    "### GradientBoostingClassifier"
   ],
   "id": "1316f6ba-44d3-46c5-8d7f-42b78112702f"
  },
  {
   "cell_type": "code",
   "execution_count": 33,
   "metadata": {
    "colab": {
     "base_uri": "https://localhost:8080/"
    },
    "id": "7842f4da-ff39-4d69-b0d6-59552d66d2fb",
    "outputId": "0e324637-2f63-45b9-e24b-dce0fa77595d"
   },
   "outputs": [
    {
     "output_type": "stream",
     "name": "stdout",
     "text": [
      "Best: 0.712827 using {'learning_rate': 0.1, 'max_depth': 7, 'n_estimators': 10, 'subsample': 0.7}\n",
      "0.651425 (0.012821) with: {'learning_rate': 0.1, 'max_depth': 3, 'n_estimators': 10, 'subsample': 0.5}\n",
      "0.650039 (0.009561) with: {'learning_rate': 0.1, 'max_depth': 3, 'n_estimators': 10, 'subsample': 0.7}\n",
      "0.653730 (0.015593) with: {'learning_rate': 0.1, 'max_depth': 3, 'n_estimators': 10, 'subsample': 1.0}\n",
      "0.695746 (0.020087) with: {'learning_rate': 0.1, 'max_depth': 7, 'n_estimators': 10, 'subsample': 0.5}\n",
      "0.712827 (0.012786) with: {'learning_rate': 0.1, 'max_depth': 7, 'n_estimators': 10, 'subsample': 0.7}\n",
      "0.695287 (0.018871) with: {'learning_rate': 0.1, 'max_depth': 7, 'n_estimators': 10, 'subsample': 1.0}\n",
      "0.694826 (0.016806) with: {'learning_rate': 0.1, 'max_depth': 9, 'n_estimators': 10, 'subsample': 0.5}\n",
      "0.708675 (0.014868) with: {'learning_rate': 0.1, 'max_depth': 9, 'n_estimators': 10, 'subsample': 0.7}\n",
      "0.692053 (0.016280) with: {'learning_rate': 0.1, 'max_depth': 9, 'n_estimators': 10, 'subsample': 1.0}\n",
      "0.301939 (0.000896) with: {'learning_rate': 0.01, 'max_depth': 3, 'n_estimators': 10, 'subsample': 0.5}\n",
      "0.301939 (0.000896) with: {'learning_rate': 0.01, 'max_depth': 3, 'n_estimators': 10, 'subsample': 0.7}\n",
      "0.301939 (0.000896) with: {'learning_rate': 0.01, 'max_depth': 3, 'n_estimators': 10, 'subsample': 1.0}\n",
      "0.301939 (0.000896) with: {'learning_rate': 0.01, 'max_depth': 7, 'n_estimators': 10, 'subsample': 0.5}\n",
      "0.301939 (0.000896) with: {'learning_rate': 0.01, 'max_depth': 7, 'n_estimators': 10, 'subsample': 0.7}\n",
      "0.301939 (0.000896) with: {'learning_rate': 0.01, 'max_depth': 7, 'n_estimators': 10, 'subsample': 1.0}\n",
      "0.301939 (0.000896) with: {'learning_rate': 0.01, 'max_depth': 9, 'n_estimators': 10, 'subsample': 0.5}\n",
      "0.301939 (0.000896) with: {'learning_rate': 0.01, 'max_depth': 9, 'n_estimators': 10, 'subsample': 0.7}\n",
      "0.301939 (0.000896) with: {'learning_rate': 0.01, 'max_depth': 9, 'n_estimators': 10, 'subsample': 1.0}\n"
     ]
    },
    {
     "output_type": "execute_result",
     "data": {
      "text/plain": [
       "[('LRG',\n",
       "  LogisticRegression(C=0.01, multi_class='multinomial', solver='newton-cg')),\n",
       " ('RGC', RidgeClassifier(alpha=1, solver='sparse_cg')),\n",
       " ('KNN', KNeighborsClassifier(metric='manhattan', weights='distance')),\n",
       " ('SVM', SVC(kernel='sigmoid')),\n",
       " ('BGC', BaggingClassifier(n_estimators=100)),\n",
       " ('RFC', RandomForestClassifier(n_estimators=50)),\n",
       " ('GBC',\n",
       "  GradientBoostingClassifier(max_depth=7, n_estimators=10, subsample=0.7))]"
      ]
     },
     "metadata": {},
     "execution_count": 33
    }
   ],
   "source": [
    "# define models and parameters\n",
    "model = GradientBoostingClassifier()\n",
    "n_estimators = [10]\n",
    "learning_rate = [0.1, 0.01]\n",
    "subsample = [0.5, 0.7, 1.0]\n",
    "max_depth = [3, 7, 9]\n",
    "# define grid search\n",
    "grid = dict(learning_rate=learning_rate, n_estimators=n_estimators, subsample=subsample, max_depth=max_depth)\n",
    "cv = StratifiedKFold(n_splits=5)\n",
    "grid_search = GridSearchCV(estimator=model, param_grid=grid, n_jobs=-1, cv=cv, scoring='accuracy',error_score=0)\n",
    "grid_result = grid_search.fit(X_train_scaled, y_train.ravel())\n",
    "# summarize results\n",
    "print(\"Best: %f using %s\" % (grid_result.best_score_, grid_result.best_params_))\n",
    "means = grid_result.cv_results_['mean_test_score']\n",
    "stds = grid_result.cv_results_['std_test_score']\n",
    "params = grid_result.cv_results_['params']\n",
    "for mean, stdev, param in zip(means, stds, params):\n",
    "    print(\"%f (%f) with: %r\" % (mean, stdev, param))\n",
    "\n",
    "models.append(('GBC', GradientBoostingClassifier(**grid_result.best_params_)))\n",
    "models"
   ],
   "id": "7842f4da-ff39-4d69-b0d6-59552d66d2fb"
  },
  {
   "cell_type": "code",
   "execution_count": 33,
   "metadata": {
    "id": "65a92ad2-962c-4265-91ea-8d445af87937"
   },
   "outputs": [],
   "source": [],
   "id": "65a92ad2-962c-4265-91ea-8d445af87937"
  },
  {
   "cell_type": "markdown",
   "metadata": {
    "id": "4053d184-22dd-4af1-9ccd-8b5065090d69"
   },
   "source": [
    "### LDA"
   ],
   "id": "4053d184-22dd-4af1-9ccd-8b5065090d69"
  },
  {
   "cell_type": "code",
   "execution_count": 34,
   "metadata": {
    "colab": {
     "base_uri": "https://localhost:8080/"
    },
    "id": "2e97e5d5-7700-49ec-aefb-4763c5dc7f0b",
    "outputId": "76fa3bfb-b2b6-40a6-83d0-caadcdcd376d"
   },
   "outputs": [
    {
     "output_type": "stream",
     "name": "stdout",
     "text": [
      "Mean Accuracy: 0.448\n",
      "Config: {'solver': 'lsqr'}\n"
     ]
    },
    {
     "output_type": "execute_result",
     "data": {
      "text/plain": [
       "[('LRG',\n",
       "  LogisticRegression(C=0.01, multi_class='multinomial', solver='newton-cg')),\n",
       " ('RGC', RidgeClassifier(alpha=1, solver='sparse_cg')),\n",
       " ('KNN', KNeighborsClassifier(metric='manhattan', weights='distance')),\n",
       " ('SVM', SVC(kernel='sigmoid')),\n",
       " ('BGC', BaggingClassifier(n_estimators=100)),\n",
       " ('RFC', RandomForestClassifier(n_estimators=50)),\n",
       " ('GBC',\n",
       "  GradientBoostingClassifier(max_depth=7, n_estimators=10, subsample=0.7)),\n",
       " ('LDA', LinearDiscriminantAnalysis(solver='lsqr'))]"
      ]
     },
     "metadata": {},
     "execution_count": 34
    }
   ],
   "source": [
    "# define model\n",
    "model = LinearDiscriminantAnalysis()\n",
    "# define model evaluation method\n",
    "cv = StratifiedKFold(n_splits=5)\n",
    "# define grid\n",
    "grid = dict()\n",
    "grid['solver'] = ['svd', 'lsqr']\n",
    "# grid['shrinkage'] = arange(0, 1, 0.01)\n",
    "# define search\n",
    "search = GridSearchCV(model, grid, scoring='accuracy', cv=cv, n_jobs=-1, error_score=0)\n",
    "# perform the search\n",
    "results = search.fit(X_train_scaled, y_train.ravel())\n",
    "# summarize\n",
    "print('Mean Accuracy: %.3f' % results.best_score_)\n",
    "print('Config: %s' % results.best_params_)\n",
    "\n",
    "models.append(('LDA', LinearDiscriminantAnalysis(**results.best_params_)))\n",
    "models"
   ],
   "id": "2e97e5d5-7700-49ec-aefb-4763c5dc7f0b"
  },
  {
   "cell_type": "code",
   "execution_count": 34,
   "metadata": {
    "id": "37191ca7-3f5d-453e-90f5-7e56e6f7ef86"
   },
   "outputs": [],
   "source": [],
   "id": "37191ca7-3f5d-453e-90f5-7e56e6f7ef86"
  },
  {
   "cell_type": "markdown",
   "metadata": {
    "id": "827e0940-72ab-4ab4-a056-bca2699f842d"
   },
   "source": [
    "###  DecisionTreeClassifier"
   ],
   "id": "827e0940-72ab-4ab4-a056-bca2699f842d"
  },
  {
   "cell_type": "code",
   "execution_count": 35,
   "metadata": {
    "colab": {
     "base_uri": "https://localhost:8080/"
    },
    "id": "6b4de79b-9c27-418c-90d9-b6cfe71ab9ad",
    "outputId": "9f38110a-74a4-4f8e-982f-fc228b506076"
   },
   "outputs": [
    {
     "output_type": "stream",
     "name": "stdout",
     "text": [
      "Mean Accuracy: 0.649\n",
      "Config: {'min_samples_split': 2}\n"
     ]
    },
    {
     "output_type": "execute_result",
     "data": {
      "text/plain": [
       "[('LRG',\n",
       "  LogisticRegression(C=0.01, multi_class='multinomial', solver='newton-cg')),\n",
       " ('RGC', RidgeClassifier(alpha=1, solver='sparse_cg')),\n",
       " ('KNN', KNeighborsClassifier(metric='manhattan', weights='distance')),\n",
       " ('SVM', SVC(kernel='sigmoid')),\n",
       " ('BGC', BaggingClassifier(n_estimators=100)),\n",
       " ('RFC', RandomForestClassifier(n_estimators=50)),\n",
       " ('GBC',\n",
       "  GradientBoostingClassifier(max_depth=7, n_estimators=10, subsample=0.7)),\n",
       " ('LDA', LinearDiscriminantAnalysis(solver='lsqr')),\n",
       " ('DTC', DecisionTreeClassifier())]"
      ]
     },
     "metadata": {},
     "execution_count": 35
    }
   ],
   "source": [
    "# define model\n",
    "model = DecisionTreeClassifier()\n",
    "# define model evaluation method\n",
    "cv = StratifiedKFold(n_splits=5)\n",
    "grid = dict()\n",
    "# define grid\n",
    "grid['min_samples_split'] = range(2, 5)\n",
    "# define search\n",
    "search = GridSearchCV(model, grid, scoring='accuracy', cv=cv, n_jobs=-1)\n",
    "# perform the search\n",
    "results = search.fit(X_train_scaled, y_train)\n",
    "# summarize\n",
    "print('Mean Accuracy: %.3f' % results.best_score_)\n",
    "print('Config: %s' % results.best_params_)\n",
    "\n",
    "models.append(('DTC', DecisionTreeClassifier(**results.best_params_)))\n",
    "models"
   ],
   "id": "6b4de79b-9c27-418c-90d9-b6cfe71ab9ad"
  },
  {
   "cell_type": "code",
   "execution_count": 35,
   "metadata": {
    "id": "dc3ee057-7934-4b20-a5e1-e8e89a82eb93"
   },
   "outputs": [],
   "source": [],
   "id": "dc3ee057-7934-4b20-a5e1-e8e89a82eb93"
  },
  {
   "cell_type": "markdown",
   "source": [
    "### XGB"
   ],
   "metadata": {
    "id": "mtF9c3RWtUVJ"
   },
   "id": "mtF9c3RWtUVJ"
  },
  {
   "cell_type": "code",
   "execution_count": 36,
   "metadata": {
    "id": "d45ebce8-ef55-4c40-897b-55fbe36c297b",
    "colab": {
     "base_uri": "https://localhost:8080/"
    },
    "outputId": "e643d51f-ddf3-4cb1-f130-14b7b93cc46f"
   },
   "outputs": [
    {
     "output_type": "stream",
     "name": "stdout",
     "text": [
      "Fitting 5 folds for each of 36 candidates, totalling 180 fits\n",
      "Best: 0.700818 using {'learning_rate': 0.1, 'max_depth': 6, 'n_estimators': 9}\n",
      "0.543391 (0.014463) with: {'learning_rate': 0.1, 'max_depth': 1, 'n_estimators': 1}\n",
      "0.543391 (0.014463) with: {'learning_rate': 0.1, 'max_depth': 1, 'n_estimators': 2}\n",
      "0.542468 (0.013244) with: {'learning_rate': 0.1, 'max_depth': 1, 'n_estimators': 3}\n",
      "0.542468 (0.013874) with: {'learning_rate': 0.1, 'max_depth': 1, 'n_estimators': 4}\n",
      "0.546163 (0.015299) with: {'learning_rate': 0.1, 'max_depth': 1, 'n_estimators': 5}\n",
      "0.553086 (0.011913) with: {'learning_rate': 0.1, 'max_depth': 1, 'n_estimators': 6}\n",
      "0.554008 (0.012562) with: {'learning_rate': 0.1, 'max_depth': 1, 'n_estimators': 7}\n",
      "0.551703 (0.009389) with: {'learning_rate': 0.1, 'max_depth': 1, 'n_estimators': 8}\n",
      "0.558165 (0.009733) with: {'learning_rate': 0.1, 'max_depth': 1, 'n_estimators': 9}\n",
      "0.684657 (0.024375) with: {'learning_rate': 0.1, 'max_depth': 6, 'n_estimators': 1}\n",
      "0.686048 (0.020417) with: {'learning_rate': 0.1, 'max_depth': 6, 'n_estimators': 2}\n",
      "0.690201 (0.022925) with: {'learning_rate': 0.1, 'max_depth': 6, 'n_estimators': 3}\n",
      "0.693432 (0.020988) with: {'learning_rate': 0.1, 'max_depth': 6, 'n_estimators': 4}\n",
      "0.694355 (0.020595) with: {'learning_rate': 0.1, 'max_depth': 6, 'n_estimators': 5}\n",
      "0.696666 (0.016348) with: {'learning_rate': 0.1, 'max_depth': 6, 'n_estimators': 6}\n",
      "0.694818 (0.016285) with: {'learning_rate': 0.1, 'max_depth': 6, 'n_estimators': 7}\n",
      "0.698974 (0.017112) with: {'learning_rate': 0.1, 'max_depth': 6, 'n_estimators': 8}\n",
      "0.700818 (0.017995) with: {'learning_rate': 0.1, 'max_depth': 6, 'n_estimators': 9}\n",
      "0.543391 (0.014463) with: {'learning_rate': 0.01, 'max_depth': 1, 'n_estimators': 1}\n",
      "0.543391 (0.014463) with: {'learning_rate': 0.01, 'max_depth': 1, 'n_estimators': 2}\n",
      "0.543391 (0.014463) with: {'learning_rate': 0.01, 'max_depth': 1, 'n_estimators': 3}\n",
      "0.543391 (0.014463) with: {'learning_rate': 0.01, 'max_depth': 1, 'n_estimators': 4}\n",
      "0.543391 (0.014463) with: {'learning_rate': 0.01, 'max_depth': 1, 'n_estimators': 5}\n",
      "0.543391 (0.014463) with: {'learning_rate': 0.01, 'max_depth': 1, 'n_estimators': 6}\n",
      "0.543391 (0.014463) with: {'learning_rate': 0.01, 'max_depth': 1, 'n_estimators': 7}\n",
      "0.543391 (0.014463) with: {'learning_rate': 0.01, 'max_depth': 1, 'n_estimators': 8}\n",
      "0.543391 (0.014463) with: {'learning_rate': 0.01, 'max_depth': 1, 'n_estimators': 9}\n",
      "0.684657 (0.024375) with: {'learning_rate': 0.01, 'max_depth': 6, 'n_estimators': 1}\n",
      "0.686043 (0.024559) with: {'learning_rate': 0.01, 'max_depth': 6, 'n_estimators': 2}\n",
      "0.686504 (0.025312) with: {'learning_rate': 0.01, 'max_depth': 6, 'n_estimators': 3}\n",
      "0.688355 (0.022244) with: {'learning_rate': 0.01, 'max_depth': 6, 'n_estimators': 4}\n",
      "0.686971 (0.023055) with: {'learning_rate': 0.01, 'max_depth': 6, 'n_estimators': 5}\n",
      "0.688355 (0.021263) with: {'learning_rate': 0.01, 'max_depth': 6, 'n_estimators': 6}\n",
      "0.688354 (0.023785) with: {'learning_rate': 0.01, 'max_depth': 6, 'n_estimators': 7}\n",
      "0.689276 (0.023045) with: {'learning_rate': 0.01, 'max_depth': 6, 'n_estimators': 8}\n",
      "0.686968 (0.022436) with: {'learning_rate': 0.01, 'max_depth': 6, 'n_estimators': 9}\n"
     ]
    },
    {
     "output_type": "execute_result",
     "data": {
      "text/plain": [
       "[('LRG',\n",
       "  LogisticRegression(C=0.01, multi_class='multinomial', solver='newton-cg')),\n",
       " ('RGC', RidgeClassifier(alpha=1, solver='sparse_cg')),\n",
       " ('KNN', KNeighborsClassifier(metric='manhattan', weights='distance')),\n",
       " ('SVM', SVC(kernel='sigmoid')),\n",
       " ('BGC', BaggingClassifier(n_estimators=100)),\n",
       " ('RFC', RandomForestClassifier(n_estimators=50)),\n",
       " ('GBC',\n",
       "  GradientBoostingClassifier(max_depth=7, n_estimators=10, subsample=0.7)),\n",
       " ('LDA', LinearDiscriminantAnalysis(solver='lsqr')),\n",
       " ('DTC', DecisionTreeClassifier()),\n",
       " ('XGB',\n",
       "  XGBClassifier(base_score=None, booster=None, callbacks=None,\n",
       "                colsample_bylevel=None, colsample_bynode=None,\n",
       "                colsample_bytree=None, device=None, early_stopping_rounds=None,\n",
       "                enable_categorical=False, eval_metric=None, feature_types=None,\n",
       "                gamma=None, grow_policy=None, importance_type=None,\n",
       "                interaction_constraints=None, learning_rate=0.1, max_bin=None,\n",
       "                max_cat_threshold=None, max_cat_to_onehot=None,\n",
       "                max_delta_step=None, max_depth=6, max_leaves=None,\n",
       "                min_child_weight=None, missing=nan, monotone_constraints=None,\n",
       "                multi_strategy=None, n_estimators=9, n_jobs=None,\n",
       "                num_parallel_tree=None, random_state=None, ...))]"
      ]
     },
     "metadata": {},
     "execution_count": 36
    }
   ],
   "source": [
    "estimator = XGBClassifier(objective= 'multi:softmax', num_class=7)\n",
    "\n",
    "parameters = {\n",
    "    'max_depth': range (1, 10, 5),\n",
    "    'n_estimators': range(1, 10),\n",
    "    'learning_rate': [0.1, 0.01]\n",
    "}\n",
    "cv = StratifiedKFold(n_splits=5)\n",
    "search = GridSearchCV(estimator=estimator,\n",
    "                      param_grid=parameters,\n",
    "                      scoring = 'accuracy', n_jobs=-1, cv = cv,\n",
    "                      verbose=True)\n",
    "# perform the search\n",
    "grid_result = search.fit(X_train_scaled, y_train.reshape(-1)-1)\n",
    "\n",
    "# summarize results\n",
    "print(\"Best: %f using %s\" % (grid_result.best_score_, grid_result.best_params_))\n",
    "means = grid_result.cv_results_['mean_test_score']\n",
    "stds = grid_result.cv_results_['std_test_score']\n",
    "params = grid_result.cv_results_['params']\n",
    "for mean, stdev, param in zip(means, stds, params):\n",
    "    print(\"%f (%f) with: %r\" % (mean, stdev, param))\n",
    "\n",
    "models.append(('XGB', XGBClassifier(**grid_result.best_params_)))\n",
    "models"
   ],
   "id": "d45ebce8-ef55-4c40-897b-55fbe36c297b"
  },
  {
   "cell_type": "code",
   "execution_count": 36,
   "metadata": {
    "id": "41ae3a4e-3875-474d-9bc7-0664abe84323"
   },
   "outputs": [],
   "source": [],
   "id": "41ae3a4e-3875-474d-9bc7-0664abe84323"
  },
  {
   "cell_type": "code",
   "source": [],
   "metadata": {
    "id": "ryklygFKspD7"
   },
   "id": "ryklygFKspD7",
   "execution_count": 36,
   "outputs": []
  },
  {
   "cell_type": "markdown",
   "metadata": {
    "id": "5b71ab78-baeb-429c-abff-e59d2defce56"
   },
   "source": [
    "#### Evaluate algorithm"
   ],
   "id": "5b71ab78-baeb-429c-abff-e59d2defce56"
  },
  {
   "cell_type": "code",
   "execution_count": 37,
   "metadata": {
    "colab": {
     "base_uri": "https://localhost:8080/"
    },
    "id": "ffa7a548-f828-4ca4-8900-5b1e0d41e3a0",
    "outputId": "b97d218b-d92d-4a57-a0a9-6fb1c24bb3d2"
   },
   "outputs": [
    {
     "output_type": "stream",
     "name": "stdout",
     "text": [
      "LRG: 0.629091 (0.074188)\n",
      "RGC: 0.505320 (0.067698)\n",
      "KNN: 0.324512 (0.081448)\n",
      "SVM: 0.533131 (0.061128)\n",
      "BGC: 0.636431 (0.049841)\n",
      "RFC: 0.651347 (0.052123)\n",
      "GBC: 0.655084 (0.047847)\n",
      "LDA: 0.129125 (0.023126)\n",
      "DTC: 0.561010 (0.063071)\n",
      "XGB: 0.619966 (0.034753)\n"
     ]
    }
   ],
   "source": [
    "# Evaluate Algorithms\n",
    "\n",
    "# Test options and evaluation metric\n",
    "num_folds = 10\n",
    "seed = 7\n",
    "scoring = 'accuracy'\n",
    "\n",
    "results = []\n",
    "names = []\n",
    "for name, model in models:\n",
    "\tkfold = KFold(n_splits=num_folds)\n",
    "\ty_temp = y_test.ravel()\n",
    "\tif name == 'XGB':\n",
    "\t\ty_temp = y_test.reshape(-1) - 1\n",
    "\tcv_results = cross_val_score(model, X_test_scaled, y_temp, cv=kfold, scoring=scoring)\n",
    "\tresults.append(cv_results)\n",
    "\tnames.append(name)\n",
    "\tmsg = \"%s: %f (%f)\" % (name, cv_results.mean(), cv_results.std())\n",
    "\tprint(msg)"
   ],
   "id": "ffa7a548-f828-4ca4-8900-5b1e0d41e3a0"
  },
  {
   "cell_type": "code",
   "execution_count": 38,
   "metadata": {
    "colab": {
     "base_uri": "https://localhost:8080/",
     "height": 363
    },
    "id": "bd18d2c3-9ed3-453d-9e2c-71c6989e7e7d",
    "outputId": "73ab6fb8-455c-4c68-9bff-6e905c0ef314"
   },
   "outputs": [
    {
     "output_type": "execute_result",
     "data": {
      "text/plain": [
       "            0         1         2         3         4         5         6  \\\n",
       "LRG  0.563636  0.727273  0.611111  0.555556  0.574074  0.574074  0.592593   \n",
       "RGC  0.490909  0.636364  0.500000  0.388889  0.444444  0.537037  0.481481   \n",
       "KNN  0.381818  0.381818  0.203704  0.407407  0.222222  0.333333  0.240741   \n",
       "SVM  0.490909  0.618182  0.462963  0.481481  0.500000  0.518519  0.481481   \n",
       "BGC  0.581818  0.745455  0.629630  0.611111  0.629630  0.611111  0.629630   \n",
       "RFC  0.600000  0.672727  0.611111  0.611111  0.611111  0.722222  0.574074   \n",
       "GBC  0.563636  0.690909  0.648148  0.592593  0.629630  0.666667  0.666667   \n",
       "LDA  0.109091  0.163636  0.129630  0.129630  0.148148  0.111111  0.111111   \n",
       "DTC  0.436364  0.618182  0.592593  0.518519  0.648148  0.611111  0.481481   \n",
       "XGB  0.600000  0.618182  0.592593  0.611111  0.629630  0.555556  0.685185   \n",
       "\n",
       "            7         8         9  \n",
       "LRG  0.703704  0.777778  0.611111  \n",
       "RGC  0.462963  0.592593  0.518519  \n",
       "KNN  0.370370  0.444444  0.259259  \n",
       "SVM  0.592593  0.648148  0.537037  \n",
       "BGC  0.648148  0.703704  0.574074  \n",
       "RFC  0.703704  0.703704  0.703704  \n",
       "GBC  0.740741  0.685185  0.666667  \n",
       "LDA  0.166667  0.129630  0.092593  \n",
       "DTC  0.574074  0.537037  0.592593  \n",
       "XGB  0.666667  0.611111  0.629630  "
      ],
      "text/html": [
       "\n",
       "  <div id=\"df-dedeca62-70ab-4e97-84bc-672dff70dae9\" class=\"colab-df-container\">\n",
       "    <div>\n",
       "<style scoped>\n",
       "    .dataframe tbody tr th:only-of-type {\n",
       "        vertical-align: middle;\n",
       "    }\n",
       "\n",
       "    .dataframe tbody tr th {\n",
       "        vertical-align: top;\n",
       "    }\n",
       "\n",
       "    .dataframe thead th {\n",
       "        text-align: right;\n",
       "    }\n",
       "</style>\n",
       "<table border=\"1\" class=\"dataframe\">\n",
       "  <thead>\n",
       "    <tr style=\"text-align: right;\">\n",
       "      <th></th>\n",
       "      <th>0</th>\n",
       "      <th>1</th>\n",
       "      <th>2</th>\n",
       "      <th>3</th>\n",
       "      <th>4</th>\n",
       "      <th>5</th>\n",
       "      <th>6</th>\n",
       "      <th>7</th>\n",
       "      <th>8</th>\n",
       "      <th>9</th>\n",
       "    </tr>\n",
       "  </thead>\n",
       "  <tbody>\n",
       "    <tr>\n",
       "      <th>LRG</th>\n",
       "      <td>0.563636</td>\n",
       "      <td>0.727273</td>\n",
       "      <td>0.611111</td>\n",
       "      <td>0.555556</td>\n",
       "      <td>0.574074</td>\n",
       "      <td>0.574074</td>\n",
       "      <td>0.592593</td>\n",
       "      <td>0.703704</td>\n",
       "      <td>0.777778</td>\n",
       "      <td>0.611111</td>\n",
       "    </tr>\n",
       "    <tr>\n",
       "      <th>RGC</th>\n",
       "      <td>0.490909</td>\n",
       "      <td>0.636364</td>\n",
       "      <td>0.500000</td>\n",
       "      <td>0.388889</td>\n",
       "      <td>0.444444</td>\n",
       "      <td>0.537037</td>\n",
       "      <td>0.481481</td>\n",
       "      <td>0.462963</td>\n",
       "      <td>0.592593</td>\n",
       "      <td>0.518519</td>\n",
       "    </tr>\n",
       "    <tr>\n",
       "      <th>KNN</th>\n",
       "      <td>0.381818</td>\n",
       "      <td>0.381818</td>\n",
       "      <td>0.203704</td>\n",
       "      <td>0.407407</td>\n",
       "      <td>0.222222</td>\n",
       "      <td>0.333333</td>\n",
       "      <td>0.240741</td>\n",
       "      <td>0.370370</td>\n",
       "      <td>0.444444</td>\n",
       "      <td>0.259259</td>\n",
       "    </tr>\n",
       "    <tr>\n",
       "      <th>SVM</th>\n",
       "      <td>0.490909</td>\n",
       "      <td>0.618182</td>\n",
       "      <td>0.462963</td>\n",
       "      <td>0.481481</td>\n",
       "      <td>0.500000</td>\n",
       "      <td>0.518519</td>\n",
       "      <td>0.481481</td>\n",
       "      <td>0.592593</td>\n",
       "      <td>0.648148</td>\n",
       "      <td>0.537037</td>\n",
       "    </tr>\n",
       "    <tr>\n",
       "      <th>BGC</th>\n",
       "      <td>0.581818</td>\n",
       "      <td>0.745455</td>\n",
       "      <td>0.629630</td>\n",
       "      <td>0.611111</td>\n",
       "      <td>0.629630</td>\n",
       "      <td>0.611111</td>\n",
       "      <td>0.629630</td>\n",
       "      <td>0.648148</td>\n",
       "      <td>0.703704</td>\n",
       "      <td>0.574074</td>\n",
       "    </tr>\n",
       "    <tr>\n",
       "      <th>RFC</th>\n",
       "      <td>0.600000</td>\n",
       "      <td>0.672727</td>\n",
       "      <td>0.611111</td>\n",
       "      <td>0.611111</td>\n",
       "      <td>0.611111</td>\n",
       "      <td>0.722222</td>\n",
       "      <td>0.574074</td>\n",
       "      <td>0.703704</td>\n",
       "      <td>0.703704</td>\n",
       "      <td>0.703704</td>\n",
       "    </tr>\n",
       "    <tr>\n",
       "      <th>GBC</th>\n",
       "      <td>0.563636</td>\n",
       "      <td>0.690909</td>\n",
       "      <td>0.648148</td>\n",
       "      <td>0.592593</td>\n",
       "      <td>0.629630</td>\n",
       "      <td>0.666667</td>\n",
       "      <td>0.666667</td>\n",
       "      <td>0.740741</td>\n",
       "      <td>0.685185</td>\n",
       "      <td>0.666667</td>\n",
       "    </tr>\n",
       "    <tr>\n",
       "      <th>LDA</th>\n",
       "      <td>0.109091</td>\n",
       "      <td>0.163636</td>\n",
       "      <td>0.129630</td>\n",
       "      <td>0.129630</td>\n",
       "      <td>0.148148</td>\n",
       "      <td>0.111111</td>\n",
       "      <td>0.111111</td>\n",
       "      <td>0.166667</td>\n",
       "      <td>0.129630</td>\n",
       "      <td>0.092593</td>\n",
       "    </tr>\n",
       "    <tr>\n",
       "      <th>DTC</th>\n",
       "      <td>0.436364</td>\n",
       "      <td>0.618182</td>\n",
       "      <td>0.592593</td>\n",
       "      <td>0.518519</td>\n",
       "      <td>0.648148</td>\n",
       "      <td>0.611111</td>\n",
       "      <td>0.481481</td>\n",
       "      <td>0.574074</td>\n",
       "      <td>0.537037</td>\n",
       "      <td>0.592593</td>\n",
       "    </tr>\n",
       "    <tr>\n",
       "      <th>XGB</th>\n",
       "      <td>0.600000</td>\n",
       "      <td>0.618182</td>\n",
       "      <td>0.592593</td>\n",
       "      <td>0.611111</td>\n",
       "      <td>0.629630</td>\n",
       "      <td>0.555556</td>\n",
       "      <td>0.685185</td>\n",
       "      <td>0.666667</td>\n",
       "      <td>0.611111</td>\n",
       "      <td>0.629630</td>\n",
       "    </tr>\n",
       "  </tbody>\n",
       "</table>\n",
       "</div>\n",
       "    <div class=\"colab-df-buttons\">\n",
       "\n",
       "  <div class=\"colab-df-container\">\n",
       "    <button class=\"colab-df-convert\" onclick=\"convertToInteractive('df-dedeca62-70ab-4e97-84bc-672dff70dae9')\"\n",
       "            title=\"Convert this dataframe to an interactive table.\"\n",
       "            style=\"display:none;\">\n",
       "\n",
       "  <svg xmlns=\"http://www.w3.org/2000/svg\" height=\"24px\" viewBox=\"0 -960 960 960\">\n",
       "    <path d=\"M120-120v-720h720v720H120Zm60-500h600v-160H180v160Zm220 220h160v-160H400v160Zm0 220h160v-160H400v160ZM180-400h160v-160H180v160Zm440 0h160v-160H620v160ZM180-180h160v-160H180v160Zm440 0h160v-160H620v160Z\"/>\n",
       "  </svg>\n",
       "    </button>\n",
       "\n",
       "  <style>\n",
       "    .colab-df-container {\n",
       "      display:flex;\n",
       "      gap: 12px;\n",
       "    }\n",
       "\n",
       "    .colab-df-convert {\n",
       "      background-color: #E8F0FE;\n",
       "      border: none;\n",
       "      border-radius: 50%;\n",
       "      cursor: pointer;\n",
       "      display: none;\n",
       "      fill: #1967D2;\n",
       "      height: 32px;\n",
       "      padding: 0 0 0 0;\n",
       "      width: 32px;\n",
       "    }\n",
       "\n",
       "    .colab-df-convert:hover {\n",
       "      background-color: #E2EBFA;\n",
       "      box-shadow: 0px 1px 2px rgba(60, 64, 67, 0.3), 0px 1px 3px 1px rgba(60, 64, 67, 0.15);\n",
       "      fill: #174EA6;\n",
       "    }\n",
       "\n",
       "    .colab-df-buttons div {\n",
       "      margin-bottom: 4px;\n",
       "    }\n",
       "\n",
       "    [theme=dark] .colab-df-convert {\n",
       "      background-color: #3B4455;\n",
       "      fill: #D2E3FC;\n",
       "    }\n",
       "\n",
       "    [theme=dark] .colab-df-convert:hover {\n",
       "      background-color: #434B5C;\n",
       "      box-shadow: 0px 1px 3px 1px rgba(0, 0, 0, 0.15);\n",
       "      filter: drop-shadow(0px 1px 2px rgba(0, 0, 0, 0.3));\n",
       "      fill: #FFFFFF;\n",
       "    }\n",
       "  </style>\n",
       "\n",
       "    <script>\n",
       "      const buttonEl =\n",
       "        document.querySelector('#df-dedeca62-70ab-4e97-84bc-672dff70dae9 button.colab-df-convert');\n",
       "      buttonEl.style.display =\n",
       "        google.colab.kernel.accessAllowed ? 'block' : 'none';\n",
       "\n",
       "      async function convertToInteractive(key) {\n",
       "        const element = document.querySelector('#df-dedeca62-70ab-4e97-84bc-672dff70dae9');\n",
       "        const dataTable =\n",
       "          await google.colab.kernel.invokeFunction('convertToInteractive',\n",
       "                                                    [key], {});\n",
       "        if (!dataTable) return;\n",
       "\n",
       "        const docLinkHtml = 'Like what you see? Visit the ' +\n",
       "          '<a target=\"_blank\" href=https://colab.research.google.com/notebooks/data_table.ipynb>data table notebook</a>'\n",
       "          + ' to learn more about interactive tables.';\n",
       "        element.innerHTML = '';\n",
       "        dataTable['output_type'] = 'display_data';\n",
       "        await google.colab.output.renderOutput(dataTable, element);\n",
       "        const docLink = document.createElement('div');\n",
       "        docLink.innerHTML = docLinkHtml;\n",
       "        element.appendChild(docLink);\n",
       "      }\n",
       "    </script>\n",
       "  </div>\n",
       "\n",
       "\n",
       "<div id=\"df-372815fa-66bc-4c3e-9b94-499e3f2c247d\">\n",
       "  <button class=\"colab-df-quickchart\" onclick=\"quickchart('df-372815fa-66bc-4c3e-9b94-499e3f2c247d')\"\n",
       "            title=\"Suggest charts\"\n",
       "            style=\"display:none;\">\n",
       "\n",
       "<svg xmlns=\"http://www.w3.org/2000/svg\" height=\"24px\"viewBox=\"0 0 24 24\"\n",
       "     width=\"24px\">\n",
       "    <g>\n",
       "        <path d=\"M19 3H5c-1.1 0-2 .9-2 2v14c0 1.1.9 2 2 2h14c1.1 0 2-.9 2-2V5c0-1.1-.9-2-2-2zM9 17H7v-7h2v7zm4 0h-2V7h2v10zm4 0h-2v-4h2v4z\"/>\n",
       "    </g>\n",
       "</svg>\n",
       "  </button>\n",
       "\n",
       "<style>\n",
       "  .colab-df-quickchart {\n",
       "      --bg-color: #E8F0FE;\n",
       "      --fill-color: #1967D2;\n",
       "      --hover-bg-color: #E2EBFA;\n",
       "      --hover-fill-color: #174EA6;\n",
       "      --disabled-fill-color: #AAA;\n",
       "      --disabled-bg-color: #DDD;\n",
       "  }\n",
       "\n",
       "  [theme=dark] .colab-df-quickchart {\n",
       "      --bg-color: #3B4455;\n",
       "      --fill-color: #D2E3FC;\n",
       "      --hover-bg-color: #434B5C;\n",
       "      --hover-fill-color: #FFFFFF;\n",
       "      --disabled-bg-color: #3B4455;\n",
       "      --disabled-fill-color: #666;\n",
       "  }\n",
       "\n",
       "  .colab-df-quickchart {\n",
       "    background-color: var(--bg-color);\n",
       "    border: none;\n",
       "    border-radius: 50%;\n",
       "    cursor: pointer;\n",
       "    display: none;\n",
       "    fill: var(--fill-color);\n",
       "    height: 32px;\n",
       "    padding: 0;\n",
       "    width: 32px;\n",
       "  }\n",
       "\n",
       "  .colab-df-quickchart:hover {\n",
       "    background-color: var(--hover-bg-color);\n",
       "    box-shadow: 0 1px 2px rgba(60, 64, 67, 0.3), 0 1px 3px 1px rgba(60, 64, 67, 0.15);\n",
       "    fill: var(--button-hover-fill-color);\n",
       "  }\n",
       "\n",
       "  .colab-df-quickchart-complete:disabled,\n",
       "  .colab-df-quickchart-complete:disabled:hover {\n",
       "    background-color: var(--disabled-bg-color);\n",
       "    fill: var(--disabled-fill-color);\n",
       "    box-shadow: none;\n",
       "  }\n",
       "\n",
       "  .colab-df-spinner {\n",
       "    border: 2px solid var(--fill-color);\n",
       "    border-color: transparent;\n",
       "    border-bottom-color: var(--fill-color);\n",
       "    animation:\n",
       "      spin 1s steps(1) infinite;\n",
       "  }\n",
       "\n",
       "  @keyframes spin {\n",
       "    0% {\n",
       "      border-color: transparent;\n",
       "      border-bottom-color: var(--fill-color);\n",
       "      border-left-color: var(--fill-color);\n",
       "    }\n",
       "    20% {\n",
       "      border-color: transparent;\n",
       "      border-left-color: var(--fill-color);\n",
       "      border-top-color: var(--fill-color);\n",
       "    }\n",
       "    30% {\n",
       "      border-color: transparent;\n",
       "      border-left-color: var(--fill-color);\n",
       "      border-top-color: var(--fill-color);\n",
       "      border-right-color: var(--fill-color);\n",
       "    }\n",
       "    40% {\n",
       "      border-color: transparent;\n",
       "      border-right-color: var(--fill-color);\n",
       "      border-top-color: var(--fill-color);\n",
       "    }\n",
       "    60% {\n",
       "      border-color: transparent;\n",
       "      border-right-color: var(--fill-color);\n",
       "    }\n",
       "    80% {\n",
       "      border-color: transparent;\n",
       "      border-right-color: var(--fill-color);\n",
       "      border-bottom-color: var(--fill-color);\n",
       "    }\n",
       "    90% {\n",
       "      border-color: transparent;\n",
       "      border-bottom-color: var(--fill-color);\n",
       "    }\n",
       "  }\n",
       "</style>\n",
       "\n",
       "  <script>\n",
       "    async function quickchart(key) {\n",
       "      const quickchartButtonEl =\n",
       "        document.querySelector('#' + key + ' button');\n",
       "      quickchartButtonEl.disabled = true;  // To prevent multiple clicks.\n",
       "      quickchartButtonEl.classList.add('colab-df-spinner');\n",
       "      try {\n",
       "        const charts = await google.colab.kernel.invokeFunction(\n",
       "            'suggestCharts', [key], {});\n",
       "      } catch (error) {\n",
       "        console.error('Error during call to suggestCharts:', error);\n",
       "      }\n",
       "      quickchartButtonEl.classList.remove('colab-df-spinner');\n",
       "      quickchartButtonEl.classList.add('colab-df-quickchart-complete');\n",
       "    }\n",
       "    (() => {\n",
       "      let quickchartButtonEl =\n",
       "        document.querySelector('#df-372815fa-66bc-4c3e-9b94-499e3f2c247d button');\n",
       "      quickchartButtonEl.style.display =\n",
       "        google.colab.kernel.accessAllowed ? 'block' : 'none';\n",
       "    })();\n",
       "  </script>\n",
       "</div>\n",
       "    </div>\n",
       "  </div>\n"
      ]
     },
     "metadata": {},
     "execution_count": 38
    }
   ],
   "source": [
    "df_results = pd.DataFrame(data=results,index=names)\n",
    "df_results"
   ],
   "id": "bd18d2c3-9ed3-453d-9e2c-71c6989e7e7d"
  },
  {
   "cell_type": "markdown",
   "metadata": {
    "id": "327fc09f-2389-4841-a6c5-f1ad17793e7c"
   },
   "source": [
    "Maintenant nous allons visualiser les performances des modeles sur les données de tests"
   ],
   "id": "327fc09f-2389-4841-a6c5-f1ad17793e7c"
  },
  {
   "cell_type": "code",
   "execution_count": 39,
   "metadata": {
    "colab": {
     "base_uri": "https://localhost:8080/"
    },
    "id": "lpsENv3ltbiC",
    "outputId": "fa09b654-0cc3-4513-a70f-68024515f77d"
   },
   "outputs": [
    {
     "output_type": "execute_result",
     "data": {
      "text/plain": [
       "LRG    0.777778\n",
       "RGC    0.636364\n",
       "KNN    0.444444\n",
       "SVM    0.648148\n",
       "BGC    0.745455\n",
       "RFC    0.722222\n",
       "GBC    0.740741\n",
       "LDA    0.166667\n",
       "DTC    0.648148\n",
       "XGB    0.685185\n",
       "dtype: float64"
      ]
     },
     "metadata": {},
     "execution_count": 39
    }
   ],
   "source": [
    "df_results.max(axis=1)"
   ],
   "id": "lpsENv3ltbiC"
  },
  {
   "cell_type": "markdown",
   "metadata": {
    "id": "658efb6f-73c9-4ca0-a678-12f37d058ddc"
   },
   "source": [
    "####  Algorithm boxplot"
   ],
   "id": "658efb6f-73c9-4ca0-a678-12f37d058ddc"
  },
  {
   "cell_type": "code",
   "execution_count": 40,
   "metadata": {
    "colab": {
     "base_uri": "https://localhost:8080/",
     "height": 478
    },
    "id": "75b54772-1f4e-4a6d-ad8f-4d764b750ef9",
    "outputId": "d282b506-85f0-48c7-873a-91dab16f3cf8"
   },
   "outputs": [
    {
     "output_type": "display_data",
     "data": {
      "text/plain": [
       "<Figure size 640x480 with 1 Axes>"
      ],
      "image/png": "[encoded data removed]"
     },
     "metadata": {}
    }
   ],
   "source": [
    "# Compare Algorithms\n",
    "fig = plt.figure()\n",
    "fig.suptitle('Algorithm Comparison')\n",
    "ax = fig.add_subplot(111)\n",
    "plt.boxplot(results)\n",
    "ax.set_xticklabels(names)\n",
    "plt.show()"
   ],
   "id": "75b54772-1f4e-4a6d-ad8f-4d764b750ef9"
  },
  {
   "cell_type": "markdown",
   "source": [
    "Nous pouvons remarquer que les modèles ```LDA``` et ```KNN``` ne performe pas bien. La **Regression Logistic** donne un bon ```accuracy``` sur les données de test et donc semble représenter le bon modèle. Cependant, cette mesure pourrait être biaisé compte tenu du déséquilibre des classes.\n",
    "\n",
    "Nous allons donc pour surmonter le déséquilibre des classes, effectuer une méthode d'échantillonnage de données (**Oversampling et Undersampling**). D'après les expériences réalisées l'application de simultanée des deux méthodes démontre de bonne performances.  "
   ],
   "metadata": {
    "id": "EhO7vi3pw6ZG"
   },
   "id": "EhO7vi3pw6ZG"
  },
  {
   "cell_type": "markdown",
   "metadata": {
    "collapsed": false,
    "id": "5140bde6979c885e"
   },
   "source": [
    "### Handle unbalanced data"
   ],
   "id": "5140bde6979c885e"
  },
  {
   "cell_type": "code",
   "execution_count": 41,
   "metadata": {
    "colab": {
     "base_uri": "https://localhost:8080/"
    },
    "id": "546a0e0e5b313c6c",
    "outputId": "f9252db6-fdae-493d-b5fd-7e9fafdd9a28"
   },
   "outputs": [
    {
     "output_type": "execute_result",
     "data": {
      "text/plain": [
       "((4578, 1433),\n",
       " (4578,),\n",
       " Counter({1: 654, 2: 654, 3: 654, 4: 654, 5: 654, 6: 654, 7: 654}))"
      ]
     },
     "metadata": {},
     "execution_count": 41
    }
   ],
   "source": [
    "scaler = StandardScaler()\n",
    "X_train_scaled = scaler.fit_transform(X_train)\n",
    "X_test_scaled = scaler.transform(X_test)\n",
    "# y_train\n",
    "# y_test\n",
    "\n",
    "over = SMOTE()\n",
    "under = RandomUnderSampler()\n",
    "\n",
    "# scale\n",
    "\n",
    "steps = [('o', over), ('u', under)]\n",
    "pipeline = ImbPipeline(steps=steps)\n",
    "\n",
    "# transform the dataset\n",
    "X_sm, y_sm = pipeline.fit_resample(X_train_scaled, y_train)\n",
    "\n",
    "X_sm_scaled = scaler.fit_transform(X_sm)\n",
    "X_sm_scaled.shape, y_sm.shape, Counter(y_sm)"
   ],
   "id": "546a0e0e5b313c6c"
  },
  {
   "cell_type": "code",
   "execution_count": 42,
   "metadata": {
    "id": "98997df0ec81b8d4"
   },
   "outputs": [],
   "source": [
    "sm_models = []"
   ],
   "id": "98997df0ec81b8d4"
  },
  {
   "cell_type": "code",
   "execution_count": 43,
   "metadata": {
    "colab": {
     "base_uri": "https://localhost:8080/"
    },
    "id": "1babbcc6d8c1bee4",
    "outputId": "219e4520-7f41-4231-bbe6-7b9d396fbb4f"
   },
   "outputs": [
    {
     "output_type": "stream",
     "name": "stdout",
     "text": [
      "Best: 0.929013 using {'C': 0.01, 'penalty': 'l2', 'solver': 'newton-cg'}\n",
      "0.923990 (0.010565) with: {'C': 10, 'penalty': 'l2', 'solver': 'newton-cg'}\n",
      "0.923990 (0.010565) with: {'C': 10, 'penalty': 'l2', 'solver': 'lbfgs'}\n",
      "0.925956 (0.010873) with: {'C': 1.0, 'penalty': 'l2', 'solver': 'newton-cg'}\n",
      "0.925956 (0.010873) with: {'C': 1.0, 'penalty': 'l2', 'solver': 'lbfgs'}\n",
      "0.929013 (0.011618) with: {'C': 0.01, 'penalty': 'l2', 'solver': 'newton-cg'}\n",
      "0.929013 (0.011618) with: {'C': 0.01, 'penalty': 'l2', 'solver': 'lbfgs'}\n"
     ]
    },
    {
     "output_type": "execute_result",
     "data": {
      "text/plain": [
       "[('LRG',\n",
       "  LogisticRegression(C=0.01, multi_class='multinomial', solver='newton-cg'))]"
      ]
     },
     "metadata": {},
     "execution_count": 43
    }
   ],
   "source": [
    "model = LogisticRegression(multi_class='multinomial')\n",
    "solvers = ['newton-cg', 'lbfgs']  # Excluding 'liblinear'\n",
    "penalty = ['l2']\n",
    "c_values = [10, 1.0, 0.01]\n",
    "# define grid search\n",
    "grid = dict(solver=solvers, penalty=penalty, C=c_values)\n",
    "cv = StratifiedKFold(n_splits=5)\n",
    "grid_search = GridSearchCV(estimator=model, param_grid=grid, n_jobs=-1, cv=cv, scoring='accuracy', error_score=0)\n",
    "grid_result = grid_search.fit(X_sm_scaled, y_sm.ravel())\n",
    "# summarize results\n",
    "print(\"Best: %f using %s\" % (grid_result.best_score_, grid_result.best_params_))\n",
    "means = grid_result.cv_results_['mean_test_score']\n",
    "stds = grid_result.cv_results_['std_test_score']\n",
    "params = grid_result.cv_results_['params']\n",
    "for mean, stdev, param in zip(means, stds, params):\n",
    "    print(\"%f (%f) with: %r\" % (mean, stdev, param))\n",
    "\n",
    "# store best mmodels\n",
    "sm_models.append(('LRG', LogisticRegression(multi_class='multinomial', **grid_result.best_params_)))\n",
    "sm_models"
   ],
   "id": "1babbcc6d8c1bee4"
  },
  {
   "cell_type": "code",
   "execution_count": 43,
   "metadata": {
    "id": "896c024f39e15b53"
   },
   "outputs": [],
   "source": [],
   "id": "896c024f39e15b53"
  },
  {
   "cell_type": "markdown",
   "source": [
    "### RGC"
   ],
   "metadata": {
    "id": "emnW27OEtPIt"
   },
   "id": "emnW27OEtPIt"
  },
  {
   "cell_type": "code",
   "execution_count": 44,
   "metadata": {
    "colab": {
     "base_uri": "https://localhost:8080/"
    },
    "id": "4c9a8bb1062ea4a9",
    "outputId": "504d7ead-7cbb-47f9-fdc7-b780b60949f7"
   },
   "outputs": [
    {
     "output_type": "stream",
     "name": "stdout",
     "text": [
      "Best: 0.841862 using {'alpha': 1.0, 'solver': 'sparse_cg'}\n",
      "0.841425 (0.020942) with: {'alpha': 0.1, 'solver': 'sparse_cg'}\n",
      "0.841862 (0.020668) with: {'alpha': 1.0, 'solver': 'sparse_cg'}\n"
     ]
    },
    {
     "output_type": "execute_result",
     "data": {
      "text/plain": [
       "[('LRG',\n",
       "  LogisticRegression(C=0.01, multi_class='multinomial', solver='newton-cg')),\n",
       " ('RGC', RidgeClassifier(solver='sparse_cg'))]"
      ]
     },
     "metadata": {},
     "execution_count": 44
    }
   ],
   "source": [
    "# define models and parameters\n",
    "model = RidgeClassifier()\n",
    "alpha = [0.1, 1.0]\n",
    "solver=[\"sparse_cg\"]\n",
    "# define grid search\n",
    "grid = dict(alpha=alpha, solver=solver)\n",
    "cv = StratifiedKFold(n_splits=5)\n",
    "grid_search = GridSearchCV(estimator=model, param_grid=grid, n_jobs=-1, cv=cv, scoring='accuracy',error_score=0)\n",
    "grid_result = grid_search.fit(X_sm_scaled, y_sm)\n",
    "# summarize results\n",
    "print(\"Best: %f using %s\" % (grid_result.best_score_, grid_result.best_params_))\n",
    "means = grid_result.cv_results_['mean_test_score']\n",
    "stds = grid_result.cv_results_['std_test_score']\n",
    "params = grid_result.cv_results_['params']\n",
    "for mean, stdev, param in zip(means, stds, params):\n",
    "    print(\"%f (%f) with: %r\" % (mean, stdev, param))\n",
    "\n",
    "# save best estimator\n",
    "sm_models.append(('RGC', RidgeClassifier(**grid_result.best_params_)))\n",
    "sm_models"
   ],
   "id": "4c9a8bb1062ea4a9"
  },
  {
   "cell_type": "code",
   "execution_count": 44,
   "metadata": {
    "id": "b8bb34e5c81fc6fd"
   },
   "outputs": [],
   "source": [],
   "id": "b8bb34e5c81fc6fd"
  },
  {
   "cell_type": "markdown",
   "source": [
    "### KNN"
   ],
   "metadata": {
    "id": "DgfHdJA8tMRD"
   },
   "id": "DgfHdJA8tMRD"
  },
  {
   "cell_type": "code",
   "execution_count": 45,
   "metadata": {
    "colab": {
     "base_uri": "https://localhost:8080/"
    },
    "id": "2135bb8cfca92e00",
    "outputId": "c48b897d-70fa-4744-83e6-51c7b6fb63fc"
   },
   "outputs": [
    {
     "output_type": "stream",
     "name": "stdout",
     "text": [
      "Best: 0.851249 using {'metric': 'manhattan', 'n_neighbors': 1, 'weights': 'uniform'}\n",
      "0.839892 (0.012416) with: {'metric': 'euclidean', 'n_neighbors': 1, 'weights': 'uniform'}\n",
      "0.839892 (0.012416) with: {'metric': 'euclidean', 'n_neighbors': 1, 'weights': 'distance'}\n",
      "0.777205 (0.022405) with: {'metric': 'euclidean', 'n_neighbors': 3, 'weights': 'uniform'}\n",
      "0.818925 (0.017735) with: {'metric': 'euclidean', 'n_neighbors': 3, 'weights': 'distance'}\n",
      "0.747058 (0.017955) with: {'metric': 'euclidean', 'n_neighbors': 5, 'weights': 'uniform'}\n",
      "0.797516 (0.016258) with: {'metric': 'euclidean', 'n_neighbors': 5, 'weights': 'distance'}\n",
      "0.719533 (0.021059) with: {'metric': 'euclidean', 'n_neighbors': 7, 'weights': 'uniform'}\n",
      "0.784629 (0.016977) with: {'metric': 'euclidean', 'n_neighbors': 7, 'weights': 'distance'}\n",
      "0.692886 (0.024085) with: {'metric': 'euclidean', 'n_neighbors': 9, 'weights': 'uniform'}\n",
      "0.766500 (0.022836) with: {'metric': 'euclidean', 'n_neighbors': 9, 'weights': 'distance'}\n",
      "0.672135 (0.027862) with: {'metric': 'euclidean', 'n_neighbors': 11, 'weights': 'uniform'}\n",
      "0.758200 (0.021823) with: {'metric': 'euclidean', 'n_neighbors': 11, 'weights': 'distance'}\n",
      "0.651384 (0.027769) with: {'metric': 'euclidean', 'n_neighbors': 13, 'weights': 'uniform'}\n",
      "0.748152 (0.023353) with: {'metric': 'euclidean', 'n_neighbors': 13, 'weights': 'distance'}\n",
      "0.643522 (0.029110) with: {'metric': 'euclidean', 'n_neighbors': 15, 'weights': 'uniform'}\n",
      "0.735482 (0.023334) with: {'metric': 'euclidean', 'n_neighbors': 15, 'weights': 'distance'}\n",
      "0.631508 (0.034029) with: {'metric': 'euclidean', 'n_neighbors': 17, 'weights': 'uniform'}\n",
      "0.731768 (0.023034) with: {'metric': 'euclidean', 'n_neighbors': 17, 'weights': 'distance'}\n",
      "0.629542 (0.033620) with: {'metric': 'euclidean', 'n_neighbors': 19, 'weights': 'uniform'}\n",
      "0.726745 (0.025445) with: {'metric': 'euclidean', 'n_neighbors': 19, 'weights': 'distance'}\n",
      "0.851249 (0.011515) with: {'metric': 'manhattan', 'n_neighbors': 1, 'weights': 'uniform'}\n",
      "0.851249 (0.011515) with: {'metric': 'manhattan', 'n_neighbors': 1, 'weights': 'distance'}\n",
      "0.758636 (0.022384) with: {'metric': 'manhattan', 'n_neighbors': 3, 'weights': 'uniform'}\n",
      "0.810624 (0.016817) with: {'metric': 'manhattan', 'n_neighbors': 3, 'weights': 'distance'}\n",
      "0.693542 (0.034690) with: {'metric': 'manhattan', 'n_neighbors': 5, 'weights': 'uniform'}\n",
      "0.779171 (0.025492) with: {'metric': 'manhattan', 'n_neighbors': 5, 'weights': 'distance'}\n",
      "0.664711 (0.037966) with: {'metric': 'manhattan', 'n_neighbors': 7, 'weights': 'uniform'}\n",
      "0.755802 (0.031063) with: {'metric': 'manhattan', 'n_neighbors': 7, 'weights': 'distance'}\n",
      "0.645273 (0.042971) with: {'metric': 'manhattan', 'n_neighbors': 9, 'weights': 'uniform'}\n",
      "0.749249 (0.034538) with: {'metric': 'manhattan', 'n_neighbors': 9, 'weights': 'distance'}\n",
      "0.632387 (0.042456) with: {'metric': 'manhattan', 'n_neighbors': 11, 'weights': 'uniform'}\n",
      "0.745097 (0.033046) with: {'metric': 'manhattan', 'n_neighbors': 11, 'weights': 'distance'}\n",
      "0.624301 (0.039431) with: {'metric': 'manhattan', 'n_neighbors': 13, 'weights': 'uniform'}\n",
      "0.737452 (0.033434) with: {'metric': 'manhattan', 'n_neighbors': 13, 'weights': 'distance'}\n",
      "0.621678 (0.036579) with: {'metric': 'manhattan', 'n_neighbors': 15, 'weights': 'uniform'}\n",
      "0.734391 (0.028457) with: {'metric': 'manhattan', 'n_neighbors': 15, 'weights': 'distance'}\n",
      "0.615780 (0.034760) with: {'metric': 'manhattan', 'n_neighbors': 17, 'weights': 'uniform'}\n",
      "0.731332 (0.024279) with: {'metric': 'manhattan', 'n_neighbors': 17, 'weights': 'distance'}\n",
      "0.606387 (0.030598) with: {'metric': 'manhattan', 'n_neighbors': 19, 'weights': 'uniform'}\n",
      "0.725434 (0.026094) with: {'metric': 'manhattan', 'n_neighbors': 19, 'weights': 'distance'}\n",
      "0.839892 (0.012416) with: {'metric': 'minkowski', 'n_neighbors': 1, 'weights': 'uniform'}\n",
      "0.839892 (0.012416) with: {'metric': 'minkowski', 'n_neighbors': 1, 'weights': 'distance'}\n",
      "0.777205 (0.022405) with: {'metric': 'minkowski', 'n_neighbors': 3, 'weights': 'uniform'}\n",
      "0.818925 (0.017735) with: {'metric': 'minkowski', 'n_neighbors': 3, 'weights': 'distance'}\n",
      "0.747058 (0.017955) with: {'metric': 'minkowski', 'n_neighbors': 5, 'weights': 'uniform'}\n",
      "0.797516 (0.016258) with: {'metric': 'minkowski', 'n_neighbors': 5, 'weights': 'distance'}\n",
      "0.719533 (0.021059) with: {'metric': 'minkowski', 'n_neighbors': 7, 'weights': 'uniform'}\n",
      "0.784629 (0.016977) with: {'metric': 'minkowski', 'n_neighbors': 7, 'weights': 'distance'}\n",
      "0.692886 (0.024085) with: {'metric': 'minkowski', 'n_neighbors': 9, 'weights': 'uniform'}\n",
      "0.766500 (0.022836) with: {'metric': 'minkowski', 'n_neighbors': 9, 'weights': 'distance'}\n",
      "0.672135 (0.027862) with: {'metric': 'minkowski', 'n_neighbors': 11, 'weights': 'uniform'}\n",
      "0.758200 (0.021823) with: {'metric': 'minkowski', 'n_neighbors': 11, 'weights': 'distance'}\n",
      "0.651384 (0.027769) with: {'metric': 'minkowski', 'n_neighbors': 13, 'weights': 'uniform'}\n",
      "0.748152 (0.023353) with: {'metric': 'minkowski', 'n_neighbors': 13, 'weights': 'distance'}\n",
      "0.643522 (0.029110) with: {'metric': 'minkowski', 'n_neighbors': 15, 'weights': 'uniform'}\n",
      "0.735482 (0.023334) with: {'metric': 'minkowski', 'n_neighbors': 15, 'weights': 'distance'}\n",
      "0.631508 (0.034029) with: {'metric': 'minkowski', 'n_neighbors': 17, 'weights': 'uniform'}\n",
      "0.731768 (0.023034) with: {'metric': 'minkowski', 'n_neighbors': 17, 'weights': 'distance'}\n",
      "0.629542 (0.033620) with: {'metric': 'minkowski', 'n_neighbors': 19, 'weights': 'uniform'}\n",
      "0.726745 (0.025445) with: {'metric': 'minkowski', 'n_neighbors': 19, 'weights': 'distance'}\n"
     ]
    },
    {
     "output_type": "execute_result",
     "data": {
      "text/plain": [
       "[('LRG',\n",
       "  LogisticRegression(C=0.01, multi_class='multinomial', solver='newton-cg')),\n",
       " ('RGC', RidgeClassifier(solver='sparse_cg')),\n",
       " ('KNN', KNeighborsClassifier(metric='manhattan', n_neighbors=1))]"
      ]
     },
     "metadata": {},
     "execution_count": 45
    }
   ],
   "source": [
    "# define models and parameters\n",
    "model = KNeighborsClassifier()\n",
    "n_neighbors = range(1, 21, 2)\n",
    "weights = ['uniform', 'distance']\n",
    "metric = ['euclidean', 'manhattan', 'minkowski']\n",
    "# define grid search\n",
    "grid = dict(n_neighbors=n_neighbors,weights=weights,metric=metric)\n",
    "cv = StratifiedKFold(n_splits=5)\n",
    "grid_search = GridSearchCV(estimator=model, param_grid=grid, n_jobs=-1, cv=cv, scoring='accuracy',error_score=0)\n",
    "grid_result = grid_search.fit(X_sm_scaled, y_sm)\n",
    "# summarize results\n",
    "print(\"Best: %f using %s\" % (grid_result.best_score_, grid_result.best_params_))\n",
    "means = grid_result.cv_results_['mean_test_score']\n",
    "stds = grid_result.cv_results_['std_test_score']\n",
    "params = grid_result.cv_results_['params']\n",
    "for mean, stdev, param in zip(means, stds, params):\n",
    "    print(\"%f (%f) with: %r\" % (mean, stdev, param))\n",
    "\n",
    "sm_models.append(('KNN', KNeighborsClassifier(**grid_result.best_params_)))\n",
    "sm_models"
   ],
   "id": "2135bb8cfca92e00"
  },
  {
   "cell_type": "code",
   "execution_count": 45,
   "metadata": {
    "id": "19a22741949ef697"
   },
   "outputs": [],
   "source": [],
   "id": "19a22741949ef697"
  },
  {
   "cell_type": "markdown",
   "source": [
    "### SVC"
   ],
   "metadata": {
    "id": "7r-As2-2tJSn"
   },
   "id": "7r-As2-2tJSn"
  },
  {
   "cell_type": "code",
   "execution_count": 46,
   "metadata": {
    "colab": {
     "base_uri": "https://localhost:8080/"
    },
    "id": "bd49dfa3a6ff55e0",
    "outputId": "c42a835f-346b-490c-d40e-662290e239ba"
   },
   "outputs": [
    {
     "output_type": "stream",
     "name": "stdout",
     "text": [
      "Best: 0.903462 using {'C': 10.0, 'gamma': 'scale', 'kernel': 'rbf'}\n",
      "0.465906 (0.044258) with: {'C': 1.0, 'gamma': 'scale', 'kernel': 'poly'}\n",
      "0.878128 (0.030311) with: {'C': 1.0, 'gamma': 'scale', 'kernel': 'rbf'}\n",
      "0.901925 (0.014059) with: {'C': 1.0, 'gamma': 'scale', 'kernel': 'sigmoid'}\n",
      "0.504131 (0.037379) with: {'C': 5.0, 'gamma': 'scale', 'kernel': 'poly'}\n",
      "0.902153 (0.024324) with: {'C': 5.0, 'gamma': 'scale', 'kernel': 'rbf'}\n",
      "0.889255 (0.008887) with: {'C': 5.0, 'gamma': 'scale', 'kernel': 'sigmoid'}\n",
      "0.534276 (0.040429) with: {'C': 10.0, 'gamma': 'scale', 'kernel': 'poly'}\n",
      "0.903462 (0.021542) with: {'C': 10.0, 'gamma': 'scale', 'kernel': 'rbf'}\n",
      "0.884887 (0.009453) with: {'C': 10.0, 'gamma': 'scale', 'kernel': 'sigmoid'}\n"
     ]
    },
    {
     "output_type": "execute_result",
     "data": {
      "text/plain": [
       "[('LRG',\n",
       "  LogisticRegression(C=0.01, multi_class='multinomial', solver='newton-cg')),\n",
       " ('RGC', RidgeClassifier(solver='sparse_cg')),\n",
       " ('KNN', KNeighborsClassifier(metric='manhattan', n_neighbors=1)),\n",
       " ('SVM', SVC(C=10.0))]"
      ]
     },
     "metadata": {},
     "execution_count": 46
    }
   ],
   "source": [
    "# define model and parameters\n",
    "model = SVC()\n",
    "kernel = ['poly', 'rbf', 'sigmoid']\n",
    "C = [1.0, 5.0, 10.0]\n",
    "gamma = ['scale']\n",
    "# define grid search\n",
    "grid = dict(kernel=kernel,C=C,gamma=gamma)\n",
    "cv = StratifiedKFold(n_splits=5)\n",
    "grid_search = GridSearchCV(estimator=model, param_grid=grid, n_jobs=-1, cv=cv, scoring='accuracy',error_score=0)\n",
    "grid_result = grid_search.fit(X_sm_scaled, y_sm)\n",
    "# summarize results\n",
    "print(\"Best: %f using %s\" % (grid_result.best_score_, grid_result.best_params_))\n",
    "means = grid_result.cv_results_['mean_test_score']\n",
    "stds = grid_result.cv_results_['std_test_score']\n",
    "params = grid_result.cv_results_['params']\n",
    "for mean, stdev, param in zip(means, stds, params):\n",
    "    print(\"%f (%f) with: %r\" % (mean, stdev, param))\n",
    "\n",
    "sm_models.append(('SVM', SVC(**grid_result.best_params_)))\n",
    "sm_models"
   ],
   "id": "bd49dfa3a6ff55e0"
  },
  {
   "cell_type": "code",
   "execution_count": 46,
   "metadata": {
    "id": "de8f804321e82348"
   },
   "outputs": [],
   "source": [],
   "id": "de8f804321e82348"
  },
  {
   "cell_type": "markdown",
   "source": [
    "### BGC"
   ],
   "metadata": {
    "id": "WLNXaPMOtGIz"
   },
   "id": "WLNXaPMOtGIz"
  },
  {
   "cell_type": "code",
   "execution_count": 47,
   "metadata": {
    "colab": {
     "base_uri": "https://localhost:8080/"
    },
    "id": "52fe9ce616d7a487",
    "outputId": "1730c8d2-3303-4af1-d9c3-782d4b93c0c7"
   },
   "outputs": [
    {
     "output_type": "stream",
     "name": "stdout",
     "text": [
      "Best: 0.850814 using {'n_estimators': 50}\n",
      "0.839238 (0.027717) with: {'n_estimators': 10}\n",
      "0.847977 (0.027105) with: {'n_estimators': 20}\n",
      "0.850814 (0.021961) with: {'n_estimators': 50}\n"
     ]
    },
    {
     "output_type": "execute_result",
     "data": {
      "text/plain": [
       "[('LRG',\n",
       "  LogisticRegression(C=0.01, multi_class='multinomial', solver='newton-cg')),\n",
       " ('RGC', RidgeClassifier(solver='sparse_cg')),\n",
       " ('KNN', KNeighborsClassifier(metric='manhattan', n_neighbors=1)),\n",
       " ('SVM', SVC(C=10.0)),\n",
       " ('BGC', BaggingClassifier(n_estimators=50))]"
      ]
     },
     "metadata": {},
     "execution_count": 47
    }
   ],
   "source": [
    "# define models and parameters\n",
    "model = BaggingClassifier()\n",
    "n_estimators = [10, 20, 50]\n",
    "# define grid search\n",
    "grid = dict(n_estimators=n_estimators)\n",
    "cv = StratifiedKFold(n_splits=5)\n",
    "grid_search = GridSearchCV(estimator=model, param_grid=grid, n_jobs=-1, cv=cv, scoring='accuracy',error_score=0)\n",
    "grid_result = grid_search.fit(X_sm_scaled, y_sm)\n",
    "# summarize results\n",
    "print(\"Best: %f using %s\" % (grid_result.best_score_, grid_result.best_params_))\n",
    "means = grid_result.cv_results_['mean_test_score']\n",
    "stds = grid_result.cv_results_['std_test_score']\n",
    "params = grid_result.cv_results_['params']\n",
    "for mean, stdev, param in zip(means, stds, params):\n",
    "    print(\"%f (%f) with: %r\" % (mean, stdev, param))\n",
    "\n",
    "sm_models.append(('BGC', BaggingClassifier(**grid_result.best_params_)))\n",
    "sm_models"
   ],
   "id": "52fe9ce616d7a487"
  },
  {
   "cell_type": "code",
   "execution_count": 47,
   "metadata": {
    "id": "284999f4c975eae3"
   },
   "outputs": [],
   "source": [],
   "id": "284999f4c975eae3"
  },
  {
   "cell_type": "markdown",
   "source": [
    "### RFC"
   ],
   "metadata": {
    "id": "EZ9J_W-QtBSI"
   },
   "id": "EZ9J_W-QtBSI"
  },
  {
   "cell_type": "code",
   "execution_count": 48,
   "metadata": {
    "colab": {
     "base_uri": "https://localhost:8080/"
    },
    "id": "12f7f752135d05ad",
    "outputId": "d1b52b9d-7b06-488e-dff8-cd6e4a702a29"
   },
   "outputs": [
    {
     "output_type": "stream",
     "name": "stdout",
     "text": [
      "Best: 0.937100 using {'max_features': 'log2', 'n_estimators': 100}\n",
      "0.875497 (0.018226) with: {'max_features': 'sqrt', 'n_estimators': 10}\n",
      "0.913070 (0.018429) with: {'max_features': 'sqrt', 'n_estimators': 100}\n",
      "0.863919 (0.017605) with: {'max_features': 'log2', 'n_estimators': 10}\n",
      "0.937100 (0.018693) with: {'max_features': 'log2', 'n_estimators': 100}\n"
     ]
    },
    {
     "output_type": "execute_result",
     "data": {
      "text/plain": [
       "[('LRG',\n",
       "  LogisticRegression(C=0.01, multi_class='multinomial', solver='newton-cg')),\n",
       " ('RGC', RidgeClassifier(solver='sparse_cg')),\n",
       " ('KNN', KNeighborsClassifier(metric='manhattan', n_neighbors=1)),\n",
       " ('SVM', SVC(C=10.0)),\n",
       " ('BGC', BaggingClassifier(n_estimators=50)),\n",
       " ('RFC', RandomForestClassifier(max_features='log2'))]"
      ]
     },
     "metadata": {},
     "execution_count": 48
    }
   ],
   "source": [
    "# define models and parameters\n",
    "model = RandomForestClassifier()\n",
    "n_estimators = [10, 100]\n",
    "max_features = ['sqrt', 'log2']\n",
    "# define grid search\n",
    "grid = dict(n_estimators=n_estimators,max_features=max_features)\n",
    "cv = StratifiedKFold(n_splits=5)\n",
    "grid_search = GridSearchCV(estimator=model, param_grid=grid, n_jobs=-1, cv=cv, scoring='accuracy',error_score=0)\n",
    "grid_result = grid_search.fit(X_sm_scaled, y_sm)\n",
    "# summarize results\n",
    "print(\"Best: %f using %s\" % (grid_result.best_score_, grid_result.best_params_))\n",
    "means = grid_result.cv_results_['mean_test_score']\n",
    "stds = grid_result.cv_results_['std_test_score']\n",
    "params = grid_result.cv_results_['params']\n",
    "for mean, stdev, param in zip(means, stds, params):\n",
    "    print(\"%f (%f) with: %r\" % (mean, stdev, param))\n",
    "\n",
    "sm_models.append(('RFC', RandomForestClassifier(**grid_result.best_params_)))\n",
    "sm_models"
   ],
   "id": "12f7f752135d05ad"
  },
  {
   "cell_type": "code",
   "execution_count": 48,
   "metadata": {
    "id": "68d80d934bdbd639"
   },
   "outputs": [],
   "source": [],
   "id": "68d80d934bdbd639"
  },
  {
   "cell_type": "markdown",
   "source": [
    "### GBC"
   ],
   "metadata": {
    "id": "yFmF_0z4s9OO"
   },
   "id": "yFmF_0z4s9OO"
  },
  {
   "cell_type": "code",
   "execution_count": 49,
   "metadata": {
    "colab": {
     "base_uri": "https://localhost:8080/"
    },
    "id": "5844d65cb752ea38",
    "outputId": "a878bb8a-373a-467c-bd85-bf389da0edb0"
   },
   "outputs": [
    {
     "output_type": "stream",
     "name": "stdout",
     "text": [
      "Best: 0.864142 using {'learning_rate': 0.1, 'max_depth': 9, 'n_estimators': 10, 'subsample': 0.7}\n",
      "0.787463 (0.015212) with: {'learning_rate': 0.1, 'max_depth': 3, 'n_estimators': 10, 'subsample': 0.5}\n",
      "0.783754 (0.029332) with: {'learning_rate': 0.1, 'max_depth': 3, 'n_estimators': 10, 'subsample': 0.7}\n",
      "0.788780 (0.022726) with: {'learning_rate': 0.1, 'max_depth': 3, 'n_estimators': 10, 'subsample': 1.0}\n",
      "0.854967 (0.020988) with: {'learning_rate': 0.1, 'max_depth': 7, 'n_estimators': 10, 'subsample': 0.5}\n",
      "0.853439 (0.023009) with: {'learning_rate': 0.1, 'max_depth': 7, 'n_estimators': 10, 'subsample': 0.7}\n",
      "0.846011 (0.024162) with: {'learning_rate': 0.1, 'max_depth': 7, 'n_estimators': 10, 'subsample': 1.0}\n",
      "0.860430 (0.027369) with: {'learning_rate': 0.1, 'max_depth': 9, 'n_estimators': 10, 'subsample': 0.5}\n",
      "0.864142 (0.023999) with: {'learning_rate': 0.1, 'max_depth': 9, 'n_estimators': 10, 'subsample': 0.7}\n",
      "0.844264 (0.025870) with: {'learning_rate': 0.1, 'max_depth': 9, 'n_estimators': 10, 'subsample': 1.0}\n",
      "0.731764 (0.024534) with: {'learning_rate': 0.01, 'max_depth': 3, 'n_estimators': 10, 'subsample': 0.5}\n",
      "0.719746 (0.018920) with: {'learning_rate': 0.01, 'max_depth': 3, 'n_estimators': 10, 'subsample': 0.7}\n",
      "0.689605 (0.022408) with: {'learning_rate': 0.01, 'max_depth': 3, 'n_estimators': 10, 'subsample': 1.0}\n",
      "0.825695 (0.020538) with: {'learning_rate': 0.01, 'max_depth': 7, 'n_estimators': 10, 'subsample': 0.5}\n",
      "0.817829 (0.021992) with: {'learning_rate': 0.01, 'max_depth': 7, 'n_estimators': 10, 'subsample': 0.7}\n",
      "0.780261 (0.023578) with: {'learning_rate': 0.01, 'max_depth': 7, 'n_estimators': 10, 'subsample': 1.0}\n",
      "0.843609 (0.027108) with: {'learning_rate': 0.01, 'max_depth': 9, 'n_estimators': 10, 'subsample': 0.5}\n",
      "0.839020 (0.028551) with: {'learning_rate': 0.01, 'max_depth': 9, 'n_estimators': 10, 'subsample': 0.7}\n",
      "0.795766 (0.017730) with: {'learning_rate': 0.01, 'max_depth': 9, 'n_estimators': 10, 'subsample': 1.0}\n"
     ]
    },
    {
     "output_type": "execute_result",
     "data": {
      "text/plain": [
       "[('LRG',\n",
       "  LogisticRegression(C=0.01, multi_class='multinomial', solver='newton-cg')),\n",
       " ('RGC', RidgeClassifier(solver='sparse_cg')),\n",
       " ('KNN', KNeighborsClassifier(metric='manhattan', n_neighbors=1)),\n",
       " ('SVM', SVC(C=10.0)),\n",
       " ('BGC', BaggingClassifier(n_estimators=50)),\n",
       " ('RFC', RandomForestClassifier(max_features='log2')),\n",
       " ('GBC',\n",
       "  GradientBoostingClassifier(max_depth=9, n_estimators=10, subsample=0.7))]"
      ]
     },
     "metadata": {},
     "execution_count": 49
    }
   ],
   "source": [
    "# define models and parameters\n",
    "model = GradientBoostingClassifier()\n",
    "n_estimators = [10]\n",
    "learning_rate = [0.1, 0.01]\n",
    "subsample = [0.5, 0.7, 1.0]\n",
    "max_depth = [3, 7, 9]\n",
    "# define grid search\n",
    "grid = dict(learning_rate=learning_rate, n_estimators=n_estimators, subsample=subsample, max_depth=max_depth)\n",
    "cv = StratifiedKFold(n_splits=5)\n",
    "grid_search = GridSearchCV(estimator=model, param_grid=grid, n_jobs=-1, cv=cv, scoring='accuracy',error_score=0)\n",
    "grid_result = grid_search.fit(X_sm_scaled, y_sm)\n",
    "# summarize results\n",
    "print(\"Best: %f using %s\" % (grid_result.best_score_, grid_result.best_params_))\n",
    "means = grid_result.cv_results_['mean_test_score']\n",
    "stds = grid_result.cv_results_['std_test_score']\n",
    "params = grid_result.cv_results_['params']\n",
    "for mean, stdev, param in zip(means, stds, params):\n",
    "    print(\"%f (%f) with: %r\" % (mean, stdev, param))\n",
    "\n",
    "sm_models.append(('GBC', GradientBoostingClassifier(**grid_result.best_params_)))\n",
    "sm_models"
   ],
   "id": "5844d65cb752ea38"
  },
  {
   "cell_type": "code",
   "execution_count": 49,
   "metadata": {
    "id": "dab75d6d350a4ebc"
   },
   "outputs": [],
   "source": [],
   "id": "dab75d6d350a4ebc"
  },
  {
   "cell_type": "markdown",
   "source": [
    "### LDA"
   ],
   "metadata": {
    "id": "Gjfj5-cts5fD"
   },
   "id": "Gjfj5-cts5fD"
  },
  {
   "cell_type": "code",
   "execution_count": 50,
   "metadata": {
    "colab": {
     "base_uri": "https://localhost:8080/"
    },
    "id": "52a658f7bed680ac",
    "outputId": "e9ec28fe-93c9-4ca4-efd1-854839f85bba"
   },
   "outputs": [
    {
     "output_type": "stream",
     "name": "stdout",
     "text": [
      "Mean Accuracy: 0.838\n",
      "Config: {'solver': 'svd'}\n"
     ]
    },
    {
     "output_type": "execute_result",
     "data": {
      "text/plain": [
       "[('LRG',\n",
       "  LogisticRegression(C=0.01, multi_class='multinomial', solver='newton-cg')),\n",
       " ('RGC', RidgeClassifier(solver='sparse_cg')),\n",
       " ('KNN', KNeighborsClassifier(metric='manhattan', n_neighbors=1)),\n",
       " ('SVM', SVC(C=10.0)),\n",
       " ('BGC', BaggingClassifier(n_estimators=50)),\n",
       " ('RFC', RandomForestClassifier(max_features='log2')),\n",
       " ('GBC',\n",
       "  GradientBoostingClassifier(max_depth=9, n_estimators=10, subsample=0.7)),\n",
       " ('LDA', LinearDiscriminantAnalysis())]"
      ]
     },
     "metadata": {},
     "execution_count": 50
    }
   ],
   "source": [
    "# define model\n",
    "model = LinearDiscriminantAnalysis()\n",
    "# define model evaluation method\n",
    "cv = StratifiedKFold(n_splits=5)\n",
    "# define grid\n",
    "grid = dict()\n",
    "grid['solver'] = ['svd', 'lsqr']\n",
    "# grid['shrinkage'] = arange(0, 1, 0.01)\n",
    "# define search\n",
    "search = GridSearchCV(model, grid, scoring='accuracy', cv=cv, n_jobs=-1, error_score=0)\n",
    "# perform the search\n",
    "results = search.fit(X_sm_scaled, y_sm)\n",
    "# summarize\n",
    "print('Mean Accuracy: %.3f' % results.best_score_)\n",
    "print('Config: %s' % results.best_params_)\n",
    "\n",
    "sm_models.append(('LDA', LinearDiscriminantAnalysis(**results.best_params_)))\n",
    "sm_models"
   ],
   "id": "52a658f7bed680ac"
  },
  {
   "cell_type": "code",
   "execution_count": 50,
   "metadata": {
    "id": "a8215cf3ad6f0b6c"
   },
   "outputs": [],
   "source": [],
   "id": "a8215cf3ad6f0b6c"
  },
  {
   "cell_type": "markdown",
   "source": [
    "### DTC"
   ],
   "metadata": {
    "id": "Cy2mkjQes24j"
   },
   "id": "Cy2mkjQes24j"
  },
  {
   "cell_type": "code",
   "execution_count": 51,
   "metadata": {
    "colab": {
     "base_uri": "https://localhost:8080/"
    },
    "id": "7432bb6d88edafa4",
    "outputId": "f0e21f6f-613f-4f7b-f577-e29dc9455d90"
   },
   "outputs": [
    {
     "output_type": "stream",
     "name": "stdout",
     "text": [
      "Mean Accuracy: 0.802\n",
      "Config: {'min_samples_split': 2}\n"
     ]
    },
    {
     "output_type": "execute_result",
     "data": {
      "text/plain": [
       "[('LRG',\n",
       "  LogisticRegression(C=0.01, multi_class='multinomial', solver='newton-cg')),\n",
       " ('RGC', RidgeClassifier(solver='sparse_cg')),\n",
       " ('KNN', KNeighborsClassifier(metric='manhattan', n_neighbors=1)),\n",
       " ('SVM', SVC(C=10.0)),\n",
       " ('BGC', BaggingClassifier(n_estimators=50)),\n",
       " ('RFC', RandomForestClassifier(max_features='log2')),\n",
       " ('GBC',\n",
       "  GradientBoostingClassifier(max_depth=9, n_estimators=10, subsample=0.7)),\n",
       " ('LDA', LinearDiscriminantAnalysis()),\n",
       " ('DTC', DecisionTreeClassifier())]"
      ]
     },
     "metadata": {},
     "execution_count": 51
    }
   ],
   "source": [
    "# define model\n",
    "model = DecisionTreeClassifier()\n",
    "# define model evaluation method\n",
    "cv = StratifiedKFold(n_splits=5)\n",
    "grid = dict()\n",
    "# define grid\n",
    "grid['min_samples_split'] = range(2, 5)\n",
    "# define search\n",
    "search = GridSearchCV(model, grid, scoring='accuracy', cv=cv, n_jobs=-1)\n",
    "# perform the search\n",
    "results = search.fit(X_sm_scaled, y_sm)\n",
    "# summarize\n",
    "print('Mean Accuracy: %.3f' % results.best_score_)\n",
    "print('Config: %s' % results.best_params_)\n",
    "\n",
    "sm_models.append(('DTC', DecisionTreeClassifier(**results.best_params_)))\n",
    "sm_models"
   ],
   "id": "7432bb6d88edafa4"
  },
  {
   "cell_type": "code",
   "execution_count": 51,
   "metadata": {
    "id": "1555b11b08ede5cd"
   },
   "outputs": [],
   "source": [],
   "id": "1555b11b08ede5cd"
  },
  {
   "cell_type": "markdown",
   "source": [
    "### XGB"
   ],
   "metadata": {
    "id": "kEaz7Qp7sv6a"
   },
   "id": "kEaz7Qp7sv6a"
  },
  {
   "cell_type": "code",
   "source": [
    "estimator = XGBClassifier(objective= 'multi:softmax', num_class=7)\n",
    "\n",
    "parameters = {\n",
    "    'max_depth': range (1, 10, 5),\n",
    "    'n_estimators': range(1, 10),\n",
    "    'learning_rate': [0.1, 0.01]\n",
    "}\n",
    "cv = StratifiedKFold(n_splits=5)\n",
    "search = GridSearchCV(estimator=estimator,\n",
    "                      param_grid=parameters,\n",
    "                      scoring = 'accuracy', n_jobs=-1, cv = cv,\n",
    "                      verbose=True)\n",
    "# perform the search\n",
    "grid_result = search.fit(X_sm_scaled, y_sm.reshape(-1)-1)\n",
    "\n",
    "# summarize results\n",
    "print(\"Best: %f using %s\" % (grid_result.best_score_, grid_result.best_params_))\n",
    "means = grid_result.cv_results_['mean_test_score']\n",
    "stds = grid_result.cv_results_['std_test_score']\n",
    "params = grid_result.cv_results_['params']\n",
    "for mean, stdev, param in zip(means, stds, params):\n",
    "    print(\"%f (%f) with: %r\" % (mean, stdev, param))\n",
    "\n",
    "sm_models.append(('XGB', XGBClassifier(**grid_result.best_params_)))\n",
    "sm_models"
   ],
   "metadata": {
    "colab": {
     "base_uri": "https://localhost:8080/"
    },
    "id": "Cj928tcBr7My",
    "outputId": "35f2d5af-0ddd-4c9a-b100-45cd06ee073c"
   },
   "id": "Cj928tcBr7My",
   "execution_count": 52,
   "outputs": [
    {
     "output_type": "stream",
     "name": "stdout",
     "text": [
      "Fitting 5 folds for each of 36 candidates, totalling 180 fits\n"
     ]
    },
    {
     "output_type": "stream",
     "name": "stderr",
     "text": [
      "/usr/local/lib/python3.10/dist-packages/joblib/externals/loky/process_executor.py:752: UserWarning: A worker stopped while some jobs were given to the executor. This can be caused by a too short worker timeout or by a memory leak.\n",
      "  warnings.warn(\n"
     ]
    },
    {
     "output_type": "stream",
     "name": "stdout",
     "text": [
      "Best: 0.827661 using {'learning_rate': 0.1, 'max_depth': 6, 'n_estimators': 9}\n",
      "0.536044 (0.013441) with: {'learning_rate': 0.1, 'max_depth': 1, 'n_estimators': 1}\n",
      "0.545001 (0.016783) with: {'learning_rate': 0.1, 'max_depth': 1, 'n_estimators': 2}\n",
      "0.577108 (0.015367) with: {'learning_rate': 0.1, 'max_depth': 1, 'n_estimators': 3}\n",
      "0.593712 (0.020726) with: {'learning_rate': 0.1, 'max_depth': 1, 'n_estimators': 4}\n",
      "0.601136 (0.020731) with: {'learning_rate': 0.1, 'max_depth': 1, 'n_estimators': 5}\n",
      "0.607040 (0.020924) with: {'learning_rate': 0.1, 'max_depth': 1, 'n_estimators': 6}\n",
      "0.617961 (0.018082) with: {'learning_rate': 0.1, 'max_depth': 1, 'n_estimators': 7}\n",
      "0.613593 (0.020676) with: {'learning_rate': 0.1, 'max_depth': 1, 'n_estimators': 8}\n",
      "0.623421 (0.013121) with: {'learning_rate': 0.1, 'max_depth': 1, 'n_estimators': 9}\n",
      "0.761908 (0.021666) with: {'learning_rate': 0.1, 'max_depth': 6, 'n_estimators': 1}\n",
      "0.782659 (0.025426) with: {'learning_rate': 0.1, 'max_depth': 6, 'n_estimators': 2}\n",
      "0.798390 (0.025841) with: {'learning_rate': 0.1, 'max_depth': 6, 'n_estimators': 3}\n",
      "0.811716 (0.026534) with: {'learning_rate': 0.1, 'max_depth': 6, 'n_estimators': 4}\n",
      "0.813681 (0.025885) with: {'learning_rate': 0.1, 'max_depth': 6, 'n_estimators': 5}\n",
      "0.818269 (0.027250) with: {'learning_rate': 0.1, 'max_depth': 6, 'n_estimators': 6}\n",
      "0.820672 (0.022707) with: {'learning_rate': 0.1, 'max_depth': 6, 'n_estimators': 7}\n",
      "0.824168 (0.021644) with: {'learning_rate': 0.1, 'max_depth': 6, 'n_estimators': 8}\n",
      "0.827661 (0.020618) with: {'learning_rate': 0.1, 'max_depth': 6, 'n_estimators': 9}\n",
      "0.536044 (0.013441) with: {'learning_rate': 0.01, 'max_depth': 1, 'n_estimators': 1}\n",
      "0.536044 (0.013441) with: {'learning_rate': 0.01, 'max_depth': 1, 'n_estimators': 2}\n",
      "0.536044 (0.013441) with: {'learning_rate': 0.01, 'max_depth': 1, 'n_estimators': 3}\n",
      "0.536044 (0.013441) with: {'learning_rate': 0.01, 'max_depth': 1, 'n_estimators': 4}\n",
      "0.536044 (0.013441) with: {'learning_rate': 0.01, 'max_depth': 1, 'n_estimators': 5}\n",
      "0.538011 (0.012465) with: {'learning_rate': 0.01, 'max_depth': 1, 'n_estimators': 6}\n",
      "0.539758 (0.012370) with: {'learning_rate': 0.01, 'max_depth': 1, 'n_estimators': 7}\n",
      "0.539758 (0.012370) with: {'learning_rate': 0.01, 'max_depth': 1, 'n_estimators': 8}\n",
      "0.539758 (0.012370) with: {'learning_rate': 0.01, 'max_depth': 1, 'n_estimators': 9}\n",
      "0.761908 (0.021666) with: {'learning_rate': 0.01, 'max_depth': 6, 'n_estimators': 1}\n",
      "0.763219 (0.023550) with: {'learning_rate': 0.01, 'max_depth': 6, 'n_estimators': 2}\n",
      "0.764530 (0.024357) with: {'learning_rate': 0.01, 'max_depth': 6, 'n_estimators': 3}\n",
      "0.765622 (0.024709) with: {'learning_rate': 0.01, 'max_depth': 6, 'n_estimators': 4}\n",
      "0.770645 (0.027317) with: {'learning_rate': 0.01, 'max_depth': 6, 'n_estimators': 5}\n",
      "0.773267 (0.025374) with: {'learning_rate': 0.01, 'max_depth': 6, 'n_estimators': 6}\n",
      "0.774796 (0.025962) with: {'learning_rate': 0.01, 'max_depth': 6, 'n_estimators': 7}\n",
      "0.775451 (0.026038) with: {'learning_rate': 0.01, 'max_depth': 6, 'n_estimators': 8}\n",
      "0.775887 (0.026934) with: {'learning_rate': 0.01, 'max_depth': 6, 'n_estimators': 9}\n"
     ]
    },
    {
     "output_type": "execute_result",
     "data": {
      "text/plain": [
       "[('LRG',\n",
       "  LogisticRegression(C=0.01, multi_class='multinomial', solver='newton-cg')),\n",
       " ('RGC', RidgeClassifier(solver='sparse_cg')),\n",
       " ('KNN', KNeighborsClassifier(metric='manhattan', n_neighbors=1)),\n",
       " ('SVM', SVC(C=10.0)),\n",
       " ('BGC', BaggingClassifier(n_estimators=50)),\n",
       " ('RFC', RandomForestClassifier(max_features='log2')),\n",
       " ('GBC',\n",
       "  GradientBoostingClassifier(max_depth=9, n_estimators=10, subsample=0.7)),\n",
       " ('LDA', LinearDiscriminantAnalysis()),\n",
       " ('DTC', DecisionTreeClassifier()),\n",
       " ('XGB',\n",
       "  XGBClassifier(base_score=None, booster=None, callbacks=None,\n",
       "                colsample_bylevel=None, colsample_bynode=None,\n",
       "                colsample_bytree=None, device=None, early_stopping_rounds=None,\n",
       "                enable_categorical=False, eval_metric=None, feature_types=None,\n",
       "                gamma=None, grow_policy=None, importance_type=None,\n",
       "                interaction_constraints=None, learning_rate=0.1, max_bin=None,\n",
       "                max_cat_threshold=None, max_cat_to_onehot=None,\n",
       "                max_delta_step=None, max_depth=6, max_leaves=None,\n",
       "                min_child_weight=None, missing=nan, monotone_constraints=None,\n",
       "                multi_strategy=None, n_estimators=9, n_jobs=None,\n",
       "                num_parallel_tree=None, random_state=None, ...))]"
      ]
     },
     "metadata": {},
     "execution_count": 52
    }
   ]
  },
  {
   "cell_type": "code",
   "source": [],
   "metadata": {
    "id": "dXXS06mpr7a8"
   },
   "id": "dXXS06mpr7a8",
   "execution_count": 52,
   "outputs": []
  },
  {
   "cell_type": "markdown",
   "metadata": {
    "collapsed": false,
    "id": "12cb75cacc93729f"
   },
   "source": [
    "### Evaluation sm model"
   ],
   "id": "12cb75cacc93729f"
  },
  {
   "cell_type": "code",
   "execution_count": 53,
   "metadata": {
    "colab": {
     "base_uri": "https://localhost:8080/"
    },
    "id": "2526014209a2a1b3",
    "outputId": "313d642d-57c7-4287-a585-9dd264c3a31a"
   },
   "outputs": [
    {
     "output_type": "stream",
     "name": "stdout",
     "text": [
      "LRG: 0.629091 (0.074188)\n",
      "RGC: 0.505320 (0.067698)\n",
      "KNN: 0.206195 (0.079051)\n",
      "SVM: 0.486970 (0.064766)\n",
      "BGC: 0.623603 (0.039728)\n",
      "RFC: 0.640236 (0.078170)\n",
      "GBC: 0.642155 (0.041368)\n",
      "LDA: 0.304512 (0.039604)\n",
      "DTC: 0.559226 (0.064297)\n",
      "XGB: 0.619966 (0.034753)\n"
     ]
    }
   ],
   "source": [
    "# Evaluate Algorithms\n",
    "\n",
    "# Test options and evaluation metric\n",
    "num_folds = 10\n",
    "seed = 7\n",
    "scoring = 'accuracy'\n",
    "\n",
    "sm_results = []\n",
    "sm_names = []\n",
    "for name, model in sm_models:\n",
    "\tkfold = KFold(n_splits=num_folds)\n",
    "\ty_temp = y_test.reshape(-1)\n",
    "\tif name == 'XGB':\n",
    "\t\ty_temp = y_test.reshape(-1) - 1\n",
    "\tcv_results = cross_val_score(model, X_test_scaled, y_temp, cv=kfold, scoring=scoring)\n",
    "\tsm_results.append(cv_results)\n",
    "\tsm_names.append(name)\n",
    "\tmsg = \"%s: %f (%f)\" % (name, cv_results.mean(), cv_results.std())\n",
    "\tprint(msg)"
   ],
   "id": "2526014209a2a1b3"
  },
  {
   "cell_type": "code",
   "execution_count": 54,
   "metadata": {
    "colab": {
     "base_uri": "https://localhost:8080/",
     "height": 363
    },
    "id": "1e1f82cbb8475617",
    "outputId": "087c8d0c-63d9-4f12-b517-33e408a2e088"
   },
   "outputs": [
    {
     "output_type": "execute_result",
     "data": {
      "text/plain": [
       "            0         1         2         3         4         5         6  \\\n",
       "LRG  0.563636  0.727273  0.611111  0.555556  0.574074  0.574074  0.592593   \n",
       "RGC  0.490909  0.636364  0.500000  0.388889  0.444444  0.537037  0.481481   \n",
       "KNN  0.381818  0.272727  0.129630  0.259259  0.092593  0.222222  0.166667   \n",
       "SVM  0.490909  0.545455  0.407407  0.481481  0.407407  0.462963  0.407407   \n",
       "BGC  0.581818  0.672727  0.611111  0.592593  0.666667  0.611111  0.555556   \n",
       "RFC  0.545455  0.727273  0.537037  0.611111  0.629630  0.759259  0.537037   \n",
       "GBC  0.581818  0.654545  0.666667  0.592593  0.629630  0.592593  0.648148   \n",
       "LDA  0.272727  0.290909  0.351852  0.277778  0.314815  0.314815  0.351852   \n",
       "DTC  0.454545  0.563636  0.592593  0.500000  0.611111  0.666667  0.462963   \n",
       "XGB  0.600000  0.618182  0.592593  0.611111  0.629630  0.555556  0.685185   \n",
       "\n",
       "            7         8         9  \n",
       "LRG  0.703704  0.777778  0.611111  \n",
       "RGC  0.462963  0.592593  0.518519  \n",
       "KNN  0.148148  0.203704  0.185185  \n",
       "SVM  0.574074  0.592593  0.500000  \n",
       "BGC  0.629630  0.685185  0.629630  \n",
       "RFC  0.666667  0.722222  0.666667  \n",
       "GBC  0.722222  0.666667  0.666667  \n",
       "LDA  0.296296  0.222222  0.351852  \n",
       "DTC  0.592593  0.555556  0.592593  \n",
       "XGB  0.666667  0.611111  0.629630  "
      ],
      "text/html": [
       "\n",
       "  <div id=\"df-405a661e-9004-491d-ad7c-d2de934d1cfe\" class=\"colab-df-container\">\n",
       "    <div>\n",
       "<style scoped>\n",
       "    .dataframe tbody tr th:only-of-type {\n",
       "        vertical-align: middle;\n",
       "    }\n",
       "\n",
       "    .dataframe tbody tr th {\n",
       "        vertical-align: top;\n",
       "    }\n",
       "\n",
       "    .dataframe thead th {\n",
       "        text-align: right;\n",
       "    }\n",
       "</style>\n",
       "<table border=\"1\" class=\"dataframe\">\n",
       "  <thead>\n",
       "    <tr style=\"text-align: right;\">\n",
       "      <th></th>\n",
       "      <th>0</th>\n",
       "      <th>1</th>\n",
       "      <th>2</th>\n",
       "      <th>3</th>\n",
       "      <th>4</th>\n",
       "      <th>5</th>\n",
       "      <th>6</th>\n",
       "      <th>7</th>\n",
       "      <th>8</th>\n",
       "      <th>9</th>\n",
       "    </tr>\n",
       "  </thead>\n",
       "  <tbody>\n",
       "    <tr>\n",
       "      <th>LRG</th>\n",
       "      <td>0.563636</td>\n",
       "      <td>0.727273</td>\n",
       "      <td>0.611111</td>\n",
       "      <td>0.555556</td>\n",
       "      <td>0.574074</td>\n",
       "      <td>0.574074</td>\n",
       "      <td>0.592593</td>\n",
       "      <td>0.703704</td>\n",
       "      <td>0.777778</td>\n",
       "      <td>0.611111</td>\n",
       "    </tr>\n",
       "    <tr>\n",
       "      <th>RGC</th>\n",
       "      <td>0.490909</td>\n",
       "      <td>0.636364</td>\n",
       "      <td>0.500000</td>\n",
       "      <td>0.388889</td>\n",
       "      <td>0.444444</td>\n",
       "      <td>0.537037</td>\n",
       "      <td>0.481481</td>\n",
       "      <td>0.462963</td>\n",
       "      <td>0.592593</td>\n",
       "      <td>0.518519</td>\n",
       "    </tr>\n",
       "    <tr>\n",
       "      <th>KNN</th>\n",
       "      <td>0.381818</td>\n",
       "      <td>0.272727</td>\n",
       "      <td>0.129630</td>\n",
       "      <td>0.259259</td>\n",
       "      <td>0.092593</td>\n",
       "      <td>0.222222</td>\n",
       "      <td>0.166667</td>\n",
       "      <td>0.148148</td>\n",
       "      <td>0.203704</td>\n",
       "      <td>0.185185</td>\n",
       "    </tr>\n",
       "    <tr>\n",
       "      <th>SVM</th>\n",
       "      <td>0.490909</td>\n",
       "      <td>0.545455</td>\n",
       "      <td>0.407407</td>\n",
       "      <td>0.481481</td>\n",
       "      <td>0.407407</td>\n",
       "      <td>0.462963</td>\n",
       "      <td>0.407407</td>\n",
       "      <td>0.574074</td>\n",
       "      <td>0.592593</td>\n",
       "      <td>0.500000</td>\n",
       "    </tr>\n",
       "    <tr>\n",
       "      <th>BGC</th>\n",
       "      <td>0.581818</td>\n",
       "      <td>0.672727</td>\n",
       "      <td>0.611111</td>\n",
       "      <td>0.592593</td>\n",
       "      <td>0.666667</td>\n",
       "      <td>0.611111</td>\n",
       "      <td>0.555556</td>\n",
       "      <td>0.629630</td>\n",
       "      <td>0.685185</td>\n",
       "      <td>0.629630</td>\n",
       "    </tr>\n",
       "    <tr>\n",
       "      <th>RFC</th>\n",
       "      <td>0.545455</td>\n",
       "      <td>0.727273</td>\n",
       "      <td>0.537037</td>\n",
       "      <td>0.611111</td>\n",
       "      <td>0.629630</td>\n",
       "      <td>0.759259</td>\n",
       "      <td>0.537037</td>\n",
       "      <td>0.666667</td>\n",
       "      <td>0.722222</td>\n",
       "      <td>0.666667</td>\n",
       "    </tr>\n",
       "    <tr>\n",
       "      <th>GBC</th>\n",
       "      <td>0.581818</td>\n",
       "      <td>0.654545</td>\n",
       "      <td>0.666667</td>\n",
       "      <td>0.592593</td>\n",
       "      <td>0.629630</td>\n",
       "      <td>0.592593</td>\n",
       "      <td>0.648148</td>\n",
       "      <td>0.722222</td>\n",
       "      <td>0.666667</td>\n",
       "      <td>0.666667</td>\n",
       "    </tr>\n",
       "    <tr>\n",
       "      <th>LDA</th>\n",
       "      <td>0.272727</td>\n",
       "      <td>0.290909</td>\n",
       "      <td>0.351852</td>\n",
       "      <td>0.277778</td>\n",
       "      <td>0.314815</td>\n",
       "      <td>0.314815</td>\n",
       "      <td>0.351852</td>\n",
       "      <td>0.296296</td>\n",
       "      <td>0.222222</td>\n",
       "      <td>0.351852</td>\n",
       "    </tr>\n",
       "    <tr>\n",
       "      <th>DTC</th>\n",
       "      <td>0.454545</td>\n",
       "      <td>0.563636</td>\n",
       "      <td>0.592593</td>\n",
       "      <td>0.500000</td>\n",
       "      <td>0.611111</td>\n",
       "      <td>0.666667</td>\n",
       "      <td>0.462963</td>\n",
       "      <td>0.592593</td>\n",
       "      <td>0.555556</td>\n",
       "      <td>0.592593</td>\n",
       "    </tr>\n",
       "    <tr>\n",
       "      <th>XGB</th>\n",
       "      <td>0.600000</td>\n",
       "      <td>0.618182</td>\n",
       "      <td>0.592593</td>\n",
       "      <td>0.611111</td>\n",
       "      <td>0.629630</td>\n",
       "      <td>0.555556</td>\n",
       "      <td>0.685185</td>\n",
       "      <td>0.666667</td>\n",
       "      <td>0.611111</td>\n",
       "      <td>0.629630</td>\n",
       "    </tr>\n",
       "  </tbody>\n",
       "</table>\n",
       "</div>\n",
       "    <div class=\"colab-df-buttons\">\n",
       "\n",
       "  <div class=\"colab-df-container\">\n",
       "    <button class=\"colab-df-convert\" onclick=\"convertToInteractive('df-405a661e-9004-491d-ad7c-d2de934d1cfe')\"\n",
       "            title=\"Convert this dataframe to an interactive table.\"\n",
       "            style=\"display:none;\">\n",
       "\n",
       "  <svg xmlns=\"http://www.w3.org/2000/svg\" height=\"24px\" viewBox=\"0 -960 960 960\">\n",
       "    <path d=\"M120-120v-720h720v720H120Zm60-500h600v-160H180v160Zm220 220h160v-160H400v160Zm0 220h160v-160H400v160ZM180-400h160v-160H180v160Zm440 0h160v-160H620v160ZM180-180h160v-160H180v160Zm440 0h160v-160H620v160Z\"/>\n",
       "  </svg>\n",
       "    </button>\n",
       "\n",
       "  <style>\n",
       "    .colab-df-container {\n",
       "      display:flex;\n",
       "      gap: 12px;\n",
       "    }\n",
       "\n",
       "    .colab-df-convert {\n",
       "      background-color: #E8F0FE;\n",
       "      border: none;\n",
       "      border-radius: 50%;\n",
       "      cursor: pointer;\n",
       "      display: none;\n",
       "      fill: #1967D2;\n",
       "      height: 32px;\n",
       "      padding: 0 0 0 0;\n",
       "      width: 32px;\n",
       "    }\n",
       "\n",
       "    .colab-df-convert:hover {\n",
       "      background-color: #E2EBFA;\n",
       "      box-shadow: 0px 1px 2px rgba(60, 64, 67, 0.3), 0px 1px 3px 1px rgba(60, 64, 67, 0.15);\n",
       "      fill: #174EA6;\n",
       "    }\n",
       "\n",
       "    .colab-df-buttons div {\n",
       "      margin-bottom: 4px;\n",
       "    }\n",
       "\n",
       "    [theme=dark] .colab-df-convert {\n",
       "      background-color: #3B4455;\n",
       "      fill: #D2E3FC;\n",
       "    }\n",
       "\n",
       "    [theme=dark] .colab-df-convert:hover {\n",
       "      background-color: #434B5C;\n",
       "      box-shadow: 0px 1px 3px 1px rgba(0, 0, 0, 0.15);\n",
       "      filter: drop-shadow(0px 1px 2px rgba(0, 0, 0, 0.3));\n",
       "      fill: #FFFFFF;\n",
       "    }\n",
       "  </style>\n",
       "\n",
       "    <script>\n",
       "      const buttonEl =\n",
       "        document.querySelector('#df-405a661e-9004-491d-ad7c-d2de934d1cfe button.colab-df-convert');\n",
       "      buttonEl.style.display =\n",
       "        google.colab.kernel.accessAllowed ? 'block' : 'none';\n",
       "\n",
       "      async function convertToInteractive(key) {\n",
       "        const element = document.querySelector('#df-405a661e-9004-491d-ad7c-d2de934d1cfe');\n",
       "        const dataTable =\n",
       "          await google.colab.kernel.invokeFunction('convertToInteractive',\n",
       "                                                    [key], {});\n",
       "        if (!dataTable) return;\n",
       "\n",
       "        const docLinkHtml = 'Like what you see? Visit the ' +\n",
       "          '<a target=\"_blank\" href=https://colab.research.google.com/notebooks/data_table.ipynb>data table notebook</a>'\n",
       "          + ' to learn more about interactive tables.';\n",
       "        element.innerHTML = '';\n",
       "        dataTable['output_type'] = 'display_data';\n",
       "        await google.colab.output.renderOutput(dataTable, element);\n",
       "        const docLink = document.createElement('div');\n",
       "        docLink.innerHTML = docLinkHtml;\n",
       "        element.appendChild(docLink);\n",
       "      }\n",
       "    </script>\n",
       "  </div>\n",
       "\n",
       "\n",
       "<div id=\"df-cc9e0bfa-a943-472e-b75d-2dcf8d5486ca\">\n",
       "  <button class=\"colab-df-quickchart\" onclick=\"quickchart('df-cc9e0bfa-a943-472e-b75d-2dcf8d5486ca')\"\n",
       "            title=\"Suggest charts\"\n",
       "            style=\"display:none;\">\n",
       "\n",
       "<svg xmlns=\"http://www.w3.org/2000/svg\" height=\"24px\"viewBox=\"0 0 24 24\"\n",
       "     width=\"24px\">\n",
       "    <g>\n",
       "        <path d=\"M19 3H5c-1.1 0-2 .9-2 2v14c0 1.1.9 2 2 2h14c1.1 0 2-.9 2-2V5c0-1.1-.9-2-2-2zM9 17H7v-7h2v7zm4 0h-2V7h2v10zm4 0h-2v-4h2v4z\"/>\n",
       "    </g>\n",
       "</svg>\n",
       "  </button>\n",
       "\n",
       "<style>\n",
       "  .colab-df-quickchart {\n",
       "      --bg-color: #E8F0FE;\n",
       "      --fill-color: #1967D2;\n",
       "      --hover-bg-color: #E2EBFA;\n",
       "      --hover-fill-color: #174EA6;\n",
       "      --disabled-fill-color: #AAA;\n",
       "      --disabled-bg-color: #DDD;\n",
       "  }\n",
       "\n",
       "  [theme=dark] .colab-df-quickchart {\n",
       "      --bg-color: #3B4455;\n",
       "      --fill-color: #D2E3FC;\n",
       "      --hover-bg-color: #434B5C;\n",
       "      --hover-fill-color: #FFFFFF;\n",
       "      --disabled-bg-color: #3B4455;\n",
       "      --disabled-fill-color: #666;\n",
       "  }\n",
       "\n",
       "  .colab-df-quickchart {\n",
       "    background-color: var(--bg-color);\n",
       "    border: none;\n",
       "    border-radius: 50%;\n",
       "    cursor: pointer;\n",
       "    display: none;\n",
       "    fill: var(--fill-color);\n",
       "    height: 32px;\n",
       "    padding: 0;\n",
       "    width: 32px;\n",
       "  }\n",
       "\n",
       "  .colab-df-quickchart:hover {\n",
       "    background-color: var(--hover-bg-color);\n",
       "    box-shadow: 0 1px 2px rgba(60, 64, 67, 0.3), 0 1px 3px 1px rgba(60, 64, 67, 0.15);\n",
       "    fill: var(--button-hover-fill-color);\n",
       "  }\n",
       "\n",
       "  .colab-df-quickchart-complete:disabled,\n",
       "  .colab-df-quickchart-complete:disabled:hover {\n",
       "    background-color: var(--disabled-bg-color);\n",
       "    fill: var(--disabled-fill-color);\n",
       "    box-shadow: none;\n",
       "  }\n",
       "\n",
       "  .colab-df-spinner {\n",
       "    border: 2px solid var(--fill-color);\n",
       "    border-color: transparent;\n",
       "    border-bottom-color: var(--fill-color);\n",
       "    animation:\n",
       "      spin 1s steps(1) infinite;\n",
       "  }\n",
       "\n",
       "  @keyframes spin {\n",
       "    0% {\n",
       "      border-color: transparent;\n",
       "      border-bottom-color: var(--fill-color);\n",
       "      border-left-color: var(--fill-color);\n",
       "    }\n",
       "    20% {\n",
       "      border-color: transparent;\n",
       "      border-left-color: var(--fill-color);\n",
       "      border-top-color: var(--fill-color);\n",
       "    }\n",
       "    30% {\n",
       "      border-color: transparent;\n",
       "      border-left-color: var(--fill-color);\n",
       "      border-top-color: var(--fill-color);\n",
       "      border-right-color: var(--fill-color);\n",
       "    }\n",
       "    40% {\n",
       "      border-color: transparent;\n",
       "      border-right-color: var(--fill-color);\n",
       "      border-top-color: var(--fill-color);\n",
       "    }\n",
       "    60% {\n",
       "      border-color: transparent;\n",
       "      border-right-color: var(--fill-color);\n",
       "    }\n",
       "    80% {\n",
       "      border-color: transparent;\n",
       "      border-right-color: var(--fill-color);\n",
       "      border-bottom-color: var(--fill-color);\n",
       "    }\n",
       "    90% {\n",
       "      border-color: transparent;\n",
       "      border-bottom-color: var(--fill-color);\n",
       "    }\n",
       "  }\n",
       "</style>\n",
       "\n",
       "  <script>\n",
       "    async function quickchart(key) {\n",
       "      const quickchartButtonEl =\n",
       "        document.querySelector('#' + key + ' button');\n",
       "      quickchartButtonEl.disabled = true;  // To prevent multiple clicks.\n",
       "      quickchartButtonEl.classList.add('colab-df-spinner');\n",
       "      try {\n",
       "        const charts = await google.colab.kernel.invokeFunction(\n",
       "            'suggestCharts', [key], {});\n",
       "      } catch (error) {\n",
       "        console.error('Error during call to suggestCharts:', error);\n",
       "      }\n",
       "      quickchartButtonEl.classList.remove('colab-df-spinner');\n",
       "      quickchartButtonEl.classList.add('colab-df-quickchart-complete');\n",
       "    }\n",
       "    (() => {\n",
       "      let quickchartButtonEl =\n",
       "        document.querySelector('#df-cc9e0bfa-a943-472e-b75d-2dcf8d5486ca button');\n",
       "      quickchartButtonEl.style.display =\n",
       "        google.colab.kernel.accessAllowed ? 'block' : 'none';\n",
       "    })();\n",
       "  </script>\n",
       "</div>\n",
       "    </div>\n",
       "  </div>\n"
      ]
     },
     "metadata": {},
     "execution_count": 54
    }
   ],
   "source": [
    "df_sm_results = pd.DataFrame(data=sm_results,index=sm_names)\n",
    "df_sm_results"
   ],
   "id": "1e1f82cbb8475617"
  },
  {
   "cell_type": "code",
   "execution_count": 55,
   "metadata": {
    "colab": {
     "base_uri": "https://localhost:8080/"
    },
    "id": "0ud1hEwFYbmr",
    "outputId": "8f579f6d-7d61-4a8e-a5aa-0919da81c6a9"
   },
   "outputs": [
    {
     "output_type": "execute_result",
     "data": {
      "text/plain": [
       "LRG    0.777778\n",
       "RGC    0.636364\n",
       "KNN    0.381818\n",
       "SVM    0.592593\n",
       "BGC    0.685185\n",
       "RFC    0.759259\n",
       "GBC    0.722222\n",
       "LDA    0.351852\n",
       "DTC    0.666667\n",
       "XGB    0.685185\n",
       "dtype: float64"
      ]
     },
     "metadata": {},
     "execution_count": 55
    }
   ],
   "source": [
    "df_sm_results.max(axis=1)"
   ],
   "id": "0ud1hEwFYbmr"
  },
  {
   "cell_type": "markdown",
   "metadata": {
    "collapsed": false,
    "id": "1149cc686465d412"
   },
   "source": [
    "###  Algorithm boxplot"
   ],
   "id": "1149cc686465d412"
  },
  {
   "cell_type": "code",
   "execution_count": 56,
   "metadata": {
    "colab": {
     "base_uri": "https://localhost:8080/",
     "height": 478
    },
    "id": "afc288b757650fbe",
    "outputId": "51861dcb-b456-4550-d30b-b39a815a8557"
   },
   "outputs": [
    {
     "output_type": "display_data",
     "data": {
      "text/plain": [
       "<Figure size 640x480 with 1 Axes>"
      ],
      "image/png": "[encoded data removed]"
     },
     "metadata": {}
    }
   ],
   "source": [
    "# Compare Algorithms\n",
    "fig = plt.figure()\n",
    "fig.suptitle('Algorithm Comparison on Stratified non-transform test data')\n",
    "ax = fig.add_subplot(111)\n",
    "plt.boxplot(sm_results)\n",
    "ax.set_xticklabels(sm_names)\n",
    "plt.show()"
   ],
   "id": "afc288b757650fbe"
  },
  {
   "cell_type": "code",
   "execution_count": 56,
   "metadata": {
    "id": "17005684d3482e4d"
   },
   "outputs": [],
   "source": [],
   "id": "17005684d3482e4d"
  },
  {
   "cell_type": "markdown",
   "source": [
    "Nous pouvons remarquer que la méthode améliore les performances des modèles. Même le KNN et LDA se voient leur performance améliorés même s'il demeurent assez bas comparé au autres modèles.\n",
    "\n",
    "Les résultats montrent que la **Régression Logistic** donne une bonne accuracy qui représente maintenant une bonne métrique car on a pris en considération de ```déséquilibre des classes```."
   ],
   "metadata": {
    "id": "N_HcHYIxy1Ad"
   },
   "id": "N_HcHYIxy1Ad"
  },
  {
   "cell_type": "code",
   "execution_count": 56,
   "metadata": {
    "id": "2c622920863be1fb"
   },
   "outputs": [],
   "source": [],
   "id": "2c622920863be1fb"
  },
  {
   "cell_type": "markdown",
   "metadata": {
    "collapsed": false,
    "id": "a5ab54dd64ae5b2f"
   },
   "source": [
    "The correct application of oversampling during k-fold cross-validation is to apply the method to the training dataset only, then evaluate the model on the stratified but non-transformed test set."
   ],
   "id": "a5ab54dd64ae5b2f"
  },
  {
   "cell_type": "markdown",
   "metadata": {
    "id": "8c82e1b1-04ea-45f2-b0e7-95c0bfd207bf"
   },
   "source": [
    "## Considering X = D^(-1)*W*X"
   ],
   "id": "8c82e1b1-04ea-45f2-b0e7-95c0bfd207bf"
  },
  {
   "cell_type": "code",
   "execution_count": 57,
   "metadata": {
    "id": "2acc9d83-f6b1-41f6-b717-b2a6befae092"
   },
   "outputs": [],
   "source": [
    "from numpy.linalg import inv"
   ],
   "id": "2acc9d83-f6b1-41f6-b717-b2a6befae092"
  },
  {
   "cell_type": "code",
   "execution_count": 58,
   "metadata": {
    "id": "074dfe00-f064-4549-8573-6abc755fa91c"
   },
   "outputs": [],
   "source": [
    "# Calculate X\n",
    "\n",
    "# D: D est une matrice diagonale, chaque valeur diagonale correspond à la somme des valeurs d’une ligne de W\n",
    "W_row_sum = W.sum(axis=1)\n",
    "# W_row_sum\n",
    "\n",
    "D = np.diag(W_row_sum)\n",
    "X_ = np.dot(np.dot(inv(D), W), X)\n",
    "\n",
    "# X_.shape\n",
    "W_ = np.array(mat.get('W'))\n",
    "y_ = np.array(mat.get('gnd'))"
   ],
   "id": "074dfe00-f064-4549-8573-6abc755fa91c"
  },
  {
   "cell_type": "code",
   "execution_count": 59,
   "metadata": {
    "colab": {
     "base_uri": "https://localhost:8080/"
    },
    "id": "4ea4f7b3-ae48-4938-919e-7bc19dc88131",
    "outputId": "b079827d-edac-4b2c-d9d1-bc03c301e179"
   },
   "outputs": [
    {
     "output_type": "execute_result",
     "data": {
      "text/plain": [
       "((2708, 1433), (2708, 2708), (2708, 1))"
      ]
     },
     "metadata": {},
     "execution_count": 59
    }
   ],
   "source": [
    "X_.shape, W_.shape, y_.shape"
   ],
   "id": "4ea4f7b3-ae48-4938-919e-7bc19dc88131"
  },
  {
   "cell_type": "code",
   "execution_count": 60,
   "metadata": {
    "id": "SvW8YqRi2HlI"
   },
   "outputs": [],
   "source": [
    "# visualisation"
   ],
   "id": "SvW8YqRi2HlI"
  },
  {
   "cell_type": "code",
   "execution_count": 61,
   "metadata": {
    "colab": {
     "base_uri": "https://localhost:8080/",
     "height": 670
    },
    "id": "Qy43-MUG1-86",
    "outputId": "5cd4e115-c3e0-4fd1-ef66-b6a237bd4e4d"
   },
   "outputs": [
    {
     "output_type": "execute_result",
     "data": {
      "text/plain": [
       "<Axes: >"
      ]
     },
     "metadata": {},
     "execution_count": 61
    },
    {
     "output_type": "display_data",
     "data": {
      "text/plain": [
       "<Figure size 800x800 with 1 Axes>"
      ],
      "image/png": "[encoded data removed]"
     },
     "metadata": {}
    }
   ],
   "source": [
    "mapper = umap.UMAP(metric='hellinger').fit(X_)\n",
    "umap.plot.points(mapper, labels=y_.ravel())"
   ],
   "id": "Qy43-MUG1-86"
  },
  {
   "cell_type": "code",
   "source": [
    "Nous obtenons une meilleur visualisation des données encombinants les informations\n",
    "sur les liens entre les documents"
   ],
   "metadata": {
    "colab": {
     "base_uri": "https://localhost:8080/",
     "height": 245
    },
    "id": "MNcqEoYV0Vsv",
    "outputId": "8c6ede3e-ac72-4b8a-c12b-96245a25cb06"
   },
   "id": "MNcqEoYV0Vsv",
   "execution_count": 98,
   "outputs": [
    {
     "output_type": "error",
     "ename": "SyntaxError",
     "evalue": "ignored",
     "traceback": [
      "\u001B[0;31m---------------------------------------------------------------------------\u001B[0m",
      "\u001B[0;31mSyntaxError\u001B[0m                               Traceback (most recent call last)",
      "\u001B[0;32m/usr/local/lib/python3.10/dist-packages/IPython/core/compilerop.py\u001B[0m in \u001B[0;36mast_parse\u001B[0;34m(self, source, filename, symbol)\u001B[0m\n\u001B[1;32m     99\u001B[0m         \u001B[0mArguments\u001B[0m \u001B[0mare\u001B[0m \u001B[0mexactly\u001B[0m \u001B[0mthe\u001B[0m \u001B[0msame\u001B[0m \u001B[0;32mas\u001B[0m \u001B[0mast\u001B[0m\u001B[0;34m.\u001B[0m\u001B[0mparse\u001B[0m \u001B[0;34m(\u001B[0m\u001B[0;32min\u001B[0m \u001B[0mthe\u001B[0m \u001B[0mstandard\u001B[0m \u001B[0mlibrary\u001B[0m\u001B[0;34m)\u001B[0m\u001B[0;34m,\u001B[0m\u001B[0;34m\u001B[0m\u001B[0;34m\u001B[0m\u001B[0m\n\u001B[1;32m    100\u001B[0m         and are passed to the built-in compile function.\"\"\"\n\u001B[0;32m--> 101\u001B[0;31m         \u001B[0;32mreturn\u001B[0m \u001B[0mcompile\u001B[0m\u001B[0;34m(\u001B[0m\u001B[0msource\u001B[0m\u001B[0;34m,\u001B[0m \u001B[0mfilename\u001B[0m\u001B[0;34m,\u001B[0m \u001B[0msymbol\u001B[0m\u001B[0;34m,\u001B[0m \u001B[0mself\u001B[0m\u001B[0;34m.\u001B[0m\u001B[0mflags\u001B[0m \u001B[0;34m|\u001B[0m \u001B[0mPyCF_ONLY_AST\u001B[0m\u001B[0;34m,\u001B[0m \u001B[0;36m1\u001B[0m\u001B[0;34m)\u001B[0m\u001B[0;34m\u001B[0m\u001B[0;34m\u001B[0m\u001B[0m\n\u001B[0m\u001B[1;32m    102\u001B[0m \u001B[0;34m\u001B[0m\u001B[0m\n\u001B[1;32m    103\u001B[0m     \u001B[0;32mdef\u001B[0m \u001B[0mreset_compiler_flags\u001B[0m\u001B[0;34m(\u001B[0m\u001B[0mself\u001B[0m\u001B[0;34m)\u001B[0m\u001B[0;34m:\u001B[0m\u001B[0;34m\u001B[0m\u001B[0;34m\u001B[0m\u001B[0m\n",
      "\u001B[0;31mSyntaxError\u001B[0m: invalid syntax (<ipython-input-98-e9878fa82685>, line 1)"
     ]
    }
   ]
  },
  {
   "cell_type": "code",
   "execution_count": 62,
   "metadata": {
    "colab": {
     "base_uri": "https://localhost:8080/",
     "height": 236
    },
    "id": "4cc78926-1d1d-4894-9eb8-50e1e658d447",
    "outputId": "e50fc8ed-5fd9-436a-d642-5298d779390f"
   },
   "outputs": [
    {
     "output_type": "execute_result",
     "data": {
      "text/plain": [
       "     0    1    2    3         4    5    6    7    8    9  ...  1424  1425  \\\n",
       "0  0.0  0.0  0.0  0.0  0.000000  0.0  0.0  0.0  0.0  0.0  ...   0.0   0.0   \n",
       "1  0.0  0.0  0.0  0.0  0.333333  0.0  0.0  0.0  0.0  0.0  ...   0.0   0.0   \n",
       "2  0.0  0.0  0.0  0.0  0.000000  0.0  0.2  0.0  0.0  0.0  ...   0.0   0.0   \n",
       "3  0.0  0.0  0.0  0.0  0.000000  0.0  0.0  0.0  0.0  0.0  ...   0.0   0.0   \n",
       "4  0.0  0.2  0.0  0.0  0.000000  0.0  0.0  0.0  0.0  0.0  ...   0.0   0.0   \n",
       "\n",
       "   1426  1427  1428  1429  1430      1431  1432  label  \n",
       "0   0.0   0.0   0.0   0.0   0.0  0.333333   0.0      4  \n",
       "1   0.0   0.0   0.0   0.0   0.0  0.000000   0.0      5  \n",
       "2   0.0   0.0   0.0   0.0   0.0  0.000000   0.0      5  \n",
       "3   0.0   0.0   0.0   0.0   0.0  0.000000   0.0      1  \n",
       "4   0.0   0.0   0.0   0.0   0.0  0.000000   0.0      4  \n",
       "\n",
       "[5 rows x 1434 columns]"
      ],
      "text/html": [
       "\n",
       "  <div id=\"df-b199e30f-1108-4774-94ab-70de4711c77c\" class=\"colab-df-container\">\n",
       "    <div>\n",
       "<style scoped>\n",
       "    .dataframe tbody tr th:only-of-type {\n",
       "        vertical-align: middle;\n",
       "    }\n",
       "\n",
       "    .dataframe tbody tr th {\n",
       "        vertical-align: top;\n",
       "    }\n",
       "\n",
       "    .dataframe thead th {\n",
       "        text-align: right;\n",
       "    }\n",
       "</style>\n",
       "<table border=\"1\" class=\"dataframe\">\n",
       "  <thead>\n",
       "    <tr style=\"text-align: right;\">\n",
       "      <th></th>\n",
       "      <th>0</th>\n",
       "      <th>1</th>\n",
       "      <th>2</th>\n",
       "      <th>3</th>\n",
       "      <th>4</th>\n",
       "      <th>5</th>\n",
       "      <th>6</th>\n",
       "      <th>7</th>\n",
       "      <th>8</th>\n",
       "      <th>9</th>\n",
       "      <th>...</th>\n",
       "      <th>1424</th>\n",
       "      <th>1425</th>\n",
       "      <th>1426</th>\n",
       "      <th>1427</th>\n",
       "      <th>1428</th>\n",
       "      <th>1429</th>\n",
       "      <th>1430</th>\n",
       "      <th>1431</th>\n",
       "      <th>1432</th>\n",
       "      <th>label</th>\n",
       "    </tr>\n",
       "  </thead>\n",
       "  <tbody>\n",
       "    <tr>\n",
       "      <th>0</th>\n",
       "      <td>0.0</td>\n",
       "      <td>0.0</td>\n",
       "      <td>0.0</td>\n",
       "      <td>0.0</td>\n",
       "      <td>0.000000</td>\n",
       "      <td>0.0</td>\n",
       "      <td>0.0</td>\n",
       "      <td>0.0</td>\n",
       "      <td>0.0</td>\n",
       "      <td>0.0</td>\n",
       "      <td>...</td>\n",
       "      <td>0.0</td>\n",
       "      <td>0.0</td>\n",
       "      <td>0.0</td>\n",
       "      <td>0.0</td>\n",
       "      <td>0.0</td>\n",
       "      <td>0.0</td>\n",
       "      <td>0.0</td>\n",
       "      <td>0.333333</td>\n",
       "      <td>0.0</td>\n",
       "      <td>4</td>\n",
       "    </tr>\n",
       "    <tr>\n",
       "      <th>1</th>\n",
       "      <td>0.0</td>\n",
       "      <td>0.0</td>\n",
       "      <td>0.0</td>\n",
       "      <td>0.0</td>\n",
       "      <td>0.333333</td>\n",
       "      <td>0.0</td>\n",
       "      <td>0.0</td>\n",
       "      <td>0.0</td>\n",
       "      <td>0.0</td>\n",
       "      <td>0.0</td>\n",
       "      <td>...</td>\n",
       "      <td>0.0</td>\n",
       "      <td>0.0</td>\n",
       "      <td>0.0</td>\n",
       "      <td>0.0</td>\n",
       "      <td>0.0</td>\n",
       "      <td>0.0</td>\n",
       "      <td>0.0</td>\n",
       "      <td>0.000000</td>\n",
       "      <td>0.0</td>\n",
       "      <td>5</td>\n",
       "    </tr>\n",
       "    <tr>\n",
       "      <th>2</th>\n",
       "      <td>0.0</td>\n",
       "      <td>0.0</td>\n",
       "      <td>0.0</td>\n",
       "      <td>0.0</td>\n",
       "      <td>0.000000</td>\n",
       "      <td>0.0</td>\n",
       "      <td>0.2</td>\n",
       "      <td>0.0</td>\n",
       "      <td>0.0</td>\n",
       "      <td>0.0</td>\n",
       "      <td>...</td>\n",
       "      <td>0.0</td>\n",
       "      <td>0.0</td>\n",
       "      <td>0.0</td>\n",
       "      <td>0.0</td>\n",
       "      <td>0.0</td>\n",
       "      <td>0.0</td>\n",
       "      <td>0.0</td>\n",
       "      <td>0.000000</td>\n",
       "      <td>0.0</td>\n",
       "      <td>5</td>\n",
       "    </tr>\n",
       "    <tr>\n",
       "      <th>3</th>\n",
       "      <td>0.0</td>\n",
       "      <td>0.0</td>\n",
       "      <td>0.0</td>\n",
       "      <td>0.0</td>\n",
       "      <td>0.000000</td>\n",
       "      <td>0.0</td>\n",
       "      <td>0.0</td>\n",
       "      <td>0.0</td>\n",
       "      <td>0.0</td>\n",
       "      <td>0.0</td>\n",
       "      <td>...</td>\n",
       "      <td>0.0</td>\n",
       "      <td>0.0</td>\n",
       "      <td>0.0</td>\n",
       "      <td>0.0</td>\n",
       "      <td>0.0</td>\n",
       "      <td>0.0</td>\n",
       "      <td>0.0</td>\n",
       "      <td>0.000000</td>\n",
       "      <td>0.0</td>\n",
       "      <td>1</td>\n",
       "    </tr>\n",
       "    <tr>\n",
       "      <th>4</th>\n",
       "      <td>0.0</td>\n",
       "      <td>0.2</td>\n",
       "      <td>0.0</td>\n",
       "      <td>0.0</td>\n",
       "      <td>0.000000</td>\n",
       "      <td>0.0</td>\n",
       "      <td>0.0</td>\n",
       "      <td>0.0</td>\n",
       "      <td>0.0</td>\n",
       "      <td>0.0</td>\n",
       "      <td>...</td>\n",
       "      <td>0.0</td>\n",
       "      <td>0.0</td>\n",
       "      <td>0.0</td>\n",
       "      <td>0.0</td>\n",
       "      <td>0.0</td>\n",
       "      <td>0.0</td>\n",
       "      <td>0.0</td>\n",
       "      <td>0.000000</td>\n",
       "      <td>0.0</td>\n",
       "      <td>4</td>\n",
       "    </tr>\n",
       "  </tbody>\n",
       "</table>\n",
       "<p>5 rows × 1434 columns</p>\n",
       "</div>\n",
       "    <div class=\"colab-df-buttons\">\n",
       "\n",
       "  <div class=\"colab-df-container\">\n",
       "    <button class=\"colab-df-convert\" onclick=\"convertToInteractive('df-b199e30f-1108-4774-94ab-70de4711c77c')\"\n",
       "            title=\"Convert this dataframe to an interactive table.\"\n",
       "            style=\"display:none;\">\n",
       "\n",
       "  <svg xmlns=\"http://www.w3.org/2000/svg\" height=\"24px\" viewBox=\"0 -960 960 960\">\n",
       "    <path d=\"M120-120v-720h720v720H120Zm60-500h600v-160H180v160Zm220 220h160v-160H400v160Zm0 220h160v-160H400v160ZM180-400h160v-160H180v160Zm440 0h160v-160H620v160ZM180-180h160v-160H180v160Zm440 0h160v-160H620v160Z\"/>\n",
       "  </svg>\n",
       "    </button>\n",
       "\n",
       "  <style>\n",
       "    .colab-df-container {\n",
       "      display:flex;\n",
       "      gap: 12px;\n",
       "    }\n",
       "\n",
       "    .colab-df-convert {\n",
       "      background-color: #E8F0FE;\n",
       "      border: none;\n",
       "      border-radius: 50%;\n",
       "      cursor: pointer;\n",
       "      display: none;\n",
       "      fill: #1967D2;\n",
       "      height: 32px;\n",
       "      padding: 0 0 0 0;\n",
       "      width: 32px;\n",
       "    }\n",
       "\n",
       "    .colab-df-convert:hover {\n",
       "      background-color: #E2EBFA;\n",
       "      box-shadow: 0px 1px 2px rgba(60, 64, 67, 0.3), 0px 1px 3px 1px rgba(60, 64, 67, 0.15);\n",
       "      fill: #174EA6;\n",
       "    }\n",
       "\n",
       "    .colab-df-buttons div {\n",
       "      margin-bottom: 4px;\n",
       "    }\n",
       "\n",
       "    [theme=dark] .colab-df-convert {\n",
       "      background-color: #3B4455;\n",
       "      fill: #D2E3FC;\n",
       "    }\n",
       "\n",
       "    [theme=dark] .colab-df-convert:hover {\n",
       "      background-color: #434B5C;\n",
       "      box-shadow: 0px 1px 3px 1px rgba(0, 0, 0, 0.15);\n",
       "      filter: drop-shadow(0px 1px 2px rgba(0, 0, 0, 0.3));\n",
       "      fill: #FFFFFF;\n",
       "    }\n",
       "  </style>\n",
       "\n",
       "    <script>\n",
       "      const buttonEl =\n",
       "        document.querySelector('#df-b199e30f-1108-4774-94ab-70de4711c77c button.colab-df-convert');\n",
       "      buttonEl.style.display =\n",
       "        google.colab.kernel.accessAllowed ? 'block' : 'none';\n",
       "\n",
       "      async function convertToInteractive(key) {\n",
       "        const element = document.querySelector('#df-b199e30f-1108-4774-94ab-70de4711c77c');\n",
       "        const dataTable =\n",
       "          await google.colab.kernel.invokeFunction('convertToInteractive',\n",
       "                                                    [key], {});\n",
       "        if (!dataTable) return;\n",
       "\n",
       "        const docLinkHtml = 'Like what you see? Visit the ' +\n",
       "          '<a target=\"_blank\" href=https://colab.research.google.com/notebooks/data_table.ipynb>data table notebook</a>'\n",
       "          + ' to learn more about interactive tables.';\n",
       "        element.innerHTML = '';\n",
       "        dataTable['output_type'] = 'display_data';\n",
       "        await google.colab.output.renderOutput(dataTable, element);\n",
       "        const docLink = document.createElement('div');\n",
       "        docLink.innerHTML = docLinkHtml;\n",
       "        element.appendChild(docLink);\n",
       "      }\n",
       "    </script>\n",
       "  </div>\n",
       "\n",
       "\n",
       "<div id=\"df-8d8c3dc8-99e7-4406-b9a4-dd3d1a780aef\">\n",
       "  <button class=\"colab-df-quickchart\" onclick=\"quickchart('df-8d8c3dc8-99e7-4406-b9a4-dd3d1a780aef')\"\n",
       "            title=\"Suggest charts\"\n",
       "            style=\"display:none;\">\n",
       "\n",
       "<svg xmlns=\"http://www.w3.org/2000/svg\" height=\"24px\"viewBox=\"0 0 24 24\"\n",
       "     width=\"24px\">\n",
       "    <g>\n",
       "        <path d=\"M19 3H5c-1.1 0-2 .9-2 2v14c0 1.1.9 2 2 2h14c1.1 0 2-.9 2-2V5c0-1.1-.9-2-2-2zM9 17H7v-7h2v7zm4 0h-2V7h2v10zm4 0h-2v-4h2v4z\"/>\n",
       "    </g>\n",
       "</svg>\n",
       "  </button>\n",
       "\n",
       "<style>\n",
       "  .colab-df-quickchart {\n",
       "      --bg-color: #E8F0FE;\n",
       "      --fill-color: #1967D2;\n",
       "      --hover-bg-color: #E2EBFA;\n",
       "      --hover-fill-color: #174EA6;\n",
       "      --disabled-fill-color: #AAA;\n",
       "      --disabled-bg-color: #DDD;\n",
       "  }\n",
       "\n",
       "  [theme=dark] .colab-df-quickchart {\n",
       "      --bg-color: #3B4455;\n",
       "      --fill-color: #D2E3FC;\n",
       "      --hover-bg-color: #434B5C;\n",
       "      --hover-fill-color: #FFFFFF;\n",
       "      --disabled-bg-color: #3B4455;\n",
       "      --disabled-fill-color: #666;\n",
       "  }\n",
       "\n",
       "  .colab-df-quickchart {\n",
       "    background-color: var(--bg-color);\n",
       "    border: none;\n",
       "    border-radius: 50%;\n",
       "    cursor: pointer;\n",
       "    display: none;\n",
       "    fill: var(--fill-color);\n",
       "    height: 32px;\n",
       "    padding: 0;\n",
       "    width: 32px;\n",
       "  }\n",
       "\n",
       "  .colab-df-quickchart:hover {\n",
       "    background-color: var(--hover-bg-color);\n",
       "    box-shadow: 0 1px 2px rgba(60, 64, 67, 0.3), 0 1px 3px 1px rgba(60, 64, 67, 0.15);\n",
       "    fill: var(--button-hover-fill-color);\n",
       "  }\n",
       "\n",
       "  .colab-df-quickchart-complete:disabled,\n",
       "  .colab-df-quickchart-complete:disabled:hover {\n",
       "    background-color: var(--disabled-bg-color);\n",
       "    fill: var(--disabled-fill-color);\n",
       "    box-shadow: none;\n",
       "  }\n",
       "\n",
       "  .colab-df-spinner {\n",
       "    border: 2px solid var(--fill-color);\n",
       "    border-color: transparent;\n",
       "    border-bottom-color: var(--fill-color);\n",
       "    animation:\n",
       "      spin 1s steps(1) infinite;\n",
       "  }\n",
       "\n",
       "  @keyframes spin {\n",
       "    0% {\n",
       "      border-color: transparent;\n",
       "      border-bottom-color: var(--fill-color);\n",
       "      border-left-color: var(--fill-color);\n",
       "    }\n",
       "    20% {\n",
       "      border-color: transparent;\n",
       "      border-left-color: var(--fill-color);\n",
       "      border-top-color: var(--fill-color);\n",
       "    }\n",
       "    30% {\n",
       "      border-color: transparent;\n",
       "      border-left-color: var(--fill-color);\n",
       "      border-top-color: var(--fill-color);\n",
       "      border-right-color: var(--fill-color);\n",
       "    }\n",
       "    40% {\n",
       "      border-color: transparent;\n",
       "      border-right-color: var(--fill-color);\n",
       "      border-top-color: var(--fill-color);\n",
       "    }\n",
       "    60% {\n",
       "      border-color: transparent;\n",
       "      border-right-color: var(--fill-color);\n",
       "    }\n",
       "    80% {\n",
       "      border-color: transparent;\n",
       "      border-right-color: var(--fill-color);\n",
       "      border-bottom-color: var(--fill-color);\n",
       "    }\n",
       "    90% {\n",
       "      border-color: transparent;\n",
       "      border-bottom-color: var(--fill-color);\n",
       "    }\n",
       "  }\n",
       "</style>\n",
       "\n",
       "  <script>\n",
       "    async function quickchart(key) {\n",
       "      const quickchartButtonEl =\n",
       "        document.querySelector('#' + key + ' button');\n",
       "      quickchartButtonEl.disabled = true;  // To prevent multiple clicks.\n",
       "      quickchartButtonEl.classList.add('colab-df-spinner');\n",
       "      try {\n",
       "        const charts = await google.colab.kernel.invokeFunction(\n",
       "            'suggestCharts', [key], {});\n",
       "      } catch (error) {\n",
       "        console.error('Error during call to suggestCharts:', error);\n",
       "      }\n",
       "      quickchartButtonEl.classList.remove('colab-df-spinner');\n",
       "      quickchartButtonEl.classList.add('colab-df-quickchart-complete');\n",
       "    }\n",
       "    (() => {\n",
       "      let quickchartButtonEl =\n",
       "        document.querySelector('#df-8d8c3dc8-99e7-4406-b9a4-dd3d1a780aef button');\n",
       "      quickchartButtonEl.style.display =\n",
       "        google.colab.kernel.accessAllowed ? 'block' : 'none';\n",
       "    })();\n",
       "  </script>\n",
       "</div>\n",
       "    </div>\n",
       "  </div>\n"
      ]
     },
     "metadata": {},
     "execution_count": 62
    }
   ],
   "source": [
    "# create dataframe with nex X\n",
    "\n",
    "import pandas as pd\n",
    "X_df_ = pd.DataFrame(X_)\n",
    "y_df_ = pd.DataFrame(y, columns=['label'])  # Assuming 'label' is the name of the column\n",
    "\n",
    "# Concatenate X and y along the columns (axis=1)\n",
    "df_ = pd.concat([X_df_, y_df_], axis=1)\n",
    "df_.head()"
   ],
   "id": "4cc78926-1d1d-4894-9eb8-50e1e658d447"
  },
  {
   "cell_type": "code",
   "execution_count": 63,
   "metadata": {
    "id": "9276e17b-2ae7-46bc-a80f-73a5de04965c"
   },
   "outputs": [],
   "source": [
    "# Spot Check Algorithms\n",
    "_models = []"
   ],
   "id": "9276e17b-2ae7-46bc-a80f-73a5de04965c"
  },
  {
   "cell_type": "markdown",
   "metadata": {
    "id": "01899bc7-166a-4668-b835-c4c9f92d5150"
   },
   "source": [
    "### Echantillionnage des données en train et test"
   ],
   "id": "01899bc7-166a-4668-b835-c4c9f92d5150"
  },
  {
   "cell_type": "code",
   "execution_count": 64,
   "metadata": {
    "colab": {
     "base_uri": "https://localhost:8080/"
    },
    "id": "cf602287-1d06-4b37-8f6b-8aa0f78fa104",
    "outputId": "d22a33a6-9b68-4625-d1cf-442331f8b8be"
   },
   "outputs": [
    {
     "output_type": "stream",
     "name": "stdout",
     "text": [
      "X_train shape: (2166, 1433)\n",
      "\n",
      "X_train shape: (542, 1433)\n",
      "\n",
      "X_train shape: (2166, 1)\n",
      "\n",
      "X_train shape: (542, 1)\n"
     ]
    }
   ],
   "source": [
    "\n",
    "from sklearn.model_selection import train_test_split\n",
    "\n",
    "# Stratifier la division en tenant compte des classes déséquilibrées\n",
    "_X_train, _X_test, _y_train, _y_test = train_test_split(X_, y_, test_size=0.2, random_state=42, stratify=y)\n",
    "\n",
    "print(f\"X_train shape: {_X_train.shape}\\n\")\n",
    "print(f\"X_train shape: {_X_test.shape}\\n\")\n",
    "print(f\"X_train shape: {_y_train.shape}\\n\")\n",
    "print(f\"X_train shape: {_y_test.shape}\\n\")"
   ],
   "id": "cf602287-1d06-4b37-8f6b-8aa0f78fa104"
  },
  {
   "cell_type": "code",
   "execution_count": 65,
   "metadata": {
    "id": "61b5b350-9268-4cd1-920d-c2413112b0c7"
   },
   "outputs": [],
   "source": [
    "from sklearn.preprocessing import StandardScaler\n",
    "scaler = StandardScaler()\n",
    "_X_train_scaled = scaler.fit_transform(_X_train)\n",
    "_X_test_scaled = scaler.transform(_X_test)"
   ],
   "id": "61b5b350-9268-4cd1-920d-c2413112b0c7"
  },
  {
   "cell_type": "markdown",
   "metadata": {
    "id": "1c883bad-2def-420e-b900-b7b0174b1c44"
   },
   "source": [
    "### LogisticRegression"
   ],
   "id": "1c883bad-2def-420e-b900-b7b0174b1c44"
  },
  {
   "cell_type": "code",
   "execution_count": 66,
   "metadata": {
    "colab": {
     "base_uri": "https://localhost:8080/"
    },
    "id": "fedbda2c-fefa-4a35-9f48-a78be98492f9",
    "outputId": "5c4e5058-83a1-4aff-c899-ffad88b59705"
   },
   "outputs": [
    {
     "output_type": "stream",
     "name": "stdout",
     "text": [
      "Best: 0.801474 using {'C': 1.0, 'penalty': 'l2', 'solver': 'newton-cg'}\n",
      "0.794548 (0.023678) with: {'C': 10, 'penalty': 'l2', 'solver': 'newton-cg'}\n",
      "0.801474 (0.024984) with: {'C': 1.0, 'penalty': 'l2', 'solver': 'newton-cg'}\n"
     ]
    }
   ],
   "source": [
    "model = LogisticRegression(multi_class='multinomial')\n",
    "solvers = ['newton-cg']  # Excluding 'liblinear'\n",
    "penalty = ['l2']\n",
    "c_values = [10, 1.0]\n",
    "# define grid search\n",
    "grid = dict(solver=solvers, penalty=penalty, C=c_values)\n",
    "cv = RepeatedStratifiedKFold(n_splits=5, n_repeats=1, random_state=1)\n",
    "grid_search = GridSearchCV(estimator=model, param_grid=grid, n_jobs=-1, cv=cv, scoring='accuracy', error_score=0)\n",
    "grid_result = grid_search.fit(_X_train_scaled, _y_train.ravel())\n",
    "# summarize results\n",
    "print(\"Best: %f using %s\" % (grid_result.best_score_, grid_result.best_params_))\n",
    "means = grid_result.cv_results_['mean_test_score']\n",
    "stds = grid_result.cv_results_['std_test_score']\n",
    "params = grid_result.cv_results_['params']\n",
    "for mean, stdev, param in zip(means, stds, params):\n",
    "    print(\"%f (%f) with: %r\" % (mean, stdev, param))\n",
    "\n",
    "# store best mmodels\n",
    "_models.append(('LRG', LogisticRegression(multi_class='multinomial', **grid_result.best_params_)))"
   ],
   "id": "fedbda2c-fefa-4a35-9f48-a78be98492f9"
  },
  {
   "cell_type": "code",
   "execution_count": 67,
   "metadata": {
    "colab": {
     "base_uri": "https://localhost:8080/"
    },
    "id": "c2c7f312-8dd9-4d27-9345-e5ea499055af",
    "outputId": "198beef1-1c7b-4afa-f74d-548c4b947d57"
   },
   "outputs": [
    {
     "output_type": "execute_result",
     "data": {
      "text/plain": [
       "[('LRG', LogisticRegression(multi_class='multinomial', solver='newton-cg'))]"
      ]
     },
     "metadata": {},
     "execution_count": 67
    }
   ],
   "source": [
    "_models"
   ],
   "id": "c2c7f312-8dd9-4d27-9345-e5ea499055af"
  },
  {
   "cell_type": "code",
   "execution_count": 67,
   "metadata": {
    "id": "lHR2SeVl43Cs"
   },
   "outputs": [],
   "source": [],
   "id": "lHR2SeVl43Cs"
  },
  {
   "cell_type": "markdown",
   "metadata": {
    "id": "EvK-lrdg40ON"
   },
   "source": [
    "### RidgeClassifier"
   ],
   "id": "EvK-lrdg40ON"
  },
  {
   "cell_type": "code",
   "execution_count": 68,
   "metadata": {
    "colab": {
     "base_uri": "https://localhost:8080/"
    },
    "id": "f1a51334-347e-4a58-8089-d1e35681709d",
    "outputId": "bf0117d3-5e46-4773-d166-9c13408d2680"
   },
   "outputs": [
    {
     "output_type": "stream",
     "name": "stdout",
     "text": [
      "Best: 0.623718 using {'alpha': 1.0, 'solver': 'sparse_cg'}\n",
      "0.577559 (0.009041) with: {'alpha': 0.1, 'solver': 'sparse_cg'}\n",
      "0.623718 (0.015589) with: {'alpha': 1.0, 'solver': 'sparse_cg'}\n"
     ]
    }
   ],
   "source": [
    "# define models and parameters\n",
    "model = RidgeClassifier()\n",
    "alpha = [0.1, 1.0]\n",
    "solver=[\"sparse_cg\"]\n",
    "# define grid search\n",
    "grid = dict(alpha=alpha, solver=solver)\n",
    "cv = StratifiedKFold(n_splits=5)\n",
    "grid_search = GridSearchCV(estimator=model, param_grid=grid, n_jobs=-1, cv=cv, scoring='accuracy',error_score=0)\n",
    "grid_result = grid_search.fit(_X_train_scaled, _y_train.ravel())\n",
    "# summarize results\n",
    "print(\"Best: %f using %s\" % (grid_result.best_score_, grid_result.best_params_))\n",
    "means = grid_result.cv_results_['mean_test_score']\n",
    "stds = grid_result.cv_results_['std_test_score']\n",
    "params = grid_result.cv_results_['params']\n",
    "for mean, stdev, param in zip(means, stds, params):\n",
    "    print(\"%f (%f) with: %r\" % (mean, stdev, param))\n",
    "\n",
    "_models.append(('RGC', RidgeClassifier(**grid_result.best_params_)))"
   ],
   "id": "f1a51334-347e-4a58-8089-d1e35681709d"
  },
  {
   "cell_type": "code",
   "execution_count": 69,
   "metadata": {
    "colab": {
     "base_uri": "https://localhost:8080/"
    },
    "id": "c92a014e-52c2-4d3f-b41e-93598e725fa0",
    "outputId": "0b973e2e-f80f-4965-d029-413dfc0d3188"
   },
   "outputs": [
    {
     "output_type": "execute_result",
     "data": {
      "text/plain": [
       "[('LRG', LogisticRegression(multi_class='multinomial', solver='newton-cg')),\n",
       " ('RGC', RidgeClassifier(solver='sparse_cg'))]"
      ]
     },
     "metadata": {},
     "execution_count": 69
    }
   ],
   "source": [
    "_models"
   ],
   "id": "c92a014e-52c2-4d3f-b41e-93598e725fa0"
  },
  {
   "cell_type": "code",
   "execution_count": 69,
   "metadata": {
    "id": "cec35658ec4bf70b"
   },
   "outputs": [],
   "source": [],
   "id": "cec35658ec4bf70b"
  },
  {
   "cell_type": "markdown",
   "metadata": {
    "id": "IHLIISO04w8r"
   },
   "source": [
    "### KNeighborsClassifier"
   ],
   "id": "IHLIISO04w8r"
  },
  {
   "cell_type": "code",
   "execution_count": 70,
   "metadata": {
    "colab": {
     "base_uri": "https://localhost:8080/"
    },
    "id": "0a84f1bb-c97b-4fe3-8cf5-e5056268a848",
    "outputId": "37e99abf-0f18-4dfd-b46a-dc3c38a46407"
   },
   "outputs": [
    {
     "output_type": "stream",
     "name": "stdout",
     "text": [
      "Best: 0.731760 using {'metric': 'euclidean', 'n_neighbors': 6, 'weights': 'distance'}\n",
      "0.695285 (0.010783) with: {'metric': 'euclidean', 'n_neighbors': 5, 'weights': 'uniform'}\n",
      "0.731759 (0.010483) with: {'metric': 'euclidean', 'n_neighbors': 5, 'weights': 'distance'}\n",
      "0.696205 (0.013070) with: {'metric': 'euclidean', 'n_neighbors': 6, 'weights': 'uniform'}\n",
      "0.731760 (0.007044) with: {'metric': 'euclidean', 'n_neighbors': 6, 'weights': 'distance'}\n",
      "0.692977 (0.014124) with: {'metric': 'euclidean', 'n_neighbors': 7, 'weights': 'uniform'}\n",
      "0.725291 (0.018306) with: {'metric': 'euclidean', 'n_neighbors': 7, 'weights': 'distance'}\n",
      "0.689745 (0.013643) with: {'metric': 'euclidean', 'n_neighbors': 8, 'weights': 'uniform'}\n",
      "0.723449 (0.015140) with: {'metric': 'euclidean', 'n_neighbors': 8, 'weights': 'distance'}\n",
      "0.682824 (0.022726) with: {'metric': 'euclidean', 'n_neighbors': 9, 'weights': 'uniform'}\n",
      "0.722988 (0.020019) with: {'metric': 'euclidean', 'n_neighbors': 9, 'weights': 'distance'}\n",
      "0.569260 (0.033127) with: {'metric': 'manhattan', 'n_neighbors': 5, 'weights': 'uniform'}\n",
      "0.610343 (0.020501) with: {'metric': 'manhattan', 'n_neighbors': 5, 'weights': 'distance'}\n",
      "0.536486 (0.029103) with: {'metric': 'manhattan', 'n_neighbors': 6, 'weights': 'uniform'}\n",
      "0.584495 (0.023825) with: {'metric': 'manhattan', 'n_neighbors': 6, 'weights': 'distance'}\n",
      "0.525868 (0.034436) with: {'metric': 'manhattan', 'n_neighbors': 7, 'weights': 'uniform'}\n",
      "0.581269 (0.034505) with: {'metric': 'manhattan', 'n_neighbors': 7, 'weights': 'distance'}\n",
      "0.515253 (0.032668) with: {'metric': 'manhattan', 'n_neighbors': 8, 'weights': 'uniform'}\n",
      "0.566036 (0.039520) with: {'metric': 'manhattan', 'n_neighbors': 8, 'weights': 'distance'}\n",
      "0.505558 (0.036092) with: {'metric': 'manhattan', 'n_neighbors': 9, 'weights': 'uniform'}\n",
      "0.557725 (0.038197) with: {'metric': 'manhattan', 'n_neighbors': 9, 'weights': 'distance'}\n",
      "0.695285 (0.010783) with: {'metric': 'minkowski', 'n_neighbors': 5, 'weights': 'uniform'}\n",
      "0.731759 (0.010483) with: {'metric': 'minkowski', 'n_neighbors': 5, 'weights': 'distance'}\n",
      "0.696205 (0.013070) with: {'metric': 'minkowski', 'n_neighbors': 6, 'weights': 'uniform'}\n",
      "0.731760 (0.007044) with: {'metric': 'minkowski', 'n_neighbors': 6, 'weights': 'distance'}\n",
      "0.692977 (0.014124) with: {'metric': 'minkowski', 'n_neighbors': 7, 'weights': 'uniform'}\n",
      "0.725291 (0.018306) with: {'metric': 'minkowski', 'n_neighbors': 7, 'weights': 'distance'}\n",
      "0.689745 (0.013643) with: {'metric': 'minkowski', 'n_neighbors': 8, 'weights': 'uniform'}\n",
      "0.723449 (0.015140) with: {'metric': 'minkowski', 'n_neighbors': 8, 'weights': 'distance'}\n",
      "0.682824 (0.022726) with: {'metric': 'minkowski', 'n_neighbors': 9, 'weights': 'uniform'}\n",
      "0.722988 (0.020019) with: {'metric': 'minkowski', 'n_neighbors': 9, 'weights': 'distance'}\n"
     ]
    },
    {
     "output_type": "execute_result",
     "data": {
      "text/plain": [
       "[('LRG', LogisticRegression(multi_class='multinomial', solver='newton-cg')),\n",
       " ('RGC', RidgeClassifier(solver='sparse_cg')),\n",
       " ('KNN',\n",
       "  KNeighborsClassifier(metric='euclidean', n_neighbors=6, weights='distance'))]"
      ]
     },
     "metadata": {},
     "execution_count": 70
    }
   ],
   "source": [
    "# define models and parameters\n",
    "model = KNeighborsClassifier()\n",
    "n_neighbors = range(5, 10)\n",
    "weights = ['uniform', 'distance']\n",
    "metric = ['euclidean', 'manhattan', 'minkowski']\n",
    "# define grid search\n",
    "grid = dict(n_neighbors=n_neighbors,weights=weights,metric=metric)\n",
    "cv = StratifiedKFold(n_splits=5)\n",
    "grid_search = GridSearchCV(estimator=model, param_grid=grid, n_jobs=-1, cv=cv, scoring='accuracy',error_score=0)\n",
    "grid_result = grid_search.fit(_X_train_scaled, _y_train.reshape(-1))\n",
    "# summarize results\n",
    "print(\"Best: %f using %s\" % (grid_result.best_score_, grid_result.best_params_))\n",
    "means = grid_result.cv_results_['mean_test_score']\n",
    "stds = grid_result.cv_results_['std_test_score']\n",
    "params = grid_result.cv_results_['params']\n",
    "for mean, stdev, param in zip(means, stds, params):\n",
    "    print(\"%f (%f) with: %r\" % (mean, stdev, param))\n",
    "\n",
    "_models.append(('KNN', KNeighborsClassifier(**grid_result.best_params_)))\n",
    "_models"
   ],
   "id": "0a84f1bb-c97b-4fe3-8cf5-e5056268a848"
  },
  {
   "cell_type": "code",
   "execution_count": 70,
   "metadata": {
    "id": "d8f2ccef-2a68-4b7c-8435-eb4a480fc40e"
   },
   "outputs": [],
   "source": [],
   "id": "d8f2ccef-2a68-4b7c-8435-eb4a480fc40e"
  },
  {
   "cell_type": "markdown",
   "metadata": {
    "id": "qTWWd8HD4ubH"
   },
   "source": [
    "### SVC"
   ],
   "id": "qTWWd8HD4ubH"
  },
  {
   "cell_type": "code",
   "execution_count": 71,
   "metadata": {
    "colab": {
     "base_uri": "https://localhost:8080/"
    },
    "id": "9ae8e678-4f58-4f5c-9959-11b832d407c7",
    "outputId": "3634a262-de47-402f-cc40-6ffc9653368e"
   },
   "outputs": [
    {
     "output_type": "stream",
     "name": "stdout",
     "text": [
      "Best: 0.826861 using {'C': 1.0, 'gamma': 'scale', 'kernel': 'sigmoid'}\n",
      "0.386427 (0.010615) with: {'C': 1.0, 'gamma': 'scale', 'kernel': 'poly'}\n",
      "0.771008 (0.022055) with: {'C': 1.0, 'gamma': 'scale', 'kernel': 'rbf'}\n",
      "0.826861 (0.020040) with: {'C': 1.0, 'gamma': 'scale', 'kernel': 'sigmoid'}\n",
      "0.522616 (0.022304) with: {'C': 5.0, 'gamma': 'scale', 'kernel': 'poly'}\n",
      "0.784402 (0.025429) with: {'C': 5.0, 'gamma': 'scale', 'kernel': 'rbf'}\n",
      "0.795930 (0.024346) with: {'C': 5.0, 'gamma': 'scale', 'kernel': 'sigmoid'}\n",
      "0.576631 (0.029346) with: {'C': 10.0, 'gamma': 'scale', 'kernel': 'poly'}\n",
      "0.784404 (0.024292) with: {'C': 10.0, 'gamma': 'scale', 'kernel': 'rbf'}\n",
      "0.771462 (0.018608) with: {'C': 10.0, 'gamma': 'scale', 'kernel': 'sigmoid'}\n"
     ]
    },
    {
     "output_type": "execute_result",
     "data": {
      "text/plain": [
       "[('LRG', LogisticRegression(multi_class='multinomial', solver='newton-cg')),\n",
       " ('RGC', RidgeClassifier(solver='sparse_cg')),\n",
       " ('KNN',\n",
       "  KNeighborsClassifier(metric='euclidean', n_neighbors=6, weights='distance')),\n",
       " ('SVM', SVC(kernel='sigmoid'))]"
      ]
     },
     "metadata": {},
     "execution_count": 71
    }
   ],
   "source": [
    "# define model and parameters\n",
    "model = SVC()\n",
    "kernel = ['poly', 'rbf', 'sigmoid']\n",
    "C = [1.0, 5.0, 10.0]\n",
    "gamma = ['scale']\n",
    "# define grid search\n",
    "grid = dict(kernel=kernel,C=C,gamma=gamma)\n",
    "cv = RepeatedStratifiedKFold(n_splits=5, n_repeats=1, random_state=1)\n",
    "grid_search = GridSearchCV(estimator=model, param_grid=grid, n_jobs=-1, cv=cv, scoring='accuracy',error_score=0)\n",
    "grid_result = grid_search.fit(_X_train_scaled, _y_train.reshape(-1))\n",
    "# summarize results\n",
    "print(\"Best: %f using %s\" % (grid_result.best_score_, grid_result.best_params_))\n",
    "means = grid_result.cv_results_['mean_test_score']\n",
    "stds = grid_result.cv_results_['std_test_score']\n",
    "params = grid_result.cv_results_['params']\n",
    "for mean, stdev, param in zip(means, stds, params):\n",
    "    print(\"%f (%f) with: %r\" % (mean, stdev, param))\n",
    "\n",
    "_models.append(('SVM', SVC(**grid_result.best_params_)))\n",
    "_models"
   ],
   "id": "9ae8e678-4f58-4f5c-9959-11b832d407c7"
  },
  {
   "cell_type": "code",
   "execution_count": 71,
   "metadata": {
    "id": "cbffd9cf-329a-4f98-b4ce-b918d405d107"
   },
   "outputs": [],
   "source": [],
   "id": "cbffd9cf-329a-4f98-b4ce-b918d405d107"
  },
  {
   "cell_type": "markdown",
   "metadata": {
    "id": "FOMkq-sG4sHP"
   },
   "source": [
    "### BaggingClassifier"
   ],
   "id": "FOMkq-sG4sHP"
  },
  {
   "cell_type": "code",
   "execution_count": 72,
   "metadata": {
    "colab": {
     "base_uri": "https://localhost:8080/"
    },
    "id": "abcec09e-5314-4132-8a43-51d5e9da461a",
    "outputId": "7092d846-5c2b-4dcb-b7b4-2f2bfd2d6cf7"
   },
   "outputs": [
    {
     "output_type": "stream",
     "name": "stdout",
     "text": [
      "Best: 0.782552 using {'n_estimators': 50}\n",
      "0.776545 (0.023769) with: {'n_estimators': 10}\n",
      "0.781625 (0.014050) with: {'n_estimators': 20}\n",
      "0.782552 (0.011917) with: {'n_estimators': 50}\n"
     ]
    },
    {
     "output_type": "execute_result",
     "data": {
      "text/plain": [
       "[('LRG', LogisticRegression(multi_class='multinomial', solver='newton-cg')),\n",
       " ('RGC', RidgeClassifier(solver='sparse_cg')),\n",
       " ('KNN',\n",
       "  KNeighborsClassifier(metric='euclidean', n_neighbors=6, weights='distance')),\n",
       " ('SVM', SVC(kernel='sigmoid')),\n",
       " ('BGC', BaggingClassifier(n_estimators=50))]"
      ]
     },
     "metadata": {},
     "execution_count": 72
    }
   ],
   "source": [
    "# define models and parameters\n",
    "model = BaggingClassifier()\n",
    "n_estimators = [10, 20, 50]\n",
    "# define grid search\n",
    "grid = dict(n_estimators=n_estimators)\n",
    "cv = StratifiedKFold(n_splits=5)\n",
    "grid_search = GridSearchCV(estimator=model, param_grid=grid, n_jobs=-1, cv=cv, scoring='accuracy',error_score=0)\n",
    "grid_result = grid_search.fit(_X_train_scaled, _y_train.ravel())\n",
    "# summarize results\n",
    "print(\"Best: %f using %s\" % (grid_result.best_score_, grid_result.best_params_))\n",
    "means = grid_result.cv_results_['mean_test_score']\n",
    "stds = grid_result.cv_results_['std_test_score']\n",
    "params = grid_result.cv_results_['params']\n",
    "for mean, stdev, param in zip(means, stds, params):\n",
    "    print(\"%f (%f) with: %r\" % (mean, stdev, param))\n",
    "\n",
    "_models.append(('BGC', BaggingClassifier(**grid_result.best_params_)))\n",
    "_models"
   ],
   "id": "abcec09e-5314-4132-8a43-51d5e9da461a"
  },
  {
   "cell_type": "code",
   "execution_count": 72,
   "metadata": {
    "id": "a6ff9be7-f626-4207-88a8-d8c91cbe60a8"
   },
   "outputs": [],
   "source": [],
   "id": "a6ff9be7-f626-4207-88a8-d8c91cbe60a8"
  },
  {
   "cell_type": "markdown",
   "metadata": {
    "id": "CeyQpONP4nus"
   },
   "source": [
    "### RandomForestClassifier"
   ],
   "id": "CeyQpONP4nus"
  },
  {
   "cell_type": "code",
   "execution_count": 73,
   "metadata": {
    "colab": {
     "base_uri": "https://localhost:8080/"
    },
    "id": "d2ca647b-667c-472b-afc7-b813bba5fd28",
    "outputId": "447e1abe-4adf-469d-a6c6-ce17f87d96bc"
   },
   "outputs": [
    {
     "output_type": "stream",
     "name": "stdout",
     "text": [
      "Best: 0.828255 using {'max_features': 'sqrt', 'n_estimators': 100}\n",
      "0.782537 (0.013810) with: {'max_features': 'sqrt', 'n_estimators': 10}\n",
      "0.828255 (0.010584) with: {'max_features': 'sqrt', 'n_estimators': 100}\n",
      "0.744226 (0.011605) with: {'max_features': 'log2', 'n_estimators': 10}\n",
      "0.819485 (0.012572) with: {'max_features': 'log2', 'n_estimators': 100}\n"
     ]
    },
    {
     "output_type": "execute_result",
     "data": {
      "text/plain": [
       "[('LRG', LogisticRegression(multi_class='multinomial', solver='newton-cg')),\n",
       " ('RGC', RidgeClassifier(solver='sparse_cg')),\n",
       " ('KNN',\n",
       "  KNeighborsClassifier(metric='euclidean', n_neighbors=6, weights='distance')),\n",
       " ('SVM', SVC(kernel='sigmoid')),\n",
       " ('BGC', BaggingClassifier(n_estimators=50)),\n",
       " ('RFC', RandomForestClassifier())]"
      ]
     },
     "metadata": {},
     "execution_count": 73
    }
   ],
   "source": [
    "# define models and parameters\n",
    "model = RandomForestClassifier()\n",
    "n_estimators = [10, 100]\n",
    "max_features = ['sqrt', 'log2']\n",
    "# define grid search\n",
    "grid = dict(n_estimators=n_estimators,max_features=max_features)\n",
    "cv = StratifiedKFold(n_splits=5)\n",
    "grid_search = GridSearchCV(estimator=model, param_grid=grid, n_jobs=-1, cv=cv, scoring='accuracy',error_score=0)\n",
    "grid_result = grid_search.fit(_X_train_scaled, _y_train.ravel())\n",
    "# summarize results\n",
    "print(\"Best: %f using %s\" % (grid_result.best_score_, grid_result.best_params_))\n",
    "means = grid_result.cv_results_['mean_test_score']\n",
    "stds = grid_result.cv_results_['std_test_score']\n",
    "params = grid_result.cv_results_['params']\n",
    "for mean, stdev, param in zip(means, stds, params):\n",
    "    print(\"%f (%f) with: %r\" % (mean, stdev, param))\n",
    "\n",
    "_models.append(('RFC', RandomForestClassifier(**grid_result.best_params_)))\n",
    "_models"
   ],
   "id": "d2ca647b-667c-472b-afc7-b813bba5fd28"
  },
  {
   "cell_type": "code",
   "execution_count": 73,
   "metadata": {
    "id": "633291e2-1e50-4ad3-80ec-a6a374564464"
   },
   "outputs": [],
   "source": [],
   "id": "633291e2-1e50-4ad3-80ec-a6a374564464"
  },
  {
   "cell_type": "markdown",
   "metadata": {
    "id": "wUINUDyu4hvu"
   },
   "source": [
    "### GradientBoostingClassifier"
   ],
   "id": "wUINUDyu4hvu"
  },
  {
   "cell_type": "code",
   "execution_count": 74,
   "metadata": {
    "colab": {
     "base_uri": "https://localhost:8080/"
    },
    "id": "d624afc3-dc62-4fee-94ff-78c1950e127f",
    "outputId": "3857bbb8-7ec6-49d7-9f62-8b1d585c78a6"
   },
   "outputs": [
    {
     "output_type": "stream",
     "name": "stdout",
     "text": [
      "Best: 0.301939 using {'learning_rate': 0.001, 'max_depth': 3, 'n_estimators': 10, 'subsample': 0.5}\n",
      "0.301939 (0.000896) with: {'learning_rate': 0.001, 'max_depth': 3, 'n_estimators': 10, 'subsample': 0.5}\n",
      "0.301939 (0.000896) with: {'learning_rate': 0.001, 'max_depth': 3, 'n_estimators': 10, 'subsample': 0.7}\n",
      "0.301939 (0.000896) with: {'learning_rate': 0.001, 'max_depth': 3, 'n_estimators': 10, 'subsample': 1.0}\n",
      "0.301939 (0.000896) with: {'learning_rate': 0.001, 'max_depth': 7, 'n_estimators': 10, 'subsample': 0.5}\n",
      "0.301939 (0.000896) with: {'learning_rate': 0.001, 'max_depth': 7, 'n_estimators': 10, 'subsample': 0.7}\n",
      "0.301939 (0.000896) with: {'learning_rate': 0.001, 'max_depth': 7, 'n_estimators': 10, 'subsample': 1.0}\n",
      "0.301939 (0.000896) with: {'learning_rate': 0.001, 'max_depth': 9, 'n_estimators': 10, 'subsample': 0.5}\n",
      "0.301939 (0.000896) with: {'learning_rate': 0.001, 'max_depth': 9, 'n_estimators': 10, 'subsample': 0.7}\n",
      "0.301939 (0.000896) with: {'learning_rate': 0.001, 'max_depth': 9, 'n_estimators': 10, 'subsample': 1.0}\n",
      "0.301939 (0.000896) with: {'learning_rate': 0.01, 'max_depth': 3, 'n_estimators': 10, 'subsample': 0.5}\n",
      "0.301939 (0.000896) with: {'learning_rate': 0.01, 'max_depth': 3, 'n_estimators': 10, 'subsample': 0.7}\n",
      "0.301939 (0.000896) with: {'learning_rate': 0.01, 'max_depth': 3, 'n_estimators': 10, 'subsample': 1.0}\n",
      "0.301939 (0.000896) with: {'learning_rate': 0.01, 'max_depth': 7, 'n_estimators': 10, 'subsample': 0.5}\n",
      "0.301939 (0.000896) with: {'learning_rate': 0.01, 'max_depth': 7, 'n_estimators': 10, 'subsample': 0.7}\n",
      "0.301939 (0.000896) with: {'learning_rate': 0.01, 'max_depth': 7, 'n_estimators': 10, 'subsample': 1.0}\n",
      "0.301939 (0.000896) with: {'learning_rate': 0.01, 'max_depth': 9, 'n_estimators': 10, 'subsample': 0.5}\n",
      "0.301939 (0.000896) with: {'learning_rate': 0.01, 'max_depth': 9, 'n_estimators': 10, 'subsample': 0.7}\n",
      "0.301939 (0.000896) with: {'learning_rate': 0.01, 'max_depth': 9, 'n_estimators': 10, 'subsample': 1.0}\n"
     ]
    },
    {
     "output_type": "execute_result",
     "data": {
      "text/plain": [
       "[('LRG', LogisticRegression(multi_class='multinomial', solver='newton-cg')),\n",
       " ('RGC', RidgeClassifier(solver='sparse_cg')),\n",
       " ('KNN',\n",
       "  KNeighborsClassifier(metric='euclidean', n_neighbors=6, weights='distance')),\n",
       " ('SVM', SVC(kernel='sigmoid')),\n",
       " ('BGC', BaggingClassifier(n_estimators=50)),\n",
       " ('RFC', RandomForestClassifier()),\n",
       " ('GBC',\n",
       "  GradientBoostingClassifier(learning_rate=0.001, n_estimators=10, subsample=0.5))]"
      ]
     },
     "metadata": {},
     "execution_count": 74
    }
   ],
   "source": [
    "# define models and parameters\n",
    "model = GradientBoostingClassifier()\n",
    "n_estimators = [10]\n",
    "learning_rate = [0.001, 0.01]\n",
    "subsample = [0.5, 0.7, 1.0]\n",
    "max_depth = [3, 7, 9]\n",
    "# define grid search\n",
    "grid = dict(learning_rate=learning_rate, n_estimators=n_estimators, subsample=subsample, max_depth=max_depth)\n",
    "cv = StratifiedKFold(n_splits=5)\n",
    "grid_search = GridSearchCV(estimator=model, param_grid=grid, n_jobs=-1, cv=cv, scoring='accuracy',error_score=0)\n",
    "grid_result = grid_search.fit(_X_train_scaled, _y_train.ravel())\n",
    "# summarize results\n",
    "print(\"Best: %f using %s\" % (grid_result.best_score_, grid_result.best_params_))\n",
    "means = grid_result.cv_results_['mean_test_score']\n",
    "stds = grid_result.cv_results_['std_test_score']\n",
    "params = grid_result.cv_results_['params']\n",
    "for mean, stdev, param in zip(means, stds, params):\n",
    "    print(\"%f (%f) with: %r\" % (mean, stdev, param))\n",
    "\n",
    "_models.append(('GBC', GradientBoostingClassifier(**grid_result.best_params_)))\n",
    "_models"
   ],
   "id": "d624afc3-dc62-4fee-94ff-78c1950e127f"
  },
  {
   "cell_type": "code",
   "execution_count": 74,
   "metadata": {
    "id": "0a0bd95b-1138-4f2a-8875-25b869be0036"
   },
   "outputs": [],
   "source": [],
   "id": "0a0bd95b-1138-4f2a-8875-25b869be0036"
  },
  {
   "cell_type": "markdown",
   "metadata": {
    "id": "PIiNrt6J4VAn"
   },
   "source": [
    "### LinearDiscriminantAnalysis"
   ],
   "id": "PIiNrt6J4VAn"
  },
  {
   "cell_type": "code",
   "execution_count": 75,
   "metadata": {
    "colab": {
     "base_uri": "https://localhost:8080/"
    },
    "id": "8103a4bb-0c2f-4fac-9c1b-f2246c500bcd",
    "outputId": "0cfc4dbb-1d70-4d78-c91d-623bb4795a82"
   },
   "outputs": [
    {
     "output_type": "stream",
     "name": "stdout",
     "text": [
      "Mean Accuracy: 0.569\n",
      "Config: {'solver': 'lsqr'}\n"
     ]
    },
    {
     "output_type": "execute_result",
     "data": {
      "text/plain": [
       "[('LRG', LogisticRegression(multi_class='multinomial', solver='newton-cg')),\n",
       " ('RGC', RidgeClassifier(solver='sparse_cg')),\n",
       " ('KNN',\n",
       "  KNeighborsClassifier(metric='euclidean', n_neighbors=6, weights='distance')),\n",
       " ('SVM', SVC(kernel='sigmoid')),\n",
       " ('BGC', BaggingClassifier(n_estimators=50)),\n",
       " ('RFC', RandomForestClassifier()),\n",
       " ('GBC',\n",
       "  GradientBoostingClassifier(learning_rate=0.001, n_estimators=10, subsample=0.5)),\n",
       " ('LDA', LinearDiscriminantAnalysis(solver='lsqr'))]"
      ]
     },
     "metadata": {},
     "execution_count": 75
    }
   ],
   "source": [
    "# define model\n",
    "model = LinearDiscriminantAnalysis()\n",
    "# define model evaluation method\n",
    "cv = StratifiedKFold(n_splits=5)\n",
    "# define grid\n",
    "grid = dict()\n",
    "grid['solver'] = ['svd', 'lsqr']\n",
    "# grid['shrinkage'] = arange(0, 1, 0.01)\n",
    "# define search\n",
    "search = GridSearchCV(model, grid, scoring='accuracy', cv=cv, n_jobs=-1, error_score=0)\n",
    "# perform the search\n",
    "results = search.fit(_X_train_scaled, _y_train.ravel())\n",
    "# summarize\n",
    "print('Mean Accuracy: %.3f' % results.best_score_)\n",
    "print('Config: %s' % results.best_params_)\n",
    "\n",
    "_models.append(('LDA', LinearDiscriminantAnalysis(**results.best_params_)))\n",
    "_models"
   ],
   "id": "8103a4bb-0c2f-4fac-9c1b-f2246c500bcd"
  },
  {
   "cell_type": "code",
   "execution_count": 75,
   "metadata": {
    "id": "13d427dd-9625-4ff5-b7c3-50a8adc257bb"
   },
   "outputs": [],
   "source": [],
   "id": "13d427dd-9625-4ff5-b7c3-50a8adc257bb"
  },
  {
   "cell_type": "markdown",
   "metadata": {
    "id": "CDj9Za3s4RaA"
   },
   "source": [
    "### DecisionTreeClassifier"
   ],
   "id": "CDj9Za3s4RaA"
  },
  {
   "cell_type": "code",
   "execution_count": 76,
   "metadata": {
    "colab": {
     "base_uri": "https://localhost:8080/"
    },
    "id": "dc63af83-baa7-4d19-b857-e27416adffa8",
    "outputId": "9fa45185-4624-4e1f-cf0f-12795eed3b55"
   },
   "outputs": [
    {
     "output_type": "stream",
     "name": "stdout",
     "text": [
      "Mean Accuracy: 0.715\n",
      "Config: {'min_samples_split': 3}\n"
     ]
    },
    {
     "output_type": "execute_result",
     "data": {
      "text/plain": [
       "[('LRG', LogisticRegression(multi_class='multinomial', solver='newton-cg')),\n",
       " ('RGC', RidgeClassifier(solver='sparse_cg')),\n",
       " ('KNN',\n",
       "  KNeighborsClassifier(metric='euclidean', n_neighbors=6, weights='distance')),\n",
       " ('SVM', SVC(kernel='sigmoid')),\n",
       " ('BGC', BaggingClassifier(n_estimators=50)),\n",
       " ('RFC', RandomForestClassifier()),\n",
       " ('GBC',\n",
       "  GradientBoostingClassifier(learning_rate=0.001, n_estimators=10, subsample=0.5)),\n",
       " ('LDA', LinearDiscriminantAnalysis(solver='lsqr')),\n",
       " ('DTC', DecisionTreeClassifier(min_samples_split=3))]"
      ]
     },
     "metadata": {},
     "execution_count": 76
    }
   ],
   "source": [
    "# define model\n",
    "model = DecisionTreeClassifier()\n",
    "# define model evaluation method\n",
    "cv = StratifiedKFold(n_splits=5)\n",
    "grid = dict()\n",
    "# define grid\n",
    "grid['min_samples_split'] = range(2, 5)\n",
    "# define search\n",
    "search = GridSearchCV(model, grid, scoring='accuracy', cv=cv, n_jobs=-1)\n",
    "# perform the search\n",
    "results = search.fit(_X_train_scaled, _y_train.ravel())\n",
    "# summarize\n",
    "print('Mean Accuracy: %.3f' % results.best_score_)\n",
    "print('Config: %s' % results.best_params_)\n",
    "\n",
    "_models.append(('DTC', DecisionTreeClassifier(**results.best_params_)))\n",
    "_models"
   ],
   "id": "dc63af83-baa7-4d19-b857-e27416adffa8"
  },
  {
   "cell_type": "code",
   "execution_count": 76,
   "metadata": {
    "id": "dfda602953fa0f75"
   },
   "outputs": [],
   "source": [],
   "id": "dfda602953fa0f75"
  },
  {
   "cell_type": "code",
   "source": [
    "estimator = XGBClassifier(objective= 'multi:softmax', num_class=7)\n",
    "\n",
    "parameters = {\n",
    "    'max_depth': range (1, 10, 5),\n",
    "    'n_estimators': range(1, 10),\n",
    "    'learning_rate': [0.1, 0.01]\n",
    "}\n",
    "cv = StratifiedKFold(n_splits=5)\n",
    "search = GridSearchCV(estimator=estimator,\n",
    "                      param_grid=parameters,\n",
    "                      scoring = 'accuracy', n_jobs=-1, cv = cv,\n",
    "                      verbose=True)\n",
    "# perform the search\n",
    "grid_result = search.fit(_X_train_scaled, _y_train.reshape(-1)-1)\n",
    "\n",
    "# summarize results\n",
    "print(\"Best: %f using %s\" % (grid_result.best_score_, grid_result.best_params_))\n",
    "means = grid_result.cv_results_['mean_test_score']\n",
    "stds = grid_result.cv_results_['std_test_score']\n",
    "params = grid_result.cv_results_['params']\n",
    "for mean, stdev, param in zip(means, stds, params):\n",
    "    print(\"%f (%f) with: %r\" % (mean, stdev, param))\n",
    "\n",
    "_models.append(('XGB', XGBClassifier(**grid_result.best_params_)))\n",
    "_models"
   ],
   "metadata": {
    "colab": {
     "base_uri": "https://localhost:8080/"
    },
    "id": "EFKocGmPrHBn",
    "outputId": "317cbafc-5c0d-48e3-ca6e-54d89913f57a"
   },
   "id": "EFKocGmPrHBn",
   "execution_count": 77,
   "outputs": [
    {
     "output_type": "stream",
     "name": "stdout",
     "text": [
      "Fitting 5 folds for each of 36 candidates, totalling 180 fits\n"
     ]
    },
    {
     "output_type": "stream",
     "name": "stderr",
     "text": [
      "/usr/local/lib/python3.10/dist-packages/joblib/externals/loky/process_executor.py:752: UserWarning: A worker stopped while some jobs were given to the executor. This can be caused by a too short worker timeout or by a memory leak.\n",
      "  warnings.warn(\n"
     ]
    },
    {
     "output_type": "stream",
     "name": "stdout",
     "text": [
      "Best: 0.784398 using {'learning_rate': 0.1, 'max_depth': 6, 'n_estimators': 9}\n",
      "0.631583 (0.025425) with: {'learning_rate': 0.1, 'max_depth': 1, 'n_estimators': 1}\n",
      "0.651428 (0.026496) with: {'learning_rate': 0.1, 'max_depth': 1, 'n_estimators': 2}\n",
      "0.660662 (0.019417) with: {'learning_rate': 0.1, 'max_depth': 1, 'n_estimators': 3}\n",
      "0.668509 (0.025079) with: {'learning_rate': 0.1, 'max_depth': 1, 'n_estimators': 4}\n",
      "0.678209 (0.025064) with: {'learning_rate': 0.1, 'max_depth': 1, 'n_estimators': 5}\n",
      "0.676359 (0.028139) with: {'learning_rate': 0.1, 'max_depth': 1, 'n_estimators': 6}\n",
      "0.672666 (0.022008) with: {'learning_rate': 0.1, 'max_depth': 1, 'n_estimators': 7}\n",
      "0.672665 (0.021083) with: {'learning_rate': 0.1, 'max_depth': 1, 'n_estimators': 8}\n",
      "0.677280 (0.022578) with: {'learning_rate': 0.1, 'max_depth': 1, 'n_estimators': 9}\n",
      "0.741923 (0.011942) with: {'learning_rate': 0.1, 'max_depth': 6, 'n_estimators': 1}\n",
      "0.764079 (0.014819) with: {'learning_rate': 0.1, 'max_depth': 6, 'n_estimators': 2}\n",
      "0.771462 (0.012591) with: {'learning_rate': 0.1, 'max_depth': 6, 'n_estimators': 3}\n",
      "0.777002 (0.015444) with: {'learning_rate': 0.1, 'max_depth': 6, 'n_estimators': 4}\n",
      "0.777927 (0.016285) with: {'learning_rate': 0.1, 'max_depth': 6, 'n_estimators': 5}\n",
      "0.779772 (0.017080) with: {'learning_rate': 0.1, 'max_depth': 6, 'n_estimators': 6}\n",
      "0.780696 (0.017531) with: {'learning_rate': 0.1, 'max_depth': 6, 'n_estimators': 7}\n",
      "0.783933 (0.015984) with: {'learning_rate': 0.1, 'max_depth': 6, 'n_estimators': 8}\n",
      "0.784398 (0.014755) with: {'learning_rate': 0.1, 'max_depth': 6, 'n_estimators': 9}\n",
      "0.631583 (0.025425) with: {'learning_rate': 0.01, 'max_depth': 1, 'n_estimators': 1}\n",
      "0.638035 (0.026283) with: {'learning_rate': 0.01, 'max_depth': 1, 'n_estimators': 2}\n",
      "0.645887 (0.028354) with: {'learning_rate': 0.01, 'max_depth': 1, 'n_estimators': 3}\n",
      "0.647735 (0.027033) with: {'learning_rate': 0.01, 'max_depth': 1, 'n_estimators': 4}\n",
      "0.648197 (0.026392) with: {'learning_rate': 0.01, 'max_depth': 1, 'n_estimators': 5}\n",
      "0.646349 (0.028268) with: {'learning_rate': 0.01, 'max_depth': 1, 'n_estimators': 6}\n",
      "0.650044 (0.024753) with: {'learning_rate': 0.01, 'max_depth': 1, 'n_estimators': 7}\n",
      "0.648197 (0.025778) with: {'learning_rate': 0.01, 'max_depth': 1, 'n_estimators': 8}\n",
      "0.650506 (0.024577) with: {'learning_rate': 0.01, 'max_depth': 1, 'n_estimators': 9}\n",
      "0.741923 (0.011942) with: {'learning_rate': 0.01, 'max_depth': 6, 'n_estimators': 1}\n",
      "0.746075 (0.011958) with: {'learning_rate': 0.01, 'max_depth': 6, 'n_estimators': 2}\n",
      "0.753457 (0.013271) with: {'learning_rate': 0.01, 'max_depth': 6, 'n_estimators': 3}\n",
      "0.754843 (0.013016) with: {'learning_rate': 0.01, 'max_depth': 6, 'n_estimators': 4}\n",
      "0.754844 (0.014024) with: {'learning_rate': 0.01, 'max_depth': 6, 'n_estimators': 5}\n",
      "0.754382 (0.011905) with: {'learning_rate': 0.01, 'max_depth': 6, 'n_estimators': 6}\n",
      "0.755769 (0.009336) with: {'learning_rate': 0.01, 'max_depth': 6, 'n_estimators': 7}\n",
      "0.755769 (0.010719) with: {'learning_rate': 0.01, 'max_depth': 6, 'n_estimators': 8}\n",
      "0.758539 (0.012983) with: {'learning_rate': 0.01, 'max_depth': 6, 'n_estimators': 9}\n"
     ]
    },
    {
     "output_type": "execute_result",
     "data": {
      "text/plain": [
       "[('LRG', LogisticRegression(multi_class='multinomial', solver='newton-cg')),\n",
       " ('RGC', RidgeClassifier(solver='sparse_cg')),\n",
       " ('KNN',\n",
       "  KNeighborsClassifier(metric='euclidean', n_neighbors=6, weights='distance')),\n",
       " ('SVM', SVC(kernel='sigmoid')),\n",
       " ('BGC', BaggingClassifier(n_estimators=50)),\n",
       " ('RFC', RandomForestClassifier()),\n",
       " ('GBC',\n",
       "  GradientBoostingClassifier(learning_rate=0.001, n_estimators=10, subsample=0.5)),\n",
       " ('LDA', LinearDiscriminantAnalysis(solver='lsqr')),\n",
       " ('DTC', DecisionTreeClassifier(min_samples_split=3)),\n",
       " ('XGB',\n",
       "  XGBClassifier(base_score=None, booster=None, callbacks=None,\n",
       "                colsample_bylevel=None, colsample_bynode=None,\n",
       "                colsample_bytree=None, device=None, early_stopping_rounds=None,\n",
       "                enable_categorical=False, eval_metric=None, feature_types=None,\n",
       "                gamma=None, grow_policy=None, importance_type=None,\n",
       "                interaction_constraints=None, learning_rate=0.1, max_bin=None,\n",
       "                max_cat_threshold=None, max_cat_to_onehot=None,\n",
       "                max_delta_step=None, max_depth=6, max_leaves=None,\n",
       "                min_child_weight=None, missing=nan, monotone_constraints=None,\n",
       "                multi_strategy=None, n_estimators=9, n_jobs=None,\n",
       "                num_parallel_tree=None, random_state=None, ...))]"
      ]
     },
     "metadata": {},
     "execution_count": 77
    }
   ]
  },
  {
   "cell_type": "code",
   "source": [],
   "metadata": {
    "id": "5-NGSljMrH59"
   },
   "id": "5-NGSljMrH59",
   "execution_count": 77,
   "outputs": []
  },
  {
   "cell_type": "markdown",
   "metadata": {
    "collapsed": false,
    "id": "798e35d904c19377"
   },
   "source": [
    "### Evaluation _ model"
   ],
   "id": "798e35d904c19377"
  },
  {
   "cell_type": "code",
   "execution_count": 78,
   "metadata": {
    "colab": {
     "base_uri": "https://localhost:8080/"
    },
    "id": "4cf6eb0a-80a3-49c3-b53a-efc26f0fd086",
    "outputId": "d7139819-3245-45a7-e2ff-d6c466896d57"
   },
   "outputs": [
    {
     "output_type": "stream",
     "name": "stdout",
     "text": [
      "LRG: 0.789596 (0.040986)\n",
      "RGC: 0.734478 (0.062344)\n",
      "KNN: 0.394882 (0.044307)\n",
      "SVM: 0.719394 (0.055745)\n",
      "BGC: 0.730572 (0.083337)\n",
      "RFC: 0.752626 (0.062493)\n",
      "GBC: 0.695556 (0.052111)\n",
      "LDA: 0.481347 (0.106478)\n",
      "DTC: 0.638586 (0.057330)\n",
      "XGB: 0.706599 (0.067102)\n"
     ]
    }
   ],
   "source": [
    "# Evaluate Algorithms\n",
    "\n",
    "# Test options and evaluation metric\n",
    "num_folds = 10\n",
    "seed = 7\n",
    "scoring = 'accuracy'\n",
    "\n",
    "_results = []\n",
    "_names = []\n",
    "for name, model in sm_models:\n",
    "\tkfold = KFold(n_splits=num_folds)\n",
    "\ty_temp = _y_test.reshape(-1)\n",
    "\tif name == 'XGB':\n",
    "\t\ty_temp = _y_test.reshape(-1) - 1\n",
    "\tcv_results = cross_val_score(model, _X_test_scaled, y_temp, cv=kfold, scoring=scoring)\n",
    "\t_results.append(cv_results)\n",
    "\t_names.append(name)\n",
    "\tmsg = \"%s: %f (%f)\" % (name, cv_results.mean(), cv_results.std())\n",
    "\tprint(msg)"
   ],
   "id": "4cf6eb0a-80a3-49c3-b53a-efc26f0fd086"
  },
  {
   "cell_type": "code",
   "execution_count": 78,
   "metadata": {
    "id": "21f19a3dbd30723b"
   },
   "outputs": [],
   "source": [],
   "id": "21f19a3dbd30723b"
  },
  {
   "cell_type": "code",
   "execution_count": 79,
   "metadata": {
    "colab": {
     "base_uri": "https://localhost:8080/",
     "height": 363
    },
    "id": "eecdf0638cd8bda0",
    "outputId": "47323202-2dc7-41f4-dd8e-ddaf2a6d9290"
   },
   "outputs": [
    {
     "output_type": "execute_result",
     "data": {
      "text/plain": [
       "            0         1         2         3         4         5         6  \\\n",
       "LRG  0.781818  0.836364  0.814815  0.722222  0.740741  0.796296  0.870370   \n",
       "RGC  0.690909  0.690909  0.796296  0.629630  0.703704  0.851852  0.796296   \n",
       "KNN  0.381818  0.381818  0.481481  0.388889  0.462963  0.351852  0.351852   \n",
       "SVM  0.690909  0.836364  0.703704  0.629630  0.703704  0.703704  0.703704   \n",
       "BGC  0.636364  0.854545  0.722222  0.685185  0.814815  0.740741  0.629630   \n",
       "RFC  0.690909  0.890909  0.722222  0.648148  0.777778  0.759259  0.722222   \n",
       "GBC  0.618182  0.781818  0.685185  0.722222  0.703704  0.722222  0.611111   \n",
       "LDA  0.454545  0.618182  0.592593  0.537037  0.481481  0.388889  0.240741   \n",
       "DTC  0.509091  0.654545  0.648148  0.611111  0.685185  0.648148  0.648148   \n",
       "XGB  0.618182  0.818182  0.629630  0.685185  0.722222  0.703704  0.722222   \n",
       "\n",
       "            7         8         9  \n",
       "LRG  0.777778  0.777778  0.777778  \n",
       "RGC  0.722222  0.759259  0.703704  \n",
       "KNN  0.370370  0.425926  0.351852  \n",
       "SVM  0.796296  0.740741  0.685185  \n",
       "BGC  0.814815  0.796296  0.611111  \n",
       "RFC  0.796296  0.740741  0.777778  \n",
       "GBC  0.759259  0.685185  0.666667  \n",
       "LDA  0.574074  0.500000  0.425926  \n",
       "DTC  0.740741  0.648148  0.592593  \n",
       "XGB  0.722222  0.814815  0.629630  "
      ],
      "text/html": [
       "\n",
       "  <div id=\"df-2cd80565-1f83-4bb3-a213-6672ef61db64\" class=\"colab-df-container\">\n",
       "    <div>\n",
       "<style scoped>\n",
       "    .dataframe tbody tr th:only-of-type {\n",
       "        vertical-align: middle;\n",
       "    }\n",
       "\n",
       "    .dataframe tbody tr th {\n",
       "        vertical-align: top;\n",
       "    }\n",
       "\n",
       "    .dataframe thead th {\n",
       "        text-align: right;\n",
       "    }\n",
       "</style>\n",
       "<table border=\"1\" class=\"dataframe\">\n",
       "  <thead>\n",
       "    <tr style=\"text-align: right;\">\n",
       "      <th></th>\n",
       "      <th>0</th>\n",
       "      <th>1</th>\n",
       "      <th>2</th>\n",
       "      <th>3</th>\n",
       "      <th>4</th>\n",
       "      <th>5</th>\n",
       "      <th>6</th>\n",
       "      <th>7</th>\n",
       "      <th>8</th>\n",
       "      <th>9</th>\n",
       "    </tr>\n",
       "  </thead>\n",
       "  <tbody>\n",
       "    <tr>\n",
       "      <th>LRG</th>\n",
       "      <td>0.781818</td>\n",
       "      <td>0.836364</td>\n",
       "      <td>0.814815</td>\n",
       "      <td>0.722222</td>\n",
       "      <td>0.740741</td>\n",
       "      <td>0.796296</td>\n",
       "      <td>0.870370</td>\n",
       "      <td>0.777778</td>\n",
       "      <td>0.777778</td>\n",
       "      <td>0.777778</td>\n",
       "    </tr>\n",
       "    <tr>\n",
       "      <th>RGC</th>\n",
       "      <td>0.690909</td>\n",
       "      <td>0.690909</td>\n",
       "      <td>0.796296</td>\n",
       "      <td>0.629630</td>\n",
       "      <td>0.703704</td>\n",
       "      <td>0.851852</td>\n",
       "      <td>0.796296</td>\n",
       "      <td>0.722222</td>\n",
       "      <td>0.759259</td>\n",
       "      <td>0.703704</td>\n",
       "    </tr>\n",
       "    <tr>\n",
       "      <th>KNN</th>\n",
       "      <td>0.381818</td>\n",
       "      <td>0.381818</td>\n",
       "      <td>0.481481</td>\n",
       "      <td>0.388889</td>\n",
       "      <td>0.462963</td>\n",
       "      <td>0.351852</td>\n",
       "      <td>0.351852</td>\n",
       "      <td>0.370370</td>\n",
       "      <td>0.425926</td>\n",
       "      <td>0.351852</td>\n",
       "    </tr>\n",
       "    <tr>\n",
       "      <th>SVM</th>\n",
       "      <td>0.690909</td>\n",
       "      <td>0.836364</td>\n",
       "      <td>0.703704</td>\n",
       "      <td>0.629630</td>\n",
       "      <td>0.703704</td>\n",
       "      <td>0.703704</td>\n",
       "      <td>0.703704</td>\n",
       "      <td>0.796296</td>\n",
       "      <td>0.740741</td>\n",
       "      <td>0.685185</td>\n",
       "    </tr>\n",
       "    <tr>\n",
       "      <th>BGC</th>\n",
       "      <td>0.636364</td>\n",
       "      <td>0.854545</td>\n",
       "      <td>0.722222</td>\n",
       "      <td>0.685185</td>\n",
       "      <td>0.814815</td>\n",
       "      <td>0.740741</td>\n",
       "      <td>0.629630</td>\n",
       "      <td>0.814815</td>\n",
       "      <td>0.796296</td>\n",
       "      <td>0.611111</td>\n",
       "    </tr>\n",
       "    <tr>\n",
       "      <th>RFC</th>\n",
       "      <td>0.690909</td>\n",
       "      <td>0.890909</td>\n",
       "      <td>0.722222</td>\n",
       "      <td>0.648148</td>\n",
       "      <td>0.777778</td>\n",
       "      <td>0.759259</td>\n",
       "      <td>0.722222</td>\n",
       "      <td>0.796296</td>\n",
       "      <td>0.740741</td>\n",
       "      <td>0.777778</td>\n",
       "    </tr>\n",
       "    <tr>\n",
       "      <th>GBC</th>\n",
       "      <td>0.618182</td>\n",
       "      <td>0.781818</td>\n",
       "      <td>0.685185</td>\n",
       "      <td>0.722222</td>\n",
       "      <td>0.703704</td>\n",
       "      <td>0.722222</td>\n",
       "      <td>0.611111</td>\n",
       "      <td>0.759259</td>\n",
       "      <td>0.685185</td>\n",
       "      <td>0.666667</td>\n",
       "    </tr>\n",
       "    <tr>\n",
       "      <th>LDA</th>\n",
       "      <td>0.454545</td>\n",
       "      <td>0.618182</td>\n",
       "      <td>0.592593</td>\n",
       "      <td>0.537037</td>\n",
       "      <td>0.481481</td>\n",
       "      <td>0.388889</td>\n",
       "      <td>0.240741</td>\n",
       "      <td>0.574074</td>\n",
       "      <td>0.500000</td>\n",
       "      <td>0.425926</td>\n",
       "    </tr>\n",
       "    <tr>\n",
       "      <th>DTC</th>\n",
       "      <td>0.509091</td>\n",
       "      <td>0.654545</td>\n",
       "      <td>0.648148</td>\n",
       "      <td>0.611111</td>\n",
       "      <td>0.685185</td>\n",
       "      <td>0.648148</td>\n",
       "      <td>0.648148</td>\n",
       "      <td>0.740741</td>\n",
       "      <td>0.648148</td>\n",
       "      <td>0.592593</td>\n",
       "    </tr>\n",
       "    <tr>\n",
       "      <th>XGB</th>\n",
       "      <td>0.618182</td>\n",
       "      <td>0.818182</td>\n",
       "      <td>0.629630</td>\n",
       "      <td>0.685185</td>\n",
       "      <td>0.722222</td>\n",
       "      <td>0.703704</td>\n",
       "      <td>0.722222</td>\n",
       "      <td>0.722222</td>\n",
       "      <td>0.814815</td>\n",
       "      <td>0.629630</td>\n",
       "    </tr>\n",
       "  </tbody>\n",
       "</table>\n",
       "</div>\n",
       "    <div class=\"colab-df-buttons\">\n",
       "\n",
       "  <div class=\"colab-df-container\">\n",
       "    <button class=\"colab-df-convert\" onclick=\"convertToInteractive('df-2cd80565-1f83-4bb3-a213-6672ef61db64')\"\n",
       "            title=\"Convert this dataframe to an interactive table.\"\n",
       "            style=\"display:none;\">\n",
       "\n",
       "  <svg xmlns=\"http://www.w3.org/2000/svg\" height=\"24px\" viewBox=\"0 -960 960 960\">\n",
       "    <path d=\"M120-120v-720h720v720H120Zm60-500h600v-160H180v160Zm220 220h160v-160H400v160Zm0 220h160v-160H400v160ZM180-400h160v-160H180v160Zm440 0h160v-160H620v160ZM180-180h160v-160H180v160Zm440 0h160v-160H620v160Z\"/>\n",
       "  </svg>\n",
       "    </button>\n",
       "\n",
       "  <style>\n",
       "    .colab-df-container {\n",
       "      display:flex;\n",
       "      gap: 12px;\n",
       "    }\n",
       "\n",
       "    .colab-df-convert {\n",
       "      background-color: #E8F0FE;\n",
       "      border: none;\n",
       "      border-radius: 50%;\n",
       "      cursor: pointer;\n",
       "      display: none;\n",
       "      fill: #1967D2;\n",
       "      height: 32px;\n",
       "      padding: 0 0 0 0;\n",
       "      width: 32px;\n",
       "    }\n",
       "\n",
       "    .colab-df-convert:hover {\n",
       "      background-color: #E2EBFA;\n",
       "      box-shadow: 0px 1px 2px rgba(60, 64, 67, 0.3), 0px 1px 3px 1px rgba(60, 64, 67, 0.15);\n",
       "      fill: #174EA6;\n",
       "    }\n",
       "\n",
       "    .colab-df-buttons div {\n",
       "      margin-bottom: 4px;\n",
       "    }\n",
       "\n",
       "    [theme=dark] .colab-df-convert {\n",
       "      background-color: #3B4455;\n",
       "      fill: #D2E3FC;\n",
       "    }\n",
       "\n",
       "    [theme=dark] .colab-df-convert:hover {\n",
       "      background-color: #434B5C;\n",
       "      box-shadow: 0px 1px 3px 1px rgba(0, 0, 0, 0.15);\n",
       "      filter: drop-shadow(0px 1px 2px rgba(0, 0, 0, 0.3));\n",
       "      fill: #FFFFFF;\n",
       "    }\n",
       "  </style>\n",
       "\n",
       "    <script>\n",
       "      const buttonEl =\n",
       "        document.querySelector('#df-2cd80565-1f83-4bb3-a213-6672ef61db64 button.colab-df-convert');\n",
       "      buttonEl.style.display =\n",
       "        google.colab.kernel.accessAllowed ? 'block' : 'none';\n",
       "\n",
       "      async function convertToInteractive(key) {\n",
       "        const element = document.querySelector('#df-2cd80565-1f83-4bb3-a213-6672ef61db64');\n",
       "        const dataTable =\n",
       "          await google.colab.kernel.invokeFunction('convertToInteractive',\n",
       "                                                    [key], {});\n",
       "        if (!dataTable) return;\n",
       "\n",
       "        const docLinkHtml = 'Like what you see? Visit the ' +\n",
       "          '<a target=\"_blank\" href=https://colab.research.google.com/notebooks/data_table.ipynb>data table notebook</a>'\n",
       "          + ' to learn more about interactive tables.';\n",
       "        element.innerHTML = '';\n",
       "        dataTable['output_type'] = 'display_data';\n",
       "        await google.colab.output.renderOutput(dataTable, element);\n",
       "        const docLink = document.createElement('div');\n",
       "        docLink.innerHTML = docLinkHtml;\n",
       "        element.appendChild(docLink);\n",
       "      }\n",
       "    </script>\n",
       "  </div>\n",
       "\n",
       "\n",
       "<div id=\"df-e5ab30d1-e551-49d7-8e92-22ceccd9b900\">\n",
       "  <button class=\"colab-df-quickchart\" onclick=\"quickchart('df-e5ab30d1-e551-49d7-8e92-22ceccd9b900')\"\n",
       "            title=\"Suggest charts\"\n",
       "            style=\"display:none;\">\n",
       "\n",
       "<svg xmlns=\"http://www.w3.org/2000/svg\" height=\"24px\"viewBox=\"0 0 24 24\"\n",
       "     width=\"24px\">\n",
       "    <g>\n",
       "        <path d=\"M19 3H5c-1.1 0-2 .9-2 2v14c0 1.1.9 2 2 2h14c1.1 0 2-.9 2-2V5c0-1.1-.9-2-2-2zM9 17H7v-7h2v7zm4 0h-2V7h2v10zm4 0h-2v-4h2v4z\"/>\n",
       "    </g>\n",
       "</svg>\n",
       "  </button>\n",
       "\n",
       "<style>\n",
       "  .colab-df-quickchart {\n",
       "      --bg-color: #E8F0FE;\n",
       "      --fill-color: #1967D2;\n",
       "      --hover-bg-color: #E2EBFA;\n",
       "      --hover-fill-color: #174EA6;\n",
       "      --disabled-fill-color: #AAA;\n",
       "      --disabled-bg-color: #DDD;\n",
       "  }\n",
       "\n",
       "  [theme=dark] .colab-df-quickchart {\n",
       "      --bg-color: #3B4455;\n",
       "      --fill-color: #D2E3FC;\n",
       "      --hover-bg-color: #434B5C;\n",
       "      --hover-fill-color: #FFFFFF;\n",
       "      --disabled-bg-color: #3B4455;\n",
       "      --disabled-fill-color: #666;\n",
       "  }\n",
       "\n",
       "  .colab-df-quickchart {\n",
       "    background-color: var(--bg-color);\n",
       "    border: none;\n",
       "    border-radius: 50%;\n",
       "    cursor: pointer;\n",
       "    display: none;\n",
       "    fill: var(--fill-color);\n",
       "    height: 32px;\n",
       "    padding: 0;\n",
       "    width: 32px;\n",
       "  }\n",
       "\n",
       "  .colab-df-quickchart:hover {\n",
       "    background-color: var(--hover-bg-color);\n",
       "    box-shadow: 0 1px 2px rgba(60, 64, 67, 0.3), 0 1px 3px 1px rgba(60, 64, 67, 0.15);\n",
       "    fill: var(--button-hover-fill-color);\n",
       "  }\n",
       "\n",
       "  .colab-df-quickchart-complete:disabled,\n",
       "  .colab-df-quickchart-complete:disabled:hover {\n",
       "    background-color: var(--disabled-bg-color);\n",
       "    fill: var(--disabled-fill-color);\n",
       "    box-shadow: none;\n",
       "  }\n",
       "\n",
       "  .colab-df-spinner {\n",
       "    border: 2px solid var(--fill-color);\n",
       "    border-color: transparent;\n",
       "    border-bottom-color: var(--fill-color);\n",
       "    animation:\n",
       "      spin 1s steps(1) infinite;\n",
       "  }\n",
       "\n",
       "  @keyframes spin {\n",
       "    0% {\n",
       "      border-color: transparent;\n",
       "      border-bottom-color: var(--fill-color);\n",
       "      border-left-color: var(--fill-color);\n",
       "    }\n",
       "    20% {\n",
       "      border-color: transparent;\n",
       "      border-left-color: var(--fill-color);\n",
       "      border-top-color: var(--fill-color);\n",
       "    }\n",
       "    30% {\n",
       "      border-color: transparent;\n",
       "      border-left-color: var(--fill-color);\n",
       "      border-top-color: var(--fill-color);\n",
       "      border-right-color: var(--fill-color);\n",
       "    }\n",
       "    40% {\n",
       "      border-color: transparent;\n",
       "      border-right-color: var(--fill-color);\n",
       "      border-top-color: var(--fill-color);\n",
       "    }\n",
       "    60% {\n",
       "      border-color: transparent;\n",
       "      border-right-color: var(--fill-color);\n",
       "    }\n",
       "    80% {\n",
       "      border-color: transparent;\n",
       "      border-right-color: var(--fill-color);\n",
       "      border-bottom-color: var(--fill-color);\n",
       "    }\n",
       "    90% {\n",
       "      border-color: transparent;\n",
       "      border-bottom-color: var(--fill-color);\n",
       "    }\n",
       "  }\n",
       "</style>\n",
       "\n",
       "  <script>\n",
       "    async function quickchart(key) {\n",
       "      const quickchartButtonEl =\n",
       "        document.querySelector('#' + key + ' button');\n",
       "      quickchartButtonEl.disabled = true;  // To prevent multiple clicks.\n",
       "      quickchartButtonEl.classList.add('colab-df-spinner');\n",
       "      try {\n",
       "        const charts = await google.colab.kernel.invokeFunction(\n",
       "            'suggestCharts', [key], {});\n",
       "      } catch (error) {\n",
       "        console.error('Error during call to suggestCharts:', error);\n",
       "      }\n",
       "      quickchartButtonEl.classList.remove('colab-df-spinner');\n",
       "      quickchartButtonEl.classList.add('colab-df-quickchart-complete');\n",
       "    }\n",
       "    (() => {\n",
       "      let quickchartButtonEl =\n",
       "        document.querySelector('#df-e5ab30d1-e551-49d7-8e92-22ceccd9b900 button');\n",
       "      quickchartButtonEl.style.display =\n",
       "        google.colab.kernel.accessAllowed ? 'block' : 'none';\n",
       "    })();\n",
       "  </script>\n",
       "</div>\n",
       "    </div>\n",
       "  </div>\n"
      ]
     },
     "metadata": {},
     "execution_count": 79
    }
   ],
   "source": [
    "_df_results = pd.DataFrame(data=_results, index=_names)\n",
    "_df_results"
   ],
   "id": "eecdf0638cd8bda0"
  },
  {
   "cell_type": "code",
   "execution_count": 80,
   "metadata": {
    "colab": {
     "base_uri": "https://localhost:8080/"
    },
    "id": "7c9a45be2d6e4010",
    "outputId": "e252ee58-30da-4d38-b0ed-b2192857b351"
   },
   "outputs": [
    {
     "output_type": "execute_result",
     "data": {
      "text/plain": [
       "LRG    0.870370\n",
       "RGC    0.851852\n",
       "KNN    0.481481\n",
       "SVM    0.836364\n",
       "BGC    0.854545\n",
       "RFC    0.890909\n",
       "GBC    0.781818\n",
       "LDA    0.618182\n",
       "DTC    0.740741\n",
       "XGB    0.818182\n",
       "dtype: float64"
      ]
     },
     "metadata": {},
     "execution_count": 80
    }
   ],
   "source": [
    "_df_results.max(axis=1)"
   ],
   "id": "7c9a45be2d6e4010"
  },
  {
   "cell_type": "markdown",
   "metadata": {
    "collapsed": false,
    "id": "ee86fb188f6de4e9"
   },
   "source": [
    "### Algorithms boxplot"
   ],
   "id": "ee86fb188f6de4e9"
  },
  {
   "cell_type": "code",
   "execution_count": 81,
   "metadata": {
    "colab": {
     "base_uri": "https://localhost:8080/",
     "height": 478
    },
    "id": "b03ac1f70e307505",
    "outputId": "88be2d6c-77b0-4e2c-e10b-4161f5cc0d2a"
   },
   "outputs": [
    {
     "output_type": "display_data",
     "data": {
      "text/plain": [
       "<Figure size 640x480 with 1 Axes>"
      ],
      "image/png": "[encoded data removed]"
     },
     "metadata": {}
    }
   ],
   "source": [
    "# Compare Algorithms\n",
    "fig = plt.figure()\n",
    "fig.suptitle('Algorithm Comparison')\n",
    "ax = fig.add_subplot(111)\n",
    "plt.boxplot(_results)\n",
    "ax.set_xticklabels(_names)\n",
    "plt.show()"
   ],
   "id": "b03ac1f70e307505"
  },
  {
   "cell_type": "code",
   "execution_count": 81,
   "metadata": {
    "id": "870b0d4b6bf034dc"
   },
   "outputs": [],
   "source": [],
   "id": "870b0d4b6bf034dc"
  },
  {
   "cell_type": "markdown",
   "source": [
    "Nous pouvons remarque une nette amélioration des performances (**accuracy**) des modèles  suer les données de test en l'occurence les modèles ```RandomForest``` (0.89), ```Logisticregrtession```(0.87), ```RidgeClassifier``` (0.85), ```XGBoosting```(0.81). Cela est due au fait que la matrice a été enrichi par les informations des liens entre les documents. Cependant nous avons toujours le problème du déséquilibre\n",
    "des classes.\n",
    "\n",
    "Pour cela nous allons effectuer une methode de rééquilibrage des classes afin d'améliorer les performances des modèles"
   ],
   "metadata": {
    "id": "KvHEAKgx0tdD"
   },
   "id": "KvHEAKgx0tdD"
  },
  {
   "cell_type": "code",
   "source": [],
   "metadata": {
    "id": "rlfKuhch0sRI"
   },
   "id": "rlfKuhch0sRI",
   "execution_count": 98,
   "outputs": []
  },
  {
   "cell_type": "markdown",
   "metadata": {
    "id": "f8AhIAmE4IdQ"
   },
   "source": [
    "## handle unbalanced data"
   ],
   "id": "f8AhIAmE4IdQ"
  },
  {
   "cell_type": "code",
   "execution_count": 82,
   "metadata": {
    "colab": {
     "base_uri": "https://localhost:8080/"
    },
    "id": "d2cc929619d58485",
    "outputId": "37776c76-5466-44cc-cfb7-57916a5c05d8"
   },
   "outputs": [
    {
     "output_type": "execute_result",
     "data": {
      "text/plain": [
       "((4578, 1433),\n",
       " (4578,),\n",
       " Counter({1: 654, 2: 654, 3: 654, 4: 654, 5: 654, 6: 654, 7: 654}))"
      ]
     },
     "metadata": {},
     "execution_count": 82
    }
   ],
   "source": [
    "scaler = StandardScaler()\n",
    "_X_train_scaled = scaler.fit_transform(_X_train)\n",
    "_X_test_scaled = scaler.transform(_X_test)\n",
    "# y_train\n",
    "# y_test\n",
    "\n",
    "over = SMOTE()\n",
    "under = RandomUnderSampler()\n",
    "\n",
    "# scale\n",
    "\n",
    "steps = [('o', over), ('u', under)]\n",
    "pipeline = ImbPipeline(steps=steps)\n",
    "\n",
    "# transform the dataset\n",
    "_X_sm, _y_sm = pipeline.fit_resample(_X_train_scaled, _y_train)\n",
    "\n",
    "X_sm_scaled = scaler.fit_transform(_X_sm)\n",
    "X_sm_scaled.shape, y_sm.shape, Counter(y_sm)"
   ],
   "id": "d2cc929619d58485"
  },
  {
   "cell_type": "code",
   "execution_count": 83,
   "metadata": {
    "id": "kNXsR5BKpVoh"
   },
   "outputs": [],
   "source": [
    "_sm_models = []"
   ],
   "id": "kNXsR5BKpVoh"
  },
  {
   "cell_type": "markdown",
   "metadata": {
    "id": "oiyDYzou384j"
   },
   "source": [
    "### Logistic Regression"
   ],
   "id": "oiyDYzou384j"
  },
  {
   "cell_type": "code",
   "execution_count": 84,
   "metadata": {
    "colab": {
     "base_uri": "https://localhost:8080/"
    },
    "id": "ITDFUczEpMXX",
    "outputId": "45e83196-ee1a-4305-96e5-dca366bd4f31"
   },
   "outputs": [
    {
     "output_type": "stream",
     "name": "stdout",
     "text": [
      "Best: 0.942333 using {'C': 1.0, 'penalty': 'l2', 'solver': 'newton-cg'}\n",
      "0.937747 (0.004568) with: {'C': 10, 'penalty': 'l2', 'solver': 'newton-cg'}\n",
      "0.942333 (0.003610) with: {'C': 1.0, 'penalty': 'l2', 'solver': 'newton-cg'}\n"
     ]
    }
   ],
   "source": [
    "model = LogisticRegression(multi_class='multinomial')\n",
    "solvers = ['newton-cg']  # Excluding 'liblinear'\n",
    "penalty = ['l2']\n",
    "c_values = [10, 1.0]\n",
    "# define grid search\n",
    "grid = dict(solver=solvers, penalty=penalty, C=c_values)\n",
    "cv = StratifiedKFold(n_splits=5)\n",
    "grid_search = GridSearchCV(estimator=model, param_grid=grid, n_jobs=-1, cv=cv, scoring='accuracy', error_score=0)\n",
    "grid_result = grid_search.fit(_X_sm, _y_sm.reshape(-1))\n",
    "# summarize results\n",
    "print(\"Best: %f using %s\" % (grid_result.best_score_, grid_result.best_params_))\n",
    "means = grid_result.cv_results_['mean_test_score']\n",
    "stds = grid_result.cv_results_['std_test_score']\n",
    "params = grid_result.cv_results_['params']\n",
    "for mean, stdev, param in zip(means, stds, params):\n",
    "    print(\"%f (%f) with: %r\" % (mean, stdev, param))\n",
    "\n",
    "# store best mmodels\n",
    "_sm_models.append(('LRG', LogisticRegression(multi_class='multinomial', **grid_result.best_params_)))"
   ],
   "id": "ITDFUczEpMXX"
  },
  {
   "cell_type": "markdown",
   "metadata": {
    "id": "BsNvIS9L30eZ"
   },
   "source": [
    "### RidgeClassifier"
   ],
   "id": "BsNvIS9L30eZ"
  },
  {
   "cell_type": "code",
   "execution_count": 85,
   "metadata": {
    "colab": {
     "base_uri": "https://localhost:8080/"
    },
    "id": "ACtc0Ci5q2QC",
    "outputId": "fc741cf2-4484-4ef4-a0e1-a266cbaf72a9"
   },
   "outputs": [
    {
     "output_type": "stream",
     "name": "stdout",
     "text": [
      "Best: 0.895154 using {'alpha': 1.0, 'solver': 'sparse_cg'}\n",
      "0.891440 (0.007165) with: {'alpha': 0.1, 'solver': 'sparse_cg'}\n",
      "0.895154 (0.007623) with: {'alpha': 1.0, 'solver': 'sparse_cg'}\n"
     ]
    },
    {
     "output_type": "execute_result",
     "data": {
      "text/plain": [
       "[('LRG', LogisticRegression(multi_class='multinomial', solver='newton-cg')),\n",
       " ('RGC', RidgeClassifier(solver='sparse_cg'))]"
      ]
     },
     "metadata": {},
     "execution_count": 85
    }
   ],
   "source": [
    "# define models and parameters\n",
    "model = RidgeClassifier()\n",
    "alpha = [0.1, 1.0]\n",
    "solver=[\"sparse_cg\"]\n",
    "# define grid search\n",
    "grid = dict(alpha=alpha, solver=solver)\n",
    "cv = StratifiedKFold(n_splits=5)\n",
    "grid_search = GridSearchCV(estimator=model, param_grid=grid, n_jobs=-1, cv=cv, scoring='accuracy',error_score=0)\n",
    "grid_result = grid_search.fit(_X_sm, _y_sm.reshape(-1))\n",
    "# summarize results\n",
    "print(\"Best: %f using %s\" % (grid_result.best_score_, grid_result.best_params_))\n",
    "means = grid_result.cv_results_['mean_test_score']\n",
    "stds = grid_result.cv_results_['std_test_score']\n",
    "params = grid_result.cv_results_['params']\n",
    "for mean, stdev, param in zip(means, stds, params):\n",
    "    print(\"%f (%f) with: %r\" % (mean, stdev, param))\n",
    "\n",
    "_sm_models.append(('RGC', RidgeClassifier(**grid_result.best_params_)))\n",
    "_sm_models"
   ],
   "id": "ACtc0Ci5q2QC"
  },
  {
   "cell_type": "markdown",
   "metadata": {
    "id": "dy8RPsQBsFqr"
   },
   "source": [
    "### KNeighborsClassifier"
   ],
   "id": "dy8RPsQBsFqr"
  },
  {
   "cell_type": "code",
   "execution_count": 86,
   "metadata": {
    "colab": {
     "base_uri": "https://localhost:8080/"
    },
    "id": "uvjtBHTmsGnE",
    "outputId": "647572ce-2ce2-4fae-c248-32645deac048"
   },
   "outputs": [
    {
     "output_type": "stream",
     "name": "stdout",
     "text": [
      "Best: 0.915903 using {'metric': 'euclidean', 'n_neighbors': 1, 'weights': 'uniform'}\n",
      "0.915903 (0.005011) with: {'metric': 'euclidean', 'n_neighbors': 1, 'weights': 'uniform'}\n",
      "0.915903 (0.005011) with: {'metric': 'euclidean', 'n_neighbors': 1, 'weights': 'distance'}\n",
      "0.878770 (0.015925) with: {'metric': 'euclidean', 'n_neighbors': 3, 'weights': 'uniform'}\n",
      "0.897337 (0.013849) with: {'metric': 'euclidean', 'n_neighbors': 3, 'weights': 'distance'}\n",
      "0.855399 (0.019056) with: {'metric': 'euclidean', 'n_neighbors': 5, 'weights': 'uniform'}\n",
      "0.879644 (0.015492) with: {'metric': 'euclidean', 'n_neighbors': 5, 'weights': 'distance'}\n",
      "0.826129 (0.018939) with: {'metric': 'euclidean', 'n_neighbors': 7, 'weights': 'uniform'}\n",
      "0.864355 (0.017350) with: {'metric': 'euclidean', 'n_neighbors': 7, 'weights': 'distance'}\n",
      "0.801885 (0.025516) with: {'metric': 'euclidean', 'n_neighbors': 9, 'weights': 'uniform'}\n",
      "0.846443 (0.017607) with: {'metric': 'euclidean', 'n_neighbors': 9, 'weights': 'distance'}\n",
      "0.781569 (0.022291) with: {'metric': 'euclidean', 'n_neighbors': 11, 'weights': 'uniform'}\n",
      "0.830935 (0.020054) with: {'metric': 'euclidean', 'n_neighbors': 11, 'weights': 'distance'}\n",
      "0.758633 (0.020820) with: {'metric': 'euclidean', 'n_neighbors': 13, 'weights': 'uniform'}\n",
      "0.815863 (0.019043) with: {'metric': 'euclidean', 'n_neighbors': 13, 'weights': 'distance'}\n",
      "0.737883 (0.021038) with: {'metric': 'euclidean', 'n_neighbors': 15, 'weights': 'uniform'}\n",
      "0.805161 (0.021491) with: {'metric': 'euclidean', 'n_neighbors': 15, 'weights': 'distance'}\n",
      "0.724122 (0.019194) with: {'metric': 'euclidean', 'n_neighbors': 17, 'weights': 'uniform'}\n",
      "0.792494 (0.022445) with: {'metric': 'euclidean', 'n_neighbors': 17, 'weights': 'distance'}\n",
      "0.711018 (0.025990) with: {'metric': 'euclidean', 'n_neighbors': 19, 'weights': 'uniform'}\n",
      "0.785504 (0.023431) with: {'metric': 'euclidean', 'n_neighbors': 19, 'weights': 'distance'}\n",
      "0.697039 (0.026739) with: {'metric': 'euclidean', 'n_neighbors': 21, 'weights': 'uniform'}\n",
      "0.781136 (0.025514) with: {'metric': 'euclidean', 'n_neighbors': 21, 'weights': 'distance'}\n",
      "0.692017 (0.028546) with: {'metric': 'euclidean', 'n_neighbors': 23, 'weights': 'uniform'}\n",
      "0.775455 (0.025237) with: {'metric': 'euclidean', 'n_neighbors': 23, 'weights': 'distance'}\n",
      "0.686775 (0.030144) with: {'metric': 'euclidean', 'n_neighbors': 25, 'weights': 'uniform'}\n",
      "0.771088 (0.025959) with: {'metric': 'euclidean', 'n_neighbors': 25, 'weights': 'distance'}\n",
      "0.685900 (0.029784) with: {'metric': 'euclidean', 'n_neighbors': 27, 'weights': 'uniform'}\n",
      "0.769559 (0.025980) with: {'metric': 'euclidean', 'n_neighbors': 27, 'weights': 'distance'}\n",
      "0.685463 (0.029488) with: {'metric': 'euclidean', 'n_neighbors': 29, 'weights': 'uniform'}\n",
      "0.765845 (0.026340) with: {'metric': 'euclidean', 'n_neighbors': 29, 'weights': 'distance'}\n",
      "0.685244 (0.028957) with: {'metric': 'euclidean', 'n_neighbors': 31, 'weights': 'uniform'}\n",
      "0.761694 (0.023837) with: {'metric': 'euclidean', 'n_neighbors': 31, 'weights': 'distance'}\n",
      "0.904765 (0.006736) with: {'metric': 'manhattan', 'n_neighbors': 1, 'weights': 'uniform'}\n",
      "0.904765 (0.006736) with: {'metric': 'manhattan', 'n_neighbors': 1, 'weights': 'distance'}\n",
      "0.857805 (0.015293) with: {'metric': 'manhattan', 'n_neighbors': 3, 'weights': 'uniform'}\n",
      "0.883581 (0.016260) with: {'metric': 'manhattan', 'n_neighbors': 3, 'weights': 'distance'}\n",
      "0.812155 (0.024798) with: {'metric': 'manhattan', 'n_neighbors': 5, 'weights': 'uniform'}\n",
      "0.849727 (0.024274) with: {'metric': 'manhattan', 'n_neighbors': 5, 'weights': 'distance'}\n",
      "0.761487 (0.042354) with: {'metric': 'manhattan', 'n_neighbors': 7, 'weights': 'uniform'}\n",
      "0.818930 (0.033922) with: {'metric': 'manhattan', 'n_neighbors': 7, 'weights': 'distance'}\n",
      "0.727411 (0.045284) with: {'metric': 'manhattan', 'n_neighbors': 9, 'weights': 'uniform'}\n",
      "0.797088 (0.037034) with: {'metric': 'manhattan', 'n_neighbors': 9, 'weights': 'distance'}\n",
      "0.698794 (0.041993) with: {'metric': 'manhattan', 'n_neighbors': 11, 'weights': 'uniform'}\n",
      "0.779393 (0.034963) with: {'metric': 'manhattan', 'n_neighbors': 11, 'weights': 'distance'}\n",
      "0.676076 (0.041701) with: {'metric': 'manhattan', 'n_neighbors': 13, 'weights': 'uniform'}\n",
      "0.768688 (0.030902) with: {'metric': 'manhattan', 'n_neighbors': 13, 'weights': 'distance'}\n",
      "0.658383 (0.042525) with: {'metric': 'manhattan', 'n_neighbors': 15, 'weights': 'uniform'}\n",
      "0.755144 (0.030907) with: {'metric': 'manhattan', 'n_neighbors': 15, 'weights': 'distance'}\n",
      "0.638723 (0.035549) with: {'metric': 'manhattan', 'n_neighbors': 17, 'weights': 'uniform'}\n",
      "0.744005 (0.031838) with: {'metric': 'manhattan', 'n_neighbors': 17, 'weights': 'distance'}\n",
      "0.614036 (0.028313) with: {'metric': 'manhattan', 'n_neighbors': 19, 'weights': 'uniform'}\n",
      "0.722160 (0.025070) with: {'metric': 'manhattan', 'n_neighbors': 19, 'weights': 'distance'}\n",
      "0.587166 (0.025193) with: {'metric': 'manhattan', 'n_neighbors': 21, 'weights': 'uniform'}\n",
      "0.702282 (0.025334) with: {'metric': 'manhattan', 'n_neighbors': 21, 'weights': 'distance'}\n",
      "0.563353 (0.020199) with: {'metric': 'manhattan', 'n_neighbors': 23, 'weights': 'uniform'}\n",
      "0.681965 (0.025404) with: {'metric': 'manhattan', 'n_neighbors': 23, 'weights': 'distance'}\n",
      "0.536484 (0.016605) with: {'metric': 'manhattan', 'n_neighbors': 25, 'weights': 'uniform'}\n",
      "0.664927 (0.023164) with: {'metric': 'manhattan', 'n_neighbors': 25, 'weights': 'distance'}\n",
      "0.514641 (0.017349) with: {'metric': 'manhattan', 'n_neighbors': 27, 'weights': 'uniform'}\n",
      "0.648324 (0.024107) with: {'metric': 'manhattan', 'n_neighbors': 27, 'weights': 'distance'}\n",
      "0.491485 (0.016748) with: {'metric': 'manhattan', 'n_neighbors': 29, 'weights': 'uniform'}\n",
      "0.632816 (0.027289) with: {'metric': 'manhattan', 'n_neighbors': 29, 'weights': 'distance'}\n",
      "0.470511 (0.016658) with: {'metric': 'manhattan', 'n_neighbors': 31, 'weights': 'uniform'}\n",
      "0.613592 (0.024972) with: {'metric': 'manhattan', 'n_neighbors': 31, 'weights': 'distance'}\n",
      "0.915903 (0.005011) with: {'metric': 'minkowski', 'n_neighbors': 1, 'weights': 'uniform'}\n",
      "0.915903 (0.005011) with: {'metric': 'minkowski', 'n_neighbors': 1, 'weights': 'distance'}\n",
      "0.878770 (0.015925) with: {'metric': 'minkowski', 'n_neighbors': 3, 'weights': 'uniform'}\n",
      "0.897337 (0.013849) with: {'metric': 'minkowski', 'n_neighbors': 3, 'weights': 'distance'}\n",
      "0.855399 (0.019056) with: {'metric': 'minkowski', 'n_neighbors': 5, 'weights': 'uniform'}\n",
      "0.879644 (0.015492) with: {'metric': 'minkowski', 'n_neighbors': 5, 'weights': 'distance'}\n",
      "0.826129 (0.018939) with: {'metric': 'minkowski', 'n_neighbors': 7, 'weights': 'uniform'}\n",
      "0.864355 (0.017350) with: {'metric': 'minkowski', 'n_neighbors': 7, 'weights': 'distance'}\n",
      "0.801885 (0.025516) with: {'metric': 'minkowski', 'n_neighbors': 9, 'weights': 'uniform'}\n",
      "0.846443 (0.017607) with: {'metric': 'minkowski', 'n_neighbors': 9, 'weights': 'distance'}\n",
      "0.781569 (0.022291) with: {'metric': 'minkowski', 'n_neighbors': 11, 'weights': 'uniform'}\n",
      "0.830935 (0.020054) with: {'metric': 'minkowski', 'n_neighbors': 11, 'weights': 'distance'}\n",
      "0.758633 (0.020820) with: {'metric': 'minkowski', 'n_neighbors': 13, 'weights': 'uniform'}\n",
      "0.815863 (0.019043) with: {'metric': 'minkowski', 'n_neighbors': 13, 'weights': 'distance'}\n",
      "0.737883 (0.021038) with: {'metric': 'minkowski', 'n_neighbors': 15, 'weights': 'uniform'}\n",
      "0.805161 (0.021491) with: {'metric': 'minkowski', 'n_neighbors': 15, 'weights': 'distance'}\n",
      "0.724122 (0.019194) with: {'metric': 'minkowski', 'n_neighbors': 17, 'weights': 'uniform'}\n",
      "0.792494 (0.022445) with: {'metric': 'minkowski', 'n_neighbors': 17, 'weights': 'distance'}\n",
      "0.711018 (0.025990) with: {'metric': 'minkowski', 'n_neighbors': 19, 'weights': 'uniform'}\n",
      "0.785504 (0.023431) with: {'metric': 'minkowski', 'n_neighbors': 19, 'weights': 'distance'}\n",
      "0.697039 (0.026739) with: {'metric': 'minkowski', 'n_neighbors': 21, 'weights': 'uniform'}\n",
      "0.781136 (0.025514) with: {'metric': 'minkowski', 'n_neighbors': 21, 'weights': 'distance'}\n",
      "0.692017 (0.028546) with: {'metric': 'minkowski', 'n_neighbors': 23, 'weights': 'uniform'}\n",
      "0.775455 (0.025237) with: {'metric': 'minkowski', 'n_neighbors': 23, 'weights': 'distance'}\n",
      "0.686775 (0.030144) with: {'metric': 'minkowski', 'n_neighbors': 25, 'weights': 'uniform'}\n",
      "0.771088 (0.025959) with: {'metric': 'minkowski', 'n_neighbors': 25, 'weights': 'distance'}\n",
      "0.685900 (0.029784) with: {'metric': 'minkowski', 'n_neighbors': 27, 'weights': 'uniform'}\n",
      "0.769559 (0.025980) with: {'metric': 'minkowski', 'n_neighbors': 27, 'weights': 'distance'}\n",
      "0.685463 (0.029488) with: {'metric': 'minkowski', 'n_neighbors': 29, 'weights': 'uniform'}\n",
      "0.765845 (0.026340) with: {'metric': 'minkowski', 'n_neighbors': 29, 'weights': 'distance'}\n",
      "0.685244 (0.028957) with: {'metric': 'minkowski', 'n_neighbors': 31, 'weights': 'uniform'}\n",
      "0.761694 (0.023837) with: {'metric': 'minkowski', 'n_neighbors': 31, 'weights': 'distance'}\n"
     ]
    },
    {
     "output_type": "execute_result",
     "data": {
      "text/plain": [
       "[('LRG', LogisticRegression(multi_class='multinomial', solver='newton-cg')),\n",
       " ('RGC', RidgeClassifier(solver='sparse_cg')),\n",
       " ('KNN', KNeighborsClassifier(metric='euclidean', n_neighbors=1))]"
      ]
     },
     "metadata": {},
     "execution_count": 86
    }
   ],
   "source": [
    "# define models and parameters\n",
    "model = KNeighborsClassifier()\n",
    "n_neighbors = range(1, 32, 2)\n",
    "weights = ['uniform', 'distance']\n",
    "metric = ['euclidean', 'manhattan', 'minkowski']\n",
    "# define grid search\n",
    "grid = dict(n_neighbors=n_neighbors,weights=weights,metric=metric)\n",
    "cv = StratifiedKFold(n_splits=5)\n",
    "grid_search = GridSearchCV(estimator=model, param_grid=grid, n_jobs=-1, cv=cv, scoring='accuracy',error_score=0)\n",
    "grid_result = grid_search.fit(_X_sm, _y_sm.reshape(-1))\n",
    "# summarize results\n",
    "print(\"Best: %f using %s\" % (grid_result.best_score_, grid_result.best_params_))\n",
    "means = grid_result.cv_results_['mean_test_score']\n",
    "stds = grid_result.cv_results_['std_test_score']\n",
    "params = grid_result.cv_results_['params']\n",
    "for mean, stdev, param in zip(means, stds, params):\n",
    "    print(\"%f (%f) with: %r\" % (mean, stdev, param))\n",
    "\n",
    "_sm_models.append(('KNN', KNeighborsClassifier(**grid_result.best_params_)))\n",
    "_sm_models"
   ],
   "id": "uvjtBHTmsGnE"
  },
  {
   "cell_type": "markdown",
   "metadata": {
    "id": "DVTuHogSsRMP"
   },
   "source": [
    "## SVM"
   ],
   "id": "DVTuHogSsRMP"
  },
  {
   "cell_type": "code",
   "execution_count": 87,
   "metadata": {
    "colab": {
     "base_uri": "https://localhost:8080/"
    },
    "id": "VzxR886bsRsW",
    "outputId": "5ea7062d-6fd2-4552-88b5-d4d9a41f44af"
   },
   "outputs": [
    {
     "output_type": "stream",
     "name": "stdout",
     "text": [
      "Best: 0.935565 using {'C': 5.0, 'gamma': 'scale', 'kernel': 'rbf'}\n",
      "0.622101 (0.023383) with: {'C': 1.0, 'gamma': 'scale', 'kernel': 'poly'}\n",
      "0.927263 (0.007115) with: {'C': 1.0, 'gamma': 'scale', 'kernel': 'rbf'}\n",
      "0.916125 (0.008845) with: {'C': 1.0, 'gamma': 'scale', 'kernel': 'sigmoid'}\n",
      "0.772162 (0.026104) with: {'C': 5.0, 'gamma': 'scale', 'kernel': 'poly'}\n",
      "0.935565 (0.010362) with: {'C': 5.0, 'gamma': 'scale', 'kernel': 'rbf'}\n",
      "0.908260 (0.009465) with: {'C': 5.0, 'gamma': 'scale', 'kernel': 'sigmoid'}\n",
      "0.833327 (0.021501) with: {'C': 10.0, 'gamma': 'scale', 'kernel': 'poly'}\n",
      "0.935565 (0.009941) with: {'C': 10.0, 'gamma': 'scale', 'kernel': 'rbf'}\n",
      "0.899524 (0.009893) with: {'C': 10.0, 'gamma': 'scale', 'kernel': 'sigmoid'}\n"
     ]
    },
    {
     "output_type": "execute_result",
     "data": {
      "text/plain": [
       "[('LRG', LogisticRegression(multi_class='multinomial', solver='newton-cg')),\n",
       " ('RGC', RidgeClassifier(solver='sparse_cg')),\n",
       " ('KNN', KNeighborsClassifier(metric='euclidean', n_neighbors=1)),\n",
       " ('SVM', SVC(C=5.0))]"
      ]
     },
     "metadata": {},
     "execution_count": 87
    }
   ],
   "source": [
    "# define model and parameters\n",
    "model = SVC()\n",
    "kernel = ['poly', 'rbf', 'sigmoid']\n",
    "C = [1.0, 5.0, 10.0]\n",
    "gamma = ['scale']\n",
    "# define grid search\n",
    "grid = dict(kernel=kernel,C=C,gamma=gamma)\n",
    "cv = StratifiedKFold(n_splits=5)\n",
    "grid_search = GridSearchCV(estimator=model, param_grid=grid, n_jobs=-1, cv=cv, scoring='accuracy',error_score=0)\n",
    "grid_result = grid_search.fit(_X_sm, _y_sm.reshape(-1))\n",
    "# summarize results\n",
    "print(\"Best: %f using %s\" % (grid_result.best_score_, grid_result.best_params_))\n",
    "means = grid_result.cv_results_['mean_test_score']\n",
    "stds = grid_result.cv_results_['std_test_score']\n",
    "params = grid_result.cv_results_['params']\n",
    "for mean, stdev, param in zip(means, stds, params):\n",
    "    print(\"%f (%f) with: %r\" % (mean, stdev, param))\n",
    "\n",
    "_sm_models.append(('SVM', SVC(**grid_result.best_params_)))\n",
    "_sm_models"
   ],
   "id": "VzxR886bsRsW"
  },
  {
   "cell_type": "markdown",
   "metadata": {
    "id": "wAzlj7wRsadS"
   },
   "source": [
    "## BGC"
   ],
   "id": "wAzlj7wRsadS"
  },
  {
   "cell_type": "code",
   "execution_count": 88,
   "metadata": {
    "colab": {
     "base_uri": "https://localhost:8080/"
    },
    "id": "KmUNJogasbJe",
    "outputId": "97c2917e-e9fa-49ca-93e9-bd2801760aad"
   },
   "outputs": [
    {
     "output_type": "stream",
     "name": "stdout",
     "text": [
      "Best: 0.903675 using {'n_estimators': 50}\n",
      "0.892973 (0.016082) with: {'n_estimators': 10}\n",
      "0.901273 (0.017395) with: {'n_estimators': 20}\n",
      "0.903675 (0.014510) with: {'n_estimators': 50}\n"
     ]
    },
    {
     "output_type": "execute_result",
     "data": {
      "text/plain": [
       "[('LRG', LogisticRegression(multi_class='multinomial', solver='newton-cg')),\n",
       " ('RGC', RidgeClassifier(solver='sparse_cg')),\n",
       " ('KNN', KNeighborsClassifier(metric='euclidean', n_neighbors=1)),\n",
       " ('SVM', SVC(C=5.0)),\n",
       " ('BGC', BaggingClassifier(n_estimators=50))]"
      ]
     },
     "metadata": {},
     "execution_count": 88
    }
   ],
   "source": [
    "# define models and parameters\n",
    "model = BaggingClassifier()\n",
    "n_estimators = [10, 20, 50]\n",
    "# define grid search\n",
    "grid = dict(n_estimators=n_estimators)\n",
    "cv = StratifiedKFold(n_splits=5)\n",
    "grid_search = GridSearchCV(estimator=model, param_grid=grid, n_jobs=-1, cv=cv, scoring='accuracy',error_score=0)\n",
    "grid_result = grid_search.fit(_X_sm, _y_sm.reshape(-1))\n",
    "# summarize results\n",
    "print(\"Best: %f using %s\" % (grid_result.best_score_, grid_result.best_params_))\n",
    "means = grid_result.cv_results_['mean_test_score']\n",
    "stds = grid_result.cv_results_['std_test_score']\n",
    "params = grid_result.cv_results_['params']\n",
    "for mean, stdev, param in zip(means, stds, params):\n",
    "    print(\"%f (%f) with: %r\" % (mean, stdev, param))\n",
    "\n",
    "_sm_models.append(('BGC', BaggingClassifier(**grid_result.best_params_)))\n",
    "_sm_models"
   ],
   "id": "KmUNJogasbJe"
  },
  {
   "cell_type": "markdown",
   "metadata": {
    "id": "aoNDeA19tKYm"
   },
   "source": [
    "### RandomForestClassifier"
   ],
   "id": "aoNDeA19tKYm"
  },
  {
   "cell_type": "code",
   "execution_count": 89,
   "metadata": {
    "colab": {
     "base_uri": "https://localhost:8080/"
    },
    "id": "v9pwDuYCtLvW",
    "outputId": "8d3419da-6a20-4812-b1cf-8b69568cf617"
   },
   "outputs": [
    {
     "output_type": "stream",
     "name": "stdout",
     "text": [
      "Best: 0.929232 using {'max_features': 'sqrt', 'n_estimators': 100}\n",
      "0.909791 (0.015140) with: {'max_features': 'sqrt', 'n_estimators': 10}\n",
      "0.929232 (0.015035) with: {'max_features': 'sqrt', 'n_estimators': 100}\n",
      "0.894280 (0.013050) with: {'max_features': 'log2', 'n_estimators': 10}\n",
      "0.928577 (0.015808) with: {'max_features': 'log2', 'n_estimators': 100}\n"
     ]
    },
    {
     "output_type": "execute_result",
     "data": {
      "text/plain": [
       "[('LRG', LogisticRegression(multi_class='multinomial', solver='newton-cg')),\n",
       " ('RGC', RidgeClassifier(solver='sparse_cg')),\n",
       " ('KNN', KNeighborsClassifier(metric='euclidean', n_neighbors=1)),\n",
       " ('SVM', SVC(C=5.0)),\n",
       " ('BGC', BaggingClassifier(n_estimators=50)),\n",
       " ('RFC', RandomForestClassifier())]"
      ]
     },
     "metadata": {},
     "execution_count": 89
    }
   ],
   "source": [
    "# define models and parameters\n",
    "model = RandomForestClassifier()\n",
    "n_estimators = [10, 100]\n",
    "max_features = ['sqrt', 'log2']\n",
    "# define grid search\n",
    "grid = dict(n_estimators=n_estimators,max_features=max_features)\n",
    "cv = StratifiedKFold(n_splits=5)\n",
    "grid_search = GridSearchCV(estimator=model, param_grid=grid, n_jobs=-1, cv=cv, scoring='accuracy',error_score=0)\n",
    "grid_result = grid_search.fit(_X_sm, _y_sm.reshape(-1))\n",
    "# summarize results\n",
    "print(\"Best: %f using %s\" % (grid_result.best_score_, grid_result.best_params_))\n",
    "means = grid_result.cv_results_['mean_test_score']\n",
    "stds = grid_result.cv_results_['std_test_score']\n",
    "params = grid_result.cv_results_['params']\n",
    "for mean, stdev, param in zip(means, stds, params):\n",
    "    print(\"%f (%f) with: %r\" % (mean, stdev, param))\n",
    "\n",
    "_sm_models.append(('RFC', RandomForestClassifier(**grid_result.best_params_)))\n",
    "_sm_models"
   ],
   "id": "v9pwDuYCtLvW"
  },
  {
   "cell_type": "markdown",
   "metadata": {
    "id": "ivtp4izwtXy2"
   },
   "source": [
    "### GradientBoostingClassifier"
   ],
   "id": "ivtp4izwtXy2"
  },
  {
   "cell_type": "code",
   "execution_count": 90,
   "metadata": {
    "colab": {
     "base_uri": "https://localhost:8080/"
    },
    "id": "EbyszskDtYRi",
    "outputId": "c0ed8def-1593-45f9-86cb-bb4e147a2c70"
   },
   "outputs": [
    {
     "output_type": "stream",
     "name": "stdout",
     "text": [
      "Best: 0.893408 using {'learning_rate': 0.001, 'max_depth': 9, 'n_estimators': 10, 'subsample': 0.5}\n",
      "0.801448 (0.023746) with: {'learning_rate': 0.001, 'max_depth': 3, 'n_estimators': 10, 'subsample': 0.5}\n",
      "0.788342 (0.021137) with: {'learning_rate': 0.001, 'max_depth': 3, 'n_estimators': 10, 'subsample': 0.7}\n",
      "0.745095 (0.030581) with: {'learning_rate': 0.001, 'max_depth': 3, 'n_estimators': 10, 'subsample': 1.0}\n",
      "0.879427 (0.021494) with: {'learning_rate': 0.001, 'max_depth': 7, 'n_estimators': 10, 'subsample': 0.5}\n",
      "0.876370 (0.021879) with: {'learning_rate': 0.001, 'max_depth': 7, 'n_estimators': 10, 'subsample': 0.7}\n",
      "0.822198 (0.026492) with: {'learning_rate': 0.001, 'max_depth': 7, 'n_estimators': 10, 'subsample': 1.0}\n",
      "0.893408 (0.020540) with: {'learning_rate': 0.001, 'max_depth': 9, 'n_estimators': 10, 'subsample': 0.5}\n",
      "0.886418 (0.019774) with: {'learning_rate': 0.001, 'max_depth': 9, 'n_estimators': 10, 'subsample': 0.7}\n",
      "0.829841 (0.024658) with: {'learning_rate': 0.001, 'max_depth': 9, 'n_estimators': 10, 'subsample': 1.0}\n",
      "0.814333 (0.015858) with: {'learning_rate': 0.01, 'max_depth': 3, 'n_estimators': 10, 'subsample': 0.5}\n",
      "0.803408 (0.016258) with: {'learning_rate': 0.01, 'max_depth': 3, 'n_estimators': 10, 'subsample': 0.7}\n",
      "0.768461 (0.007238) with: {'learning_rate': 0.01, 'max_depth': 3, 'n_estimators': 10, 'subsample': 1.0}\n",
      "0.889039 (0.018870) with: {'learning_rate': 0.01, 'max_depth': 7, 'n_estimators': 10, 'subsample': 0.5}\n",
      "0.877896 (0.016140) with: {'learning_rate': 0.01, 'max_depth': 7, 'n_estimators': 10, 'subsample': 0.7}\n",
      "0.845132 (0.019192) with: {'learning_rate': 0.01, 'max_depth': 7, 'n_estimators': 10, 'subsample': 1.0}\n",
      "0.889694 (0.014655) with: {'learning_rate': 0.01, 'max_depth': 9, 'n_estimators': 10, 'subsample': 0.5}\n",
      "0.887944 (0.013653) with: {'learning_rate': 0.01, 'max_depth': 9, 'n_estimators': 10, 'subsample': 0.7}\n",
      "0.844911 (0.020766) with: {'learning_rate': 0.01, 'max_depth': 9, 'n_estimators': 10, 'subsample': 1.0}\n"
     ]
    },
    {
     "output_type": "execute_result",
     "data": {
      "text/plain": [
       "[('LRG', LogisticRegression(multi_class='multinomial', solver='newton-cg')),\n",
       " ('RGC', RidgeClassifier(solver='sparse_cg')),\n",
       " ('KNN', KNeighborsClassifier(metric='euclidean', n_neighbors=1)),\n",
       " ('SVM', SVC(C=5.0)),\n",
       " ('BGC', BaggingClassifier(n_estimators=50)),\n",
       " ('RFC', RandomForestClassifier()),\n",
       " ('GBC',\n",
       "  GradientBoostingClassifier(learning_rate=0.001, max_depth=9, n_estimators=10,\n",
       "                             subsample=0.5))]"
      ]
     },
     "metadata": {},
     "execution_count": 90
    }
   ],
   "source": [
    "# define models and parameters\n",
    "model = GradientBoostingClassifier()\n",
    "n_estimators = [10]\n",
    "learning_rate = [0.001, 0.01]\n",
    "subsample = [0.5, 0.7, 1.0]\n",
    "max_depth = [3, 7, 9]\n",
    "# define grid search\n",
    "grid = dict(learning_rate=learning_rate, n_estimators=n_estimators, subsample=subsample, max_depth=max_depth)\n",
    "cv = StratifiedKFold(n_splits=5)\n",
    "grid_search = GridSearchCV(estimator=model, param_grid=grid, n_jobs=-1, cv=cv, scoring='accuracy',error_score=0)\n",
    "grid_result = grid_search.fit(_X_sm, _y_sm.reshape(-1))\n",
    "# summarize results\n",
    "print(\"Best: %f using %s\" % (grid_result.best_score_, grid_result.best_params_))\n",
    "means = grid_result.cv_results_['mean_test_score']\n",
    "stds = grid_result.cv_results_['std_test_score']\n",
    "params = grid_result.cv_results_['params']\n",
    "for mean, stdev, param in zip(means, stds, params):\n",
    "    print(\"%f (%f) with: %r\" % (mean, stdev, param))\n",
    "\n",
    "_sm_models.append(('GBC', GradientBoostingClassifier(**grid_result.best_params_)))\n",
    "_sm_models"
   ],
   "id": "EbyszskDtYRi"
  },
  {
   "cell_type": "markdown",
   "metadata": {
    "id": "vyVPBcixtkAb"
   },
   "source": [
    "### LinearDiscriminantAnalysis"
   ],
   "id": "vyVPBcixtkAb"
  },
  {
   "cell_type": "code",
   "execution_count": 91,
   "metadata": {
    "colab": {
     "base_uri": "https://localhost:8080/"
    },
    "id": "OPlr-Abotkc4",
    "outputId": "02c2d5d5-5604-4c0e-9fc8-41cb81461d5f"
   },
   "outputs": [
    {
     "output_type": "stream",
     "name": "stdout",
     "text": [
      "Mean Accuracy: 0.890\n",
      "Config: {'solver': 'svd'}\n"
     ]
    },
    {
     "output_type": "execute_result",
     "data": {
      "text/plain": [
       "[('LRG', LogisticRegression(multi_class='multinomial', solver='newton-cg')),\n",
       " ('RGC', RidgeClassifier(solver='sparse_cg')),\n",
       " ('KNN', KNeighborsClassifier(metric='euclidean', n_neighbors=1)),\n",
       " ('SVM', SVC(C=5.0)),\n",
       " ('BGC', BaggingClassifier(n_estimators=50)),\n",
       " ('RFC', RandomForestClassifier()),\n",
       " ('GBC',\n",
       "  GradientBoostingClassifier(learning_rate=0.001, max_depth=9, n_estimators=10,\n",
       "                             subsample=0.5)),\n",
       " ('LDA', LinearDiscriminantAnalysis())]"
      ]
     },
     "metadata": {},
     "execution_count": 91
    }
   ],
   "source": [
    "# define model\n",
    "model = LinearDiscriminantAnalysis()\n",
    "# define model evaluation method\n",
    "cv = StratifiedKFold(n_splits=5)\n",
    "# define grid\n",
    "grid = dict()\n",
    "grid['solver'] = ['svd', 'lsqr']\n",
    "# grid['shrinkage'] = arange(0, 1, 0.01)\n",
    "# define search\n",
    "search = GridSearchCV(model, grid, scoring='accuracy', cv=cv, n_jobs=-1, error_score=0)\n",
    "# perform the search\n",
    "results = search.fit(_X_sm, _y_sm.reshape(-1))\n",
    "# summarize\n",
    "print('Mean Accuracy: %.3f' % results.best_score_)\n",
    "print('Config: %s' % results.best_params_)\n",
    "\n",
    "_sm_models.append(('LDA', LinearDiscriminantAnalysis(**results.best_params_)))\n",
    "_sm_models"
   ],
   "id": "OPlr-Abotkc4"
  },
  {
   "cell_type": "code",
   "source": [],
   "metadata": {
    "id": "BvvnxFkcoePf"
   },
   "id": "BvvnxFkcoePf",
   "execution_count": 91,
   "outputs": []
  },
  {
   "cell_type": "markdown",
   "metadata": {
    "id": "Jv-JB6IxtolE"
   },
   "source": [
    "### DecisionTreeClassifier"
   ],
   "id": "Jv-JB6IxtolE"
  },
  {
   "cell_type": "code",
   "execution_count": 92,
   "metadata": {
    "colab": {
     "base_uri": "https://localhost:8080/"
    },
    "id": "J2gSBUBFtpFa",
    "outputId": "a859e892-80dc-4da5-db60-17a6bda5c7f9"
   },
   "outputs": [
    {
     "output_type": "stream",
     "name": "stdout",
     "text": [
      "Mean Accuracy: 0.853\n",
      "Config: {'min_samples_split': 2}\n"
     ]
    },
    {
     "output_type": "execute_result",
     "data": {
      "text/plain": [
       "[('LRG', LogisticRegression(multi_class='multinomial', solver='newton-cg')),\n",
       " ('RGC', RidgeClassifier(solver='sparse_cg')),\n",
       " ('KNN', KNeighborsClassifier(metric='euclidean', n_neighbors=1)),\n",
       " ('SVM', SVC(C=5.0)),\n",
       " ('BGC', BaggingClassifier(n_estimators=50)),\n",
       " ('RFC', RandomForestClassifier()),\n",
       " ('GBC',\n",
       "  GradientBoostingClassifier(learning_rate=0.001, max_depth=9, n_estimators=10,\n",
       "                             subsample=0.5)),\n",
       " ('LDA', LinearDiscriminantAnalysis()),\n",
       " ('DTC', DecisionTreeClassifier())]"
      ]
     },
     "metadata": {},
     "execution_count": 92
    }
   ],
   "source": [
    "# define model\n",
    "model = DecisionTreeClassifier()\n",
    "# define model evaluation method\n",
    "cv = StratifiedKFold(n_splits=5)\n",
    "grid = dict()\n",
    "# define grid\n",
    "grid['min_samples_split'] = range(2, 5)\n",
    "# define search\n",
    "search = GridSearchCV(model, grid, scoring='accuracy', cv=cv, n_jobs=-1)\n",
    "# perform the search\n",
    "results = search.fit(_X_sm, _y_sm.reshape(-1))\n",
    "# summarize\n",
    "print('Mean Accuracy: %.3f' % results.best_score_)\n",
    "print('Config: %s' % results.best_params_)\n",
    "\n",
    "_sm_models.append(('DTC', DecisionTreeClassifier(**results.best_params_)))\n",
    "_sm_models"
   ],
   "id": "J2gSBUBFtpFa"
  },
  {
   "cell_type": "code",
   "execution_count": 92,
   "metadata": {
    "id": "M7JMq0kE5PPh"
   },
   "outputs": [],
   "source": [],
   "id": "M7JMq0kE5PPh"
  },
  {
   "cell_type": "markdown",
   "metadata": {
    "id": "JAUHAYM15RQ9"
   },
   "source": [
    "### XGBoostClassifier"
   ],
   "id": "JAUHAYM15RQ9"
  },
  {
   "cell_type": "code",
   "execution_count": 93,
   "metadata": {
    "colab": {
     "base_uri": "https://localhost:8080/"
    },
    "id": "OkY_F_dU5OrK",
    "outputId": "eda13649-9643-4ef0-bc39-7b6515193982"
   },
   "outputs": [
    {
     "output_type": "stream",
     "name": "stdout",
     "text": [
      "Fitting 5 folds for each of 36 candidates, totalling 180 fits\n"
     ]
    },
    {
     "output_type": "stream",
     "name": "stderr",
     "text": [
      "/usr/local/lib/python3.10/dist-packages/joblib/externals/loky/process_executor.py:752: UserWarning: A worker stopped while some jobs were given to the executor. This can be caused by a too short worker timeout or by a memory leak.\n",
      "  warnings.warn(\n"
     ]
    },
    {
     "output_type": "stream",
     "name": "stdout",
     "text": [
      "Best: 0.882706 using {'learning_rate': 0.1, 'max_depth': 6, 'n_estimators': 9}\n",
      "0.618180 (0.014357) with: {'learning_rate': 0.1, 'max_depth': 1, 'n_estimators': 1}\n",
      "0.643078 (0.010049) with: {'learning_rate': 0.1, 'max_depth': 1, 'n_estimators': 2}\n",
      "0.657276 (0.011695) with: {'learning_rate': 0.1, 'max_depth': 1, 'n_estimators': 3}\n",
      "0.656188 (0.019436) with: {'learning_rate': 0.1, 'max_depth': 1, 'n_estimators': 4}\n",
      "0.676717 (0.017773) with: {'learning_rate': 0.1, 'max_depth': 1, 'n_estimators': 5}\n",
      "0.685016 (0.013914) with: {'learning_rate': 0.1, 'max_depth': 1, 'n_estimators': 6}\n",
      "0.697469 (0.021147) with: {'learning_rate': 0.1, 'max_depth': 1, 'n_estimators': 7}\n",
      "0.704896 (0.015837) with: {'learning_rate': 0.1, 'max_depth': 1, 'n_estimators': 8}\n",
      "0.708607 (0.014167) with: {'learning_rate': 0.1, 'max_depth': 1, 'n_estimators': 9}\n",
      "0.826786 (0.019369) with: {'learning_rate': 0.1, 'max_depth': 6, 'n_estimators': 1}\n",
      "0.847097 (0.016360) with: {'learning_rate': 0.1, 'max_depth': 6, 'n_estimators': 2}\n",
      "0.857365 (0.021344) with: {'learning_rate': 0.1, 'max_depth': 6, 'n_estimators': 3}\n",
      "0.858895 (0.020424) with: {'learning_rate': 0.1, 'max_depth': 6, 'n_estimators': 4}\n",
      "0.871346 (0.022329) with: {'learning_rate': 0.1, 'max_depth': 6, 'n_estimators': 5}\n",
      "0.874624 (0.022517) with: {'learning_rate': 0.1, 'max_depth': 6, 'n_estimators': 6}\n",
      "0.878118 (0.021137) with: {'learning_rate': 0.1, 'max_depth': 6, 'n_estimators': 7}\n",
      "0.879866 (0.023468) with: {'learning_rate': 0.1, 'max_depth': 6, 'n_estimators': 8}\n",
      "0.882706 (0.023848) with: {'learning_rate': 0.1, 'max_depth': 6, 'n_estimators': 9}\n",
      "0.618180 (0.014357) with: {'learning_rate': 0.01, 'max_depth': 1, 'n_estimators': 1}\n",
      "0.625170 (0.013757) with: {'learning_rate': 0.01, 'max_depth': 1, 'n_estimators': 2}\n",
      "0.633030 (0.007461) with: {'learning_rate': 0.01, 'max_depth': 1, 'n_estimators': 3}\n",
      "0.633031 (0.008560) with: {'learning_rate': 0.01, 'max_depth': 1, 'n_estimators': 4}\n",
      "0.634342 (0.011067) with: {'learning_rate': 0.01, 'max_depth': 1, 'n_estimators': 5}\n",
      "0.636964 (0.012157) with: {'learning_rate': 0.01, 'max_depth': 1, 'n_estimators': 6}\n",
      "0.637182 (0.012306) with: {'learning_rate': 0.01, 'max_depth': 1, 'n_estimators': 7}\n",
      "0.640023 (0.015069) with: {'learning_rate': 0.01, 'max_depth': 1, 'n_estimators': 8}\n",
      "0.639367 (0.013982) with: {'learning_rate': 0.01, 'max_depth': 1, 'n_estimators': 9}\n",
      "0.826786 (0.019369) with: {'learning_rate': 0.01, 'max_depth': 6, 'n_estimators': 1}\n",
      "0.832466 (0.019921) with: {'learning_rate': 0.01, 'max_depth': 6, 'n_estimators': 2}\n",
      "0.833777 (0.021317) with: {'learning_rate': 0.01, 'max_depth': 6, 'n_estimators': 3}\n",
      "0.836834 (0.021704) with: {'learning_rate': 0.01, 'max_depth': 6, 'n_estimators': 4}\n",
      "0.837926 (0.022514) with: {'learning_rate': 0.01, 'max_depth': 6, 'n_estimators': 5}\n",
      "0.838799 (0.022527) with: {'learning_rate': 0.01, 'max_depth': 6, 'n_estimators': 6}\n",
      "0.839454 (0.022290) with: {'learning_rate': 0.01, 'max_depth': 6, 'n_estimators': 7}\n",
      "0.841202 (0.020790) with: {'learning_rate': 0.01, 'max_depth': 6, 'n_estimators': 8}\n",
      "0.842075 (0.020457) with: {'learning_rate': 0.01, 'max_depth': 6, 'n_estimators': 9}\n"
     ]
    },
    {
     "output_type": "execute_result",
     "data": {
      "text/plain": [
       "[('LRG', LogisticRegression(multi_class='multinomial', solver='newton-cg')),\n",
       " ('RGC', RidgeClassifier(solver='sparse_cg')),\n",
       " ('KNN', KNeighborsClassifier(metric='euclidean', n_neighbors=1)),\n",
       " ('SVM', SVC(C=5.0)),\n",
       " ('BGC', BaggingClassifier(n_estimators=50)),\n",
       " ('RFC', RandomForestClassifier()),\n",
       " ('GBC',\n",
       "  GradientBoostingClassifier(learning_rate=0.001, max_depth=9, n_estimators=10,\n",
       "                             subsample=0.5)),\n",
       " ('LDA', LinearDiscriminantAnalysis()),\n",
       " ('DTC', DecisionTreeClassifier()),\n",
       " ('XGB',\n",
       "  XGBClassifier(base_score=None, booster=None, callbacks=None,\n",
       "                colsample_bylevel=None, colsample_bynode=None,\n",
       "                colsample_bytree=None, device=None, early_stopping_rounds=None,\n",
       "                enable_categorical=False, eval_metric=None, feature_types=None,\n",
       "                gamma=None, grow_policy=None, importance_type=None,\n",
       "                interaction_constraints=None, learning_rate=None, max_bin=None,\n",
       "                max_cat_threshold=None, max_cat_to_onehot=None,\n",
       "                max_delta_step=None, max_depth=None, max_leaves=None,\n",
       "                min_child_weight=None, min_samples_split=2, missing=nan,\n",
       "                monotone_constraints=None, multi_strategy=None, n_estimators=None,\n",
       "                n_jobs=None, num_parallel_tree=None, ...)),\n",
       " ('XGB', GradientBoostingClassifier(max_depth=6, n_estimators=9))]"
      ]
     },
     "metadata": {},
     "execution_count": 93
    }
   ],
   "source": [
    "estimator = XGBClassifier(objective= 'multi:softmax', num_class=7)\n",
    "\n",
    "parameters = {\n",
    "    'max_depth': range (1, 10, 5),\n",
    "    'n_estimators': range(1, 10),\n",
    "    'learning_rate': [0.1, 0.01]\n",
    "}\n",
    "cv = StratifiedKFold(n_splits=5)\n",
    "search = GridSearchCV(estimator=estimator,\n",
    "                      param_grid=parameters,\n",
    "                      scoring = 'accuracy', n_jobs=-1, cv = cv,\n",
    "                      verbose=True)\n",
    "# perform the search\n",
    "grid_result = search.fit(_X_sm, _y_sm.reshape(-1)-1)\n",
    "_sm_models.append(('XGB', XGBClassifier(**results.best_params_)))\n",
    "_sm_models\n",
    "\n",
    "# summarize results\n",
    "print(\"Best: %f using %s\" % (grid_result.best_score_, grid_result.best_params_))\n",
    "means = grid_result.cv_results_['mean_test_score']\n",
    "stds = grid_result.cv_results_['std_test_score']\n",
    "params = grid_result.cv_results_['params']\n",
    "for mean, stdev, param in zip(means, stds, params):\n",
    "    print(\"%f (%f) with: %r\" % (mean, stdev, param))\n",
    "\n",
    "_sm_models.append(('XGB', GradientBoostingClassifier(**grid_result.best_params_)))\n",
    "_sm_models"
   ],
   "id": "OkY_F_dU5OrK"
  },
  {
   "cell_type": "code",
   "execution_count": 93,
   "metadata": {
    "id": "u_z_qYM35OXp"
   },
   "outputs": [],
   "source": [],
   "id": "u_z_qYM35OXp"
  },
  {
   "cell_type": "markdown",
   "metadata": {
    "id": "60ictYSDuOCF"
   },
   "source": [
    "#### Evaluate Algorithms"
   ],
   "id": "60ictYSDuOCF"
  },
  {
   "cell_type": "code",
   "execution_count": 94,
   "metadata": {
    "colab": {
     "base_uri": "https://localhost:8080/"
    },
    "id": "7s2TYdzDuOfI",
    "outputId": "31a43a35-935e-461c-bf5c-26be202df427"
   },
   "outputs": [
    {
     "output_type": "stream",
     "name": "stdout",
     "text": [
      "LRG: 0.789596 (0.040986)\n",
      "RGC: 0.734478 (0.062344)\n",
      "KNN: 0.394882 (0.044307)\n",
      "SVM: 0.719394 (0.055745)\n",
      "BGC: 0.726902 (0.076125)\n",
      "RFC: 0.734108 (0.054311)\n",
      "GBC: 0.704747 (0.063751)\n",
      "LDA: 0.481347 (0.106478)\n",
      "DTC: 0.651380 (0.068716)\n",
      "XGB: 0.706599 (0.067102)\n"
     ]
    }
   ],
   "source": [
    "# Evaluate Algorithms\n",
    "\n",
    "# Test options and evaluation metric\n",
    "num_folds = 10\n",
    "seed = 7\n",
    "scoring = 'accuracy'\n",
    "\n",
    "_sm_results = []\n",
    "_sm_names = []\n",
    "for name, model in sm_models:\n",
    "\tkfold = KFold(n_splits=num_folds)\n",
    "\ty_temp = _y_test.reshape(-1)\n",
    "\tif name == 'XGB':\n",
    "\t\ty_temp = _y_test.reshape(-1) - 1\n",
    "\tcv_results = cross_val_score(model, _X_test_scaled, y_temp, cv=kfold, scoring=scoring)\n",
    "\t_sm_results.append(cv_results)\n",
    "\t_sm_names.append(name)\n",
    "\tmsg = \"%s: %f (%f)\" % (name, cv_results.mean(), cv_results.std())\n",
    "\tprint(msg)"
   ],
   "id": "7s2TYdzDuOfI"
  },
  {
   "cell_type": "code",
   "execution_count": 95,
   "metadata": {
    "colab": {
     "base_uri": "https://localhost:8080/",
     "height": 363
    },
    "id": "CHakt_pauXoI",
    "outputId": "be106866-b3f6-4fe7-d64f-adf9bba59a8e"
   },
   "outputs": [
    {
     "output_type": "execute_result",
     "data": {
      "text/plain": [
       "            0         1         2         3         4         5         6  \\\n",
       "LRG  0.781818  0.836364  0.814815  0.722222  0.740741  0.796296  0.870370   \n",
       "RGC  0.690909  0.690909  0.796296  0.629630  0.703704  0.851852  0.796296   \n",
       "KNN  0.381818  0.381818  0.481481  0.388889  0.462963  0.351852  0.351852   \n",
       "SVM  0.690909  0.836364  0.703704  0.629630  0.703704  0.703704  0.703704   \n",
       "BGC  0.618182  0.854545  0.722222  0.703704  0.796296  0.722222  0.666667   \n",
       "RFC  0.727273  0.854545  0.703704  0.629630  0.740741  0.703704  0.740741   \n",
       "GBC  0.618182  0.818182  0.685185  0.611111  0.648148  0.722222  0.759259   \n",
       "LDA  0.454545  0.618182  0.592593  0.537037  0.481481  0.388889  0.240741   \n",
       "DTC  0.509091  0.745455  0.703704  0.611111  0.685185  0.666667  0.666667   \n",
       "XGB  0.618182  0.818182  0.629630  0.685185  0.722222  0.703704  0.722222   \n",
       "\n",
       "            7         8         9  \n",
       "LRG  0.777778  0.777778  0.777778  \n",
       "RGC  0.722222  0.759259  0.703704  \n",
       "KNN  0.370370  0.425926  0.351852  \n",
       "SVM  0.796296  0.740741  0.685185  \n",
       "BGC  0.796296  0.777778  0.611111  \n",
       "RFC  0.777778  0.740741  0.722222  \n",
       "GBC  0.759259  0.740741  0.685185  \n",
       "LDA  0.574074  0.500000  0.425926  \n",
       "DTC  0.703704  0.666667  0.555556  \n",
       "XGB  0.722222  0.814815  0.629630  "
      ],
      "text/html": [
       "\n",
       "  <div id=\"df-0a09ddae-b2bb-4585-b227-0c43d6fba7b0\" class=\"colab-df-container\">\n",
       "    <div>\n",
       "<style scoped>\n",
       "    .dataframe tbody tr th:only-of-type {\n",
       "        vertical-align: middle;\n",
       "    }\n",
       "\n",
       "    .dataframe tbody tr th {\n",
       "        vertical-align: top;\n",
       "    }\n",
       "\n",
       "    .dataframe thead th {\n",
       "        text-align: right;\n",
       "    }\n",
       "</style>\n",
       "<table border=\"1\" class=\"dataframe\">\n",
       "  <thead>\n",
       "    <tr style=\"text-align: right;\">\n",
       "      <th></th>\n",
       "      <th>0</th>\n",
       "      <th>1</th>\n",
       "      <th>2</th>\n",
       "      <th>3</th>\n",
       "      <th>4</th>\n",
       "      <th>5</th>\n",
       "      <th>6</th>\n",
       "      <th>7</th>\n",
       "      <th>8</th>\n",
       "      <th>9</th>\n",
       "    </tr>\n",
       "  </thead>\n",
       "  <tbody>\n",
       "    <tr>\n",
       "      <th>LRG</th>\n",
       "      <td>0.781818</td>\n",
       "      <td>0.836364</td>\n",
       "      <td>0.814815</td>\n",
       "      <td>0.722222</td>\n",
       "      <td>0.740741</td>\n",
       "      <td>0.796296</td>\n",
       "      <td>0.870370</td>\n",
       "      <td>0.777778</td>\n",
       "      <td>0.777778</td>\n",
       "      <td>0.777778</td>\n",
       "    </tr>\n",
       "    <tr>\n",
       "      <th>RGC</th>\n",
       "      <td>0.690909</td>\n",
       "      <td>0.690909</td>\n",
       "      <td>0.796296</td>\n",
       "      <td>0.629630</td>\n",
       "      <td>0.703704</td>\n",
       "      <td>0.851852</td>\n",
       "      <td>0.796296</td>\n",
       "      <td>0.722222</td>\n",
       "      <td>0.759259</td>\n",
       "      <td>0.703704</td>\n",
       "    </tr>\n",
       "    <tr>\n",
       "      <th>KNN</th>\n",
       "      <td>0.381818</td>\n",
       "      <td>0.381818</td>\n",
       "      <td>0.481481</td>\n",
       "      <td>0.388889</td>\n",
       "      <td>0.462963</td>\n",
       "      <td>0.351852</td>\n",
       "      <td>0.351852</td>\n",
       "      <td>0.370370</td>\n",
       "      <td>0.425926</td>\n",
       "      <td>0.351852</td>\n",
       "    </tr>\n",
       "    <tr>\n",
       "      <th>SVM</th>\n",
       "      <td>0.690909</td>\n",
       "      <td>0.836364</td>\n",
       "      <td>0.703704</td>\n",
       "      <td>0.629630</td>\n",
       "      <td>0.703704</td>\n",
       "      <td>0.703704</td>\n",
       "      <td>0.703704</td>\n",
       "      <td>0.796296</td>\n",
       "      <td>0.740741</td>\n",
       "      <td>0.685185</td>\n",
       "    </tr>\n",
       "    <tr>\n",
       "      <th>BGC</th>\n",
       "      <td>0.618182</td>\n",
       "      <td>0.854545</td>\n",
       "      <td>0.722222</td>\n",
       "      <td>0.703704</td>\n",
       "      <td>0.796296</td>\n",
       "      <td>0.722222</td>\n",
       "      <td>0.666667</td>\n",
       "      <td>0.796296</td>\n",
       "      <td>0.777778</td>\n",
       "      <td>0.611111</td>\n",
       "    </tr>\n",
       "    <tr>\n",
       "      <th>RFC</th>\n",
       "      <td>0.727273</td>\n",
       "      <td>0.854545</td>\n",
       "      <td>0.703704</td>\n",
       "      <td>0.629630</td>\n",
       "      <td>0.740741</td>\n",
       "      <td>0.703704</td>\n",
       "      <td>0.740741</td>\n",
       "      <td>0.777778</td>\n",
       "      <td>0.740741</td>\n",
       "      <td>0.722222</td>\n",
       "    </tr>\n",
       "    <tr>\n",
       "      <th>GBC</th>\n",
       "      <td>0.618182</td>\n",
       "      <td>0.818182</td>\n",
       "      <td>0.685185</td>\n",
       "      <td>0.611111</td>\n",
       "      <td>0.648148</td>\n",
       "      <td>0.722222</td>\n",
       "      <td>0.759259</td>\n",
       "      <td>0.759259</td>\n",
       "      <td>0.740741</td>\n",
       "      <td>0.685185</td>\n",
       "    </tr>\n",
       "    <tr>\n",
       "      <th>LDA</th>\n",
       "      <td>0.454545</td>\n",
       "      <td>0.618182</td>\n",
       "      <td>0.592593</td>\n",
       "      <td>0.537037</td>\n",
       "      <td>0.481481</td>\n",
       "      <td>0.388889</td>\n",
       "      <td>0.240741</td>\n",
       "      <td>0.574074</td>\n",
       "      <td>0.500000</td>\n",
       "      <td>0.425926</td>\n",
       "    </tr>\n",
       "    <tr>\n",
       "      <th>DTC</th>\n",
       "      <td>0.509091</td>\n",
       "      <td>0.745455</td>\n",
       "      <td>0.703704</td>\n",
       "      <td>0.611111</td>\n",
       "      <td>0.685185</td>\n",
       "      <td>0.666667</td>\n",
       "      <td>0.666667</td>\n",
       "      <td>0.703704</td>\n",
       "      <td>0.666667</td>\n",
       "      <td>0.555556</td>\n",
       "    </tr>\n",
       "    <tr>\n",
       "      <th>XGB</th>\n",
       "      <td>0.618182</td>\n",
       "      <td>0.818182</td>\n",
       "      <td>0.629630</td>\n",
       "      <td>0.685185</td>\n",
       "      <td>0.722222</td>\n",
       "      <td>0.703704</td>\n",
       "      <td>0.722222</td>\n",
       "      <td>0.722222</td>\n",
       "      <td>0.814815</td>\n",
       "      <td>0.629630</td>\n",
       "    </tr>\n",
       "  </tbody>\n",
       "</table>\n",
       "</div>\n",
       "    <div class=\"colab-df-buttons\">\n",
       "\n",
       "  <div class=\"colab-df-container\">\n",
       "    <button class=\"colab-df-convert\" onclick=\"convertToInteractive('df-0a09ddae-b2bb-4585-b227-0c43d6fba7b0')\"\n",
       "            title=\"Convert this dataframe to an interactive table.\"\n",
       "            style=\"display:none;\">\n",
       "\n",
       "  <svg xmlns=\"http://www.w3.org/2000/svg\" height=\"24px\" viewBox=\"0 -960 960 960\">\n",
       "    <path d=\"M120-120v-720h720v720H120Zm60-500h600v-160H180v160Zm220 220h160v-160H400v160Zm0 220h160v-160H400v160ZM180-400h160v-160H180v160Zm440 0h160v-160H620v160ZM180-180h160v-160H180v160Zm440 0h160v-160H620v160Z\"/>\n",
       "  </svg>\n",
       "    </button>\n",
       "\n",
       "  <style>\n",
       "    .colab-df-container {\n",
       "      display:flex;\n",
       "      gap: 12px;\n",
       "    }\n",
       "\n",
       "    .colab-df-convert {\n",
       "      background-color: #E8F0FE;\n",
       "      border: none;\n",
       "      border-radius: 50%;\n",
       "      cursor: pointer;\n",
       "      display: none;\n",
       "      fill: #1967D2;\n",
       "      height: 32px;\n",
       "      padding: 0 0 0 0;\n",
       "      width: 32px;\n",
       "    }\n",
       "\n",
       "    .colab-df-convert:hover {\n",
       "      background-color: #E2EBFA;\n",
       "      box-shadow: 0px 1px 2px rgba(60, 64, 67, 0.3), 0px 1px 3px 1px rgba(60, 64, 67, 0.15);\n",
       "      fill: #174EA6;\n",
       "    }\n",
       "\n",
       "    .colab-df-buttons div {\n",
       "      margin-bottom: 4px;\n",
       "    }\n",
       "\n",
       "    [theme=dark] .colab-df-convert {\n",
       "      background-color: #3B4455;\n",
       "      fill: #D2E3FC;\n",
       "    }\n",
       "\n",
       "    [theme=dark] .colab-df-convert:hover {\n",
       "      background-color: #434B5C;\n",
       "      box-shadow: 0px 1px 3px 1px rgba(0, 0, 0, 0.15);\n",
       "      filter: drop-shadow(0px 1px 2px rgba(0, 0, 0, 0.3));\n",
       "      fill: #FFFFFF;\n",
       "    }\n",
       "  </style>\n",
       "\n",
       "    <script>\n",
       "      const buttonEl =\n",
       "        document.querySelector('#df-0a09ddae-b2bb-4585-b227-0c43d6fba7b0 button.colab-df-convert');\n",
       "      buttonEl.style.display =\n",
       "        google.colab.kernel.accessAllowed ? 'block' : 'none';\n",
       "\n",
       "      async function convertToInteractive(key) {\n",
       "        const element = document.querySelector('#df-0a09ddae-b2bb-4585-b227-0c43d6fba7b0');\n",
       "        const dataTable =\n",
       "          await google.colab.kernel.invokeFunction('convertToInteractive',\n",
       "                                                    [key], {});\n",
       "        if (!dataTable) return;\n",
       "\n",
       "        const docLinkHtml = 'Like what you see? Visit the ' +\n",
       "          '<a target=\"_blank\" href=https://colab.research.google.com/notebooks/data_table.ipynb>data table notebook</a>'\n",
       "          + ' to learn more about interactive tables.';\n",
       "        element.innerHTML = '';\n",
       "        dataTable['output_type'] = 'display_data';\n",
       "        await google.colab.output.renderOutput(dataTable, element);\n",
       "        const docLink = document.createElement('div');\n",
       "        docLink.innerHTML = docLinkHtml;\n",
       "        element.appendChild(docLink);\n",
       "      }\n",
       "    </script>\n",
       "  </div>\n",
       "\n",
       "\n",
       "<div id=\"df-7a3ad5ea-d7bf-4a3b-841d-dc64f9064e9b\">\n",
       "  <button class=\"colab-df-quickchart\" onclick=\"quickchart('df-7a3ad5ea-d7bf-4a3b-841d-dc64f9064e9b')\"\n",
       "            title=\"Suggest charts\"\n",
       "            style=\"display:none;\">\n",
       "\n",
       "<svg xmlns=\"http://www.w3.org/2000/svg\" height=\"24px\"viewBox=\"0 0 24 24\"\n",
       "     width=\"24px\">\n",
       "    <g>\n",
       "        <path d=\"M19 3H5c-1.1 0-2 .9-2 2v14c0 1.1.9 2 2 2h14c1.1 0 2-.9 2-2V5c0-1.1-.9-2-2-2zM9 17H7v-7h2v7zm4 0h-2V7h2v10zm4 0h-2v-4h2v4z\"/>\n",
       "    </g>\n",
       "</svg>\n",
       "  </button>\n",
       "\n",
       "<style>\n",
       "  .colab-df-quickchart {\n",
       "      --bg-color: #E8F0FE;\n",
       "      --fill-color: #1967D2;\n",
       "      --hover-bg-color: #E2EBFA;\n",
       "      --hover-fill-color: #174EA6;\n",
       "      --disabled-fill-color: #AAA;\n",
       "      --disabled-bg-color: #DDD;\n",
       "  }\n",
       "\n",
       "  [theme=dark] .colab-df-quickchart {\n",
       "      --bg-color: #3B4455;\n",
       "      --fill-color: #D2E3FC;\n",
       "      --hover-bg-color: #434B5C;\n",
       "      --hover-fill-color: #FFFFFF;\n",
       "      --disabled-bg-color: #3B4455;\n",
       "      --disabled-fill-color: #666;\n",
       "  }\n",
       "\n",
       "  .colab-df-quickchart {\n",
       "    background-color: var(--bg-color);\n",
       "    border: none;\n",
       "    border-radius: 50%;\n",
       "    cursor: pointer;\n",
       "    display: none;\n",
       "    fill: var(--fill-color);\n",
       "    height: 32px;\n",
       "    padding: 0;\n",
       "    width: 32px;\n",
       "  }\n",
       "\n",
       "  .colab-df-quickchart:hover {\n",
       "    background-color: var(--hover-bg-color);\n",
       "    box-shadow: 0 1px 2px rgba(60, 64, 67, 0.3), 0 1px 3px 1px rgba(60, 64, 67, 0.15);\n",
       "    fill: var(--button-hover-fill-color);\n",
       "  }\n",
       "\n",
       "  .colab-df-quickchart-complete:disabled,\n",
       "  .colab-df-quickchart-complete:disabled:hover {\n",
       "    background-color: var(--disabled-bg-color);\n",
       "    fill: var(--disabled-fill-color);\n",
       "    box-shadow: none;\n",
       "  }\n",
       "\n",
       "  .colab-df-spinner {\n",
       "    border: 2px solid var(--fill-color);\n",
       "    border-color: transparent;\n",
       "    border-bottom-color: var(--fill-color);\n",
       "    animation:\n",
       "      spin 1s steps(1) infinite;\n",
       "  }\n",
       "\n",
       "  @keyframes spin {\n",
       "    0% {\n",
       "      border-color: transparent;\n",
       "      border-bottom-color: var(--fill-color);\n",
       "      border-left-color: var(--fill-color);\n",
       "    }\n",
       "    20% {\n",
       "      border-color: transparent;\n",
       "      border-left-color: var(--fill-color);\n",
       "      border-top-color: var(--fill-color);\n",
       "    }\n",
       "    30% {\n",
       "      border-color: transparent;\n",
       "      border-left-color: var(--fill-color);\n",
       "      border-top-color: var(--fill-color);\n",
       "      border-right-color: var(--fill-color);\n",
       "    }\n",
       "    40% {\n",
       "      border-color: transparent;\n",
       "      border-right-color: var(--fill-color);\n",
       "      border-top-color: var(--fill-color);\n",
       "    }\n",
       "    60% {\n",
       "      border-color: transparent;\n",
       "      border-right-color: var(--fill-color);\n",
       "    }\n",
       "    80% {\n",
       "      border-color: transparent;\n",
       "      border-right-color: var(--fill-color);\n",
       "      border-bottom-color: var(--fill-color);\n",
       "    }\n",
       "    90% {\n",
       "      border-color: transparent;\n",
       "      border-bottom-color: var(--fill-color);\n",
       "    }\n",
       "  }\n",
       "</style>\n",
       "\n",
       "  <script>\n",
       "    async function quickchart(key) {\n",
       "      const quickchartButtonEl =\n",
       "        document.querySelector('#' + key + ' button');\n",
       "      quickchartButtonEl.disabled = true;  // To prevent multiple clicks.\n",
       "      quickchartButtonEl.classList.add('colab-df-spinner');\n",
       "      try {\n",
       "        const charts = await google.colab.kernel.invokeFunction(\n",
       "            'suggestCharts', [key], {});\n",
       "      } catch (error) {\n",
       "        console.error('Error during call to suggestCharts:', error);\n",
       "      }\n",
       "      quickchartButtonEl.classList.remove('colab-df-spinner');\n",
       "      quickchartButtonEl.classList.add('colab-df-quickchart-complete');\n",
       "    }\n",
       "    (() => {\n",
       "      let quickchartButtonEl =\n",
       "        document.querySelector('#df-7a3ad5ea-d7bf-4a3b-841d-dc64f9064e9b button');\n",
       "      quickchartButtonEl.style.display =\n",
       "        google.colab.kernel.accessAllowed ? 'block' : 'none';\n",
       "    })();\n",
       "  </script>\n",
       "</div>\n",
       "    </div>\n",
       "  </div>\n"
      ]
     },
     "metadata": {},
     "execution_count": 95
    }
   ],
   "source": [
    "_df_sm_results = pd.DataFrame(data=_sm_results, index=_names)\n",
    "_df_sm_results"
   ],
   "id": "CHakt_pauXoI"
  },
  {
   "cell_type": "code",
   "execution_count": 96,
   "metadata": {
    "colab": {
     "base_uri": "https://localhost:8080/"
    },
    "id": "Dt5H7fkGun-r",
    "outputId": "f798d0d5-3a6e-4bc6-e0b9-917ea8e5dc93"
   },
   "outputs": [
    {
     "output_type": "execute_result",
     "data": {
      "text/plain": [
       "LRG    0.870370\n",
       "RGC    0.851852\n",
       "KNN    0.481481\n",
       "SVM    0.836364\n",
       "BGC    0.854545\n",
       "RFC    0.854545\n",
       "GBC    0.818182\n",
       "LDA    0.618182\n",
       "DTC    0.745455\n",
       "XGB    0.818182\n",
       "dtype: float64"
      ]
     },
     "metadata": {},
     "execution_count": 96
    }
   ],
   "source": [
    "_df_sm_results.max(axis=1)"
   ],
   "id": "Dt5H7fkGun-r"
  },
  {
   "cell_type": "markdown",
   "metadata": {
    "id": "L_9XT1OxvBR2"
   },
   "source": [
    "## Comparison"
   ],
   "id": "L_9XT1OxvBR2"
  },
  {
   "cell_type": "code",
   "execution_count": 97,
   "metadata": {
    "colab": {
     "base_uri": "https://localhost:8080/",
     "height": 478
    },
    "id": "Oa4Zr6aivAMH",
    "outputId": "48c63fb5-8097-46fd-90c1-6eef403bd78e"
   },
   "outputs": [
    {
     "output_type": "display_data",
     "data": {
      "text/plain": [
       "<Figure size 640x480 with 1 Axes>"
      ],
      "image/png": "[encoded data removed]"
     },
     "metadata": {}
    }
   ],
   "source": [
    "# Compare Algorithms\n",
    "fig = plt.figure()\n",
    "fig.suptitle('Algorithm Comparison')\n",
    "ax = fig.add_subplot(111)\n",
    "plt.boxplot(_sm_results)\n",
    "ax.set_xticklabels(_names)\n",
    "plt.show()"
   ],
   "id": "Oa4Zr6aivAMH"
  },
  {
   "cell_type": "markdown",
   "source": [
    "Nous pouvons remarquer une amélioration de l'accuracy des modèles lorsque l'on règle le problème de déséquilibre des classes. On note également une meilleur performance du modèle **LogisticRegression** (0.87) suivi des modèles ```RidgeClassifier```, ```BagginClassifier``` et ```RandomForest``` qui obtienne une accuracy simmilaire (0.85). Il est aussi à noter que ```LDA``` même s'il n'obtient pas un grande accauracy s'est vu son accurancy augmenté notament du l'enrichissement des données et du ré-échantillonnage. Par contre ```KNN``` reste relativement faible en terme d'accuracy malgré une légére amélioration de son accuracy.\n",
    "\n",
    "Un hypothèse pour le KNN serait que la métrique de distance utilisé  pour inférer les classes n'est pas adapté à la structure des documents."
   ],
   "metadata": {
    "id": "dLQCoSk55kiM"
   },
   "id": "dLQCoSk55kiM"
  },
  {
   "cell_type": "code",
   "source": [],
   "metadata": {
    "id": "LLCrfkOW7CSs"
   },
   "id": "LLCrfkOW7CSs",
   "execution_count": null,
   "outputs": []
  }
 ],
 "metadata": {
  "colab": {
   "machine_shape": "hm",
   "provenance": []
  },
  "kernelspec": {
   "name": "python3",
   "language": "python",
   "display_name": "Python 3 (ipykernel)"
  },
  "language_info": {
   "codemirror_mode": {
    "name": "ipython",
    "version": 3
   },
   "file_extension": ".py",
   "mimetype": "text/x-python",
   "name": "python",
   "nbconvert_exporter": "python",
   "pygments_lexer": "ipython3",
   "version": "3.9.17"
  }
 },
 "nbformat": 4,
 "nbformat_minor": 5
}
